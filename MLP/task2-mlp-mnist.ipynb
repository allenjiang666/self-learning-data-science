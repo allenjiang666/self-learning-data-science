{
 "cells": [
  {
   "cell_type": "markdown",
   "metadata": {
    "toc": true
   },
   "source": [
    "<h1>Table of Contents<span class=\"tocSkip\"></span></h1>\n",
    "<div class=\"toc\"><ul class=\"toc-item\"><li><span><a href=\"#Load-the-data\" data-toc-modified-id=\"Load-the-data-1\"><span class=\"toc-item-num\">1&nbsp;&nbsp;</span>Load the data</a></span></li><li><span><a href=\"#Visualize-the-data\" data-toc-modified-id=\"Visualize-the-data-2\"><span class=\"toc-item-num\">2&nbsp;&nbsp;</span>Visualize the data</a></span></li><li><span><a href=\"#Format-the-input-data\" data-toc-modified-id=\"Format-the-input-data-3\"><span class=\"toc-item-num\">3&nbsp;&nbsp;</span>Format the input data</a></span></li><li><span><a href=\"#Normalize-the-input-data\" data-toc-modified-id=\"Normalize-the-input-data-4\"><span class=\"toc-item-num\">4&nbsp;&nbsp;</span>Normalize the input data</a></span></li><li><span><a href=\"#Format-the-output-data(labels)\" data-toc-modified-id=\"Format-the-output-data(labels)-5\"><span class=\"toc-item-num\">5&nbsp;&nbsp;</span>Format the output data(labels)</a></span></li><li><span><a href=\"#Set-up-the-mlp-model\" data-toc-modified-id=\"Set-up-the-mlp-model-6\"><span class=\"toc-item-num\">6&nbsp;&nbsp;</span>Set up the mlp model</a></span></li><li><span><a href=\"#Configure-the-model\" data-toc-modified-id=\"Configure-the-model-7\"><span class=\"toc-item-num\">7&nbsp;&nbsp;</span>Configure the model</a></span></li><li><span><a href=\"#Train-the-model\" data-toc-modified-id=\"Train-the-model-8\"><span class=\"toc-item-num\">8&nbsp;&nbsp;</span>Train the model</a></span></li><li><span><a href=\"#Evaluate-the-model\" data-toc-modified-id=\"Evaluate-the-model-9\"><span class=\"toc-item-num\">9&nbsp;&nbsp;</span>Evaluate the model</a></span></li><li><span><a href=\"#Test-different-predictions-on-subplots\" data-toc-modified-id=\"Test-different-predictions-on-subplots-10\"><span class=\"toc-item-num\">10&nbsp;&nbsp;</span>Test different predictions on subplots</a></span></li></ul></div>"
   ]
  },
  {
   "cell_type": "markdown",
   "metadata": {},
   "source": [
    "# Image Recognition"
   ]
  },
  {
   "cell_type": "raw",
   "metadata": {},
   "source": [
    "基于mnist数据集，建立mlp模型，实现0-9数字的十分类task：：\n",
    "\n",
    "1.实现mnist数据载入，可视化图形数字\n",
    "2.完成数据预处理：图像数据维度转换与归一化、输出结果格式转换\n",
    "3.计算模型在预测数据集的准确率\n",
    "4.模型结构：两层隐藏层，每层有392个神经元"
   ]
  },
  {
   "cell_type": "markdown",
   "metadata": {},
   "source": [
    "**模型训练时提示kernal restarting， 解决方法如下**"
   ]
  },
  {
   "cell_type": "code",
   "execution_count": 1,
   "metadata": {},
   "outputs": [],
   "source": [
    "from sklearn.model_selection import train_test_split"
   ]
  },
  {
   "cell_type": "markdown",
   "metadata": {},
   "source": [
    "## Load the data"
   ]
  },
  {
   "cell_type": "code",
   "execution_count": 2,
   "metadata": {},
   "outputs": [
    {
     "name": "stderr",
     "output_type": "stream",
     "text": [
      "Using TensorFlow backend.\n",
      "/usr/local/anaconda3/lib/python3.7/importlib/_bootstrap.py:219: RuntimeWarning: numpy.ufunc size changed, may indicate binary incompatibility. Expected 192 from C header, got 216 from PyObject\n",
      "  return f(*args, **kwds)\n",
      "/usr/local/anaconda3/lib/python3.7/importlib/_bootstrap.py:219: RuntimeWarning: numpy.ufunc size changed, may indicate binary incompatibility. Expected 192 from C header, got 216 from PyObject\n",
      "  return f(*args, **kwds)\n"
     ]
    }
   ],
   "source": [
    "from keras.datasets import mnist\n",
    "(X_train, y_train), (X_test, y_test)= mnist.load_data()"
   ]
  },
  {
   "cell_type": "code",
   "execution_count": 3,
   "metadata": {},
   "outputs": [
    {
     "name": "stdout",
     "output_type": "stream",
     "text": [
      "<class 'numpy.ndarray'> (60000, 28, 28)\n"
     ]
    }
   ],
   "source": [
    "print(type(X_train), X_train.shape)"
   ]
  },
  {
   "cell_type": "markdown",
   "metadata": {},
   "source": [
    "## Visualize the data"
   ]
  },
  {
   "cell_type": "code",
   "execution_count": 4,
   "metadata": {},
   "outputs": [
    {
     "data": {
      "image/png": "[encoded data removed]",
      "text/plain": [
       "<Figure size 288x288 with 1 Axes>"
      ]
     },
     "metadata": {
      "needs_background": "light"
     },
     "output_type": "display_data"
    }
   ],
   "source": [
    "img1= X_train[0]\n",
    "%matplotlib inline\n",
    "from matplotlib import pyplot as plt\n",
    "fig1 = plt.figure(figsize=(4,4))\n",
    "plt.imshow(img1)\n",
    "plt.title(y_train[0])\n",
    "plt.show()"
   ]
  },
  {
   "cell_type": "markdown",
   "metadata": {},
   "source": [
    "## Format the input data"
   ]
  },
  {
   "cell_type": "code",
   "execution_count": 5,
   "metadata": {},
   "outputs": [
    {
     "name": "stdout",
     "output_type": "stream",
     "text": [
      "(60000, 784)\n"
     ]
    }
   ],
   "source": [
    "feature_size = img1.shape[0]*img1.shape[1] # 对二维图像中每个像素进行编号作为一个feature，然后像素的值作为value。\n",
    "\n",
    "X_train_format = X_train.reshape(X_train.shape[0],feature_size)# (60000,28,28) --> (60000, 784)\n",
    "X_test_format = X_test.reshape(X_test.shape[0],feature_size)\n",
    "\n",
    "\n",
    "print(X_train_format.shape)"
   ]
  },
  {
   "cell_type": "markdown",
   "metadata": {},
   "source": [
    "## Normalize the input data"
   ]
  },
  {
   "cell_type": "code",
   "execution_count": 6,
   "metadata": {
    "scrolled": false
   },
   "outputs": [],
   "source": [
    "X_train_normal =X_train_format/255\n",
    "X_test_normal = X_test_format/255\n",
    "# 像素的值是1-255， 所以要除以255"
   ]
  },
  {
   "cell_type": "markdown",
   "metadata": {},
   "source": [
    "## Format the output data(labels)"
   ]
  },
  {
   "cell_type": "code",
   "execution_count": 7,
   "metadata": {},
   "outputs": [
    {
     "name": "stdout",
     "output_type": "stream",
     "text": [
      "5\n",
      "[0. 0. 0. 0. 0. 1. 0. 0. 0. 0.]\n"
     ]
    }
   ],
   "source": [
    "from keras.utils import to_categorical\n",
    "y_train_format = to_categorical(y_train)\n",
    "y_test_format = to_categorical(y_test)\n",
    "\n",
    "print(y_train[0])\n",
    "print(y_train_format[0])"
   ]
  },
  {
   "cell_type": "code",
   "execution_count": 8,
   "metadata": {},
   "outputs": [
    {
     "name": "stdout",
     "output_type": "stream",
     "text": [
      "(60000, 784) (60000, 10)\n"
     ]
    }
   ],
   "source": [
    "print(X_train_normal.shape,y_train_format.shape) "
   ]
  },
  {
   "cell_type": "markdown",
   "metadata": {},
   "source": [
    "![mlp](images/mlp.png)\n",
    "**每层神经元的数量是之前的一半。**"
   ]
  },
  {
   "cell_type": "markdown",
   "metadata": {},
   "source": [
    "## Set up the mlp model"
   ]
  },
  {
   "cell_type": "code",
   "execution_count": 9,
   "metadata": {},
   "outputs": [
    {
     "name": "stdout",
     "output_type": "stream",
     "text": [
      "Model: \"sequential_1\"\n",
      "_________________________________________________________________\n",
      "Layer (type)                 Output Shape              Param #   \n",
      "=================================================================\n",
      "dense_1 (Dense)              (None, 784)               615440    \n",
      "_________________________________________________________________\n",
      "dense_2 (Dense)              (None, 392)               307720    \n",
      "_________________________________________________________________\n",
      "dense_3 (Dense)              (None, 10)                3930      \n",
      "=================================================================\n",
      "Total params: 927,090\n",
      "Trainable params: 927,090\n",
      "Non-trainable params: 0\n",
      "_________________________________________________________________\n"
     ]
    }
   ],
   "source": [
    "from keras.models import Sequential\n",
    "from keras.layers import Dense, Activation\n",
    "\n",
    "mlp = Sequential()\n",
    "mlp.add(Dense(units=784, activation='sigmoid', input_dim=feature_size))\n",
    "mlp.add(Dense(units=392, activation='sigmoid'))\n",
    "mlp.add(Dense(units=10, activation='softmax'))\n",
    "\n",
    "mlp.summary()"
   ]
  },
  {
   "cell_type": "markdown",
   "metadata": {},
   "source": [
    "## Configure the model"
   ]
  },
  {
   "cell_type": "code",
   "execution_count": 10,
   "metadata": {},
   "outputs": [],
   "source": [
    "mlp.compile(loss='categorical_crossentropy', optimizer='adam')"
   ]
  },
  {
   "cell_type": "markdown",
   "metadata": {},
   "source": [
    "## Train the model"
   ]
  },
  {
   "cell_type": "code",
   "execution_count": 11,
   "metadata": {},
   "outputs": [
    {
     "name": "stdout",
     "output_type": "stream",
     "text": [
      "Epoch 1/10\n",
      "60000/60000 [==============================] - 29s 486us/step - loss: 0.3267\n",
      "Epoch 2/10\n",
      "60000/60000 [==============================] - 30s 496us/step - loss: 0.1362\n",
      "Epoch 3/10\n",
      "60000/60000 [==============================] - 30s 508us/step - loss: 0.0842\n",
      "Epoch 4/10\n",
      "60000/60000 [==============================] - 31s 512us/step - loss: 0.0590\n",
      "Epoch 5/10\n",
      "60000/60000 [==============================] - 30s 505us/step - loss: 0.0419\n",
      "Epoch 6/10\n",
      "60000/60000 [==============================] - 31s 518us/step - loss: 0.0307\n",
      "Epoch 7/10\n",
      "60000/60000 [==============================] - 32s 527us/step - loss: 0.0223\n",
      "Epoch 8/10\n",
      "60000/60000 [==============================] - 32s 527us/step - loss: 0.0184\n",
      "Epoch 9/10\n",
      "60000/60000 [==============================] - 33s 545us/step - loss: 0.0123\n",
      "Epoch 10/10\n",
      "60000/60000 [==============================] - 32s 540us/step - loss: 0.0121\n"
     ]
    },
    {
     "data": {
      "text/plain": [
       "<keras.callbacks.callbacks.History at 0x7f92b45fc950>"
      ]
     },
     "execution_count": 11,
     "metadata": {},
     "output_type": "execute_result"
    }
   ],
   "source": [
    "mlp.fit(X_train_normal,y_train_format,epochs=10)"
   ]
  },
  {
   "cell_type": "markdown",
   "metadata": {},
   "source": [
    "## Evaluate the model"
   ]
  },
  {
   "cell_type": "code",
   "execution_count": 15,
   "metadata": {},
   "outputs": [
    {
     "name": "stdout",
     "output_type": "stream",
     "text": [
      "<class 'numpy.ndarray'>\n"
     ]
    }
   ],
   "source": [
    "y_train_predict = mlp.predict_classes(X_train_normal)\n",
    "print(type(y_train_predict))"
   ]
  },
  {
   "cell_type": "code",
   "execution_count": 16,
   "metadata": {},
   "outputs": [
    {
     "name": "stdout",
     "output_type": "stream",
     "text": [
      "[5 0 4 1 9 2 1 3 1 4]\n"
     ]
    }
   ],
   "source": [
    "print(y_train_predict[0:10])"
   ]
  },
  {
   "cell_type": "code",
   "execution_count": 17,
   "metadata": {},
   "outputs": [
    {
     "data": {
      "text/plain": [
       "0.9977166666666667"
      ]
     },
     "execution_count": 17,
     "metadata": {},
     "output_type": "execute_result"
    }
   ],
   "source": [
    "from sklearn.metrics import accuracy_score\n",
    "accuracy_train = accuracy_score(y_train, y_train_predict)\n",
    "accuracy_train"
   ]
  },
  {
   "cell_type": "code",
   "execution_count": 18,
   "metadata": {},
   "outputs": [
    {
     "name": "stdout",
     "output_type": "stream",
     "text": [
      "0.9826\n"
     ]
    }
   ],
   "source": [
    "y_test_predict = mlp.predict_classes(X_test_normal)\n",
    "accuracy_test = accuracy_score(y_test,y_test_predict)\n",
    "print(accuracy_test)"
   ]
  },
  {
   "cell_type": "code",
   "execution_count": 16,
   "metadata": {
    "scrolled": true
   },
   "outputs": [
    {
     "data": {
      "image/png": "[encoded data removed]",
      "text/plain": [
       "<Figure size 216x216 with 1 Axes>"
      ]
     },
     "metadata": {
      "needs_background": "light"
     },
     "output_type": "display_data"
    }
   ],
   "source": [
    "img2 = X_test[100]\n",
    "fig2 = plt.figure(figsize=(3,3))\n",
    "plt.imshow(img2)\n",
    "plt.title(y_test_predict[100])\n",
    "plt.show()"
   ]
  },
  {
   "cell_type": "code",
   "execution_count": 19,
   "metadata": {},
   "outputs": [
    {
     "data": {
      "image/png": "[encoded data removed]",
      "text/plain": [
       "<Figure size 216x216 with 1 Axes>"
      ]
     },
     "metadata": {
      "needs_background": "light"
     },
     "output_type": "display_data"
    }
   ],
   "source": [
    "img3 = X_test[78]\n",
    "fig3 = plt.figure(figsize=(3,3))\n",
    "plt.imshow(img3)\n",
    "plt.title(y_test_predict[78])\n",
    "plt.show()"
   ]
  },
  {
   "cell_type": "markdown",
   "metadata": {},
   "source": [
    "## Test different predictions on subplots"
   ]
  },
  {
   "cell_type": "code",
   "execution_count": 29,
   "metadata": {
    "scrolled": true
   },
   "outputs": [
    {
     "data": {
      "image/png": "[encoded data removed]",
      "text/plain": [
       "<Figure size 360x360 with 9 Axes>"
      ]
     },
     "metadata": {},
     "output_type": "display_data"
    }
   ],
   "source": [
    "a = [i for i in range(1,10)]\n",
    "fig4 = plt.figure(figsize=(5,5))\n",
    "for i in a:\n",
    "    plt.subplot(3,3,i)\n",
    "    plt.tight_layout()# 自动调整每个图片之间的间距\n",
    "    plt.imshow(X_test[i+1])\n",
    "    plt.title('predict:{}'.format(y_test_predict[i+1]),font2)\n",
    "    plt.xticks([])\n",
    "    plt.yticks([])"
   ]
  },
  {
   "cell_type": "raw",
   "metadata": {},
   "source": [
    "图像数字多分类实战summary：\n",
    "1、通过mlp模型，实现了基于图像数据的数字自动识别分类；\n",
    "2、完成了图像的数字化处理与可视化；\n",
    "3、对mlp模型的输入、输出数据格式有了更深的认识，完成了数据预处理与格式转换；\n",
    "4、建立了结构更为复杂的mlp模型\n",
    "5、mnist数据集地址：http://yann.lecun.com/exdb/mnist/"
   ]
  }
 ],
 "metadata": {
  "kernelspec": {
   "display_name": "Python 3",
   "language": "python",
   "name": "python3"
  },
  "language_info": {
   "codemirror_mode": {
    "name": "ipython",
    "version": 3
   },
   "file_extension": ".py",
   "mimetype": "text/x-python",
   "name": "python",
   "nbconvert_exporter": "python",
   "pygments_lexer": "ipython3",
   "version": "3.7.4"
  },
  "toc": {
   "base_numbering": 1,
   "nav_menu": {},
   "number_sections": true,
   "sideBar": true,
   "skip_h1_title": true,
   "title_cell": "Table of Contents",
   "title_sidebar": "Contents",
   "toc_cell": true,
   "toc_position": {},
   "toc_section_display": true,
   "toc_window_display": false
  }
 },
 "nbformat": 4,
 "nbformat_minor": 1
}
