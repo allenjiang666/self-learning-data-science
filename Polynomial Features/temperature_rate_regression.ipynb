{
 "cells": [
  {
   "cell_type": "markdown",
   "metadata": {
    "toc": true
   },
   "source": [
    "<h1>Table of Contents<span class=\"tocSkip\"></span></h1>\n",
    "<div class=\"toc\"><ul class=\"toc-item\"><li><span><a href=\"#Linear-Regression\" data-toc-modified-id=\"Linear-Regression-1\"><span class=\"toc-item-num\">1&nbsp;&nbsp;</span>Linear Regression</a></span><ul class=\"toc-item\"><li><span><a href=\"#Load-the-data\" data-toc-modified-id=\"Load-the-data-1.1\"><span class=\"toc-item-num\">1.1&nbsp;&nbsp;</span>Load the data</a></span></li><li><span><a href=\"#Define-X_train-and-y_train\" data-toc-modified-id=\"Define-X_train-and-y_train-1.2\"><span class=\"toc-item-num\">1.2&nbsp;&nbsp;</span>Define X_train and y_train</a></span></li><li><span><a href=\"#Visualize-the-data\" data-toc-modified-id=\"Visualize-the-data-1.3\"><span class=\"toc-item-num\">1.3&nbsp;&nbsp;</span>Visualize the data</a></span></li><li><span><a href=\"#Linear-regression-model-prediction\" data-toc-modified-id=\"Linear-regression-model-prediction-1.4\"><span class=\"toc-item-num\">1.4&nbsp;&nbsp;</span>Linear regression model prediction</a></span></li><li><span><a href=\"#Load-the-test-data\" data-toc-modified-id=\"Load-the-test-data-1.5\"><span class=\"toc-item-num\">1.5&nbsp;&nbsp;</span>Load the test data</a></span></li><li><span><a href=\"#Make-prediction-on-the-training-and-testing-data\" data-toc-modified-id=\"Make-prediction-on-the-training-and-testing-data-1.6\"><span class=\"toc-item-num\">1.6&nbsp;&nbsp;</span>Make prediction on the training and testing data</a></span></li><li><span><a href=\"#Visualize-the-predictions\" data-toc-modified-id=\"Visualize-the-predictions-1.7\"><span class=\"toc-item-num\">1.7&nbsp;&nbsp;</span>Visualize the predictions</a></span></li></ul></li><li><span><a href=\"#Polynomial-features\" data-toc-modified-id=\"Polynomial-features-2\"><span class=\"toc-item-num\">2&nbsp;&nbsp;</span>Polynomial features</a></span><ul class=\"toc-item\"><li><span><a href=\"#Generate-new-features\" data-toc-modified-id=\"Generate-new-features-2.1\"><span class=\"toc-item-num\">2.1&nbsp;&nbsp;</span>Generate new features</a></span></li><li><span><a href=\"#Visualize-the-predictions\" data-toc-modified-id=\"Visualize-the-predictions-2.2\"><span class=\"toc-item-num\">2.2&nbsp;&nbsp;</span>Visualize the predictions</a></span></li><li><span><a href=\"#Add-polynomia-terms-degree-=5\" data-toc-modified-id=\"Add-polynomia-terms-degree-=5-2.3\"><span class=\"toc-item-num\">2.3&nbsp;&nbsp;</span>Add polynomia terms degree =5</a></span></li></ul></li></ul></div>"
   ]
  },
  {
   "cell_type": "markdown",
   "metadata": {},
   "source": [
    "# Polynomial Features"
   ]
  },
  {
   "cell_type": "raw",
   "metadata": {},
   "source": [
    "酶活性预测实战task：\n",
    "1、基于T-R-train.csv数据，建立线性回归模型，计算其在T-R-test.csv数据上的r2分数，可视化模型预测结果 \n",
    "2、加入多项式特征（2次、5次），建立回归模型\n",
    "3、计算多项式回归模型对测试数据进行预测的r2分数，判断哪个模型预测更准确\n",
    "4、可视化多项式回归模型数据预测结果，判断哪个模型预测更准确"
   ]
  },
  {
   "cell_type": "markdown",
   "metadata": {},
   "source": [
    "## Linear Regression"
   ]
  },
  {
   "cell_type": "markdown",
   "metadata": {},
   "source": [
    "### Load the data"
   ]
  },
  {
   "cell_type": "code",
   "execution_count": 1,
   "metadata": {},
   "outputs": [
    {
     "data": {
      "text/html": [
       "<div>\n",
       "<style scoped>\n",
       "    .dataframe tbody tr th:only-of-type {\n",
       "        vertical-align: middle;\n",
       "    }\n",
       "\n",
       "    .dataframe tbody tr th {\n",
       "        vertical-align: top;\n",
       "    }\n",
       "\n",
       "    .dataframe thead th {\n",
       "        text-align: right;\n",
       "    }\n",
       "</style>\n",
       "<table border=\"1\" class=\"dataframe\">\n",
       "  <thead>\n",
       "    <tr style=\"text-align: right;\">\n",
       "      <th></th>\n",
       "      <th>T</th>\n",
       "      <th>rate</th>\n",
       "    </tr>\n",
       "  </thead>\n",
       "  <tbody>\n",
       "    <tr>\n",
       "      <td>0</td>\n",
       "      <td>46.53</td>\n",
       "      <td>2.49</td>\n",
       "    </tr>\n",
       "    <tr>\n",
       "      <td>1</td>\n",
       "      <td>48.14</td>\n",
       "      <td>2.56</td>\n",
       "    </tr>\n",
       "    <tr>\n",
       "      <td>2</td>\n",
       "      <td>50.15</td>\n",
       "      <td>2.63</td>\n",
       "    </tr>\n",
       "    <tr>\n",
       "      <td>3</td>\n",
       "      <td>51.36</td>\n",
       "      <td>2.69</td>\n",
       "    </tr>\n",
       "    <tr>\n",
       "      <td>4</td>\n",
       "      <td>52.57</td>\n",
       "      <td>2.74</td>\n",
       "    </tr>\n",
       "  </tbody>\n",
       "</table>\n",
       "</div>"
      ],
      "text/plain": [
       "       T  rate\n",
       "0  46.53  2.49\n",
       "1  48.14  2.56\n",
       "2  50.15  2.63\n",
       "3  51.36  2.69\n",
       "4  52.57  2.74"
      ]
     },
     "execution_count": 1,
     "metadata": {},
     "output_type": "execute_result"
    }
   ],
   "source": [
    "import pandas as pd\n",
    "import numpy as np\n",
    "data_train = pd.read_csv('T-R-train.csv')\n",
    "data_train.head()"
   ]
  },
  {
   "cell_type": "markdown",
   "metadata": {},
   "source": [
    "### Define X_train and y_train"
   ]
  },
  {
   "cell_type": "code",
   "execution_count": 11,
   "metadata": {},
   "outputs": [
    {
     "data": {
      "text/plain": [
       "((18, 1), (18,))"
      ]
     },
     "execution_count": 11,
     "metadata": {},
     "output_type": "execute_result"
    }
   ],
   "source": [
    "X_train = data_train[['T']]\n",
    "y_train = data_train.rate\n",
    "X_train.shape, y_train.shape"
   ]
  },
  {
   "cell_type": "markdown",
   "metadata": {},
   "source": [
    "`X_train.T` don't use .T becasue it is a function. Use['T'] instead"
   ]
  },
  {
   "cell_type": "markdown",
   "metadata": {},
   "source": [
    "### Visualize the data"
   ]
  },
  {
   "cell_type": "code",
   "execution_count": 12,
   "metadata": {},
   "outputs": [
    {
     "data": {
      "image/png": "[encoded data removed]",
      "text/plain": [
       "<Figure size 576x360 with 1 Axes>"
      ]
     },
     "metadata": {
      "needs_background": "light"
     },
     "output_type": "display_data"
    }
   ],
   "source": [
    "%matplotlib inline\n",
    "from matplotlib import pyplot as plt\n",
    "fig1 = plt.figure(figsize=(8,5))\n",
    "plt.scatter(X_train, y_train)\n",
    "plt.title('raw data')\n",
    "plt.xlabel('temperature')\n",
    "plt.ylabel('rate')\n",
    "plt.show()"
   ]
  },
  {
   "cell_type": "markdown",
   "metadata": {},
   "source": [
    "### Linear regression model prediction"
   ]
  },
  {
   "cell_type": "code",
   "execution_count": 13,
   "metadata": {},
   "outputs": [
    {
     "data": {
      "text/plain": [
       "LinearRegression(copy_X=True, fit_intercept=True, n_jobs=None, normalize=False)"
      ]
     },
     "execution_count": 13,
     "metadata": {},
     "output_type": "execute_result"
    }
   ],
   "source": [
    "from sklearn.linear_model import LinearRegression\n",
    "LR = LinearRegression()\n",
    "LR.fit(X_train,y_train)"
   ]
  },
  {
   "cell_type": "markdown",
   "metadata": {},
   "source": [
    "### Load the test data"
   ]
  },
  {
   "cell_type": "code",
   "execution_count": 14,
   "metadata": {},
   "outputs": [
    {
     "data": {
      "text/plain": [
       "((7, 1), (7, 1))"
      ]
     },
     "execution_count": 14,
     "metadata": {},
     "output_type": "execute_result"
    }
   ],
   "source": [
    "data_test = pd.read_csv('T-R-test.csv')\n",
    "X_test = data_test[['T']]\n",
    "y_test = data_test[['rate']]\n",
    "X_test.shape, y_test.shape"
   ]
  },
  {
   "cell_type": "markdown",
   "metadata": {},
   "source": [
    "### Make prediction on the training and testing data"
   ]
  },
  {
   "cell_type": "code",
   "execution_count": 15,
   "metadata": {},
   "outputs": [
    {
     "name": "stdout",
     "output_type": "stream",
     "text": [
      "train r2 : 0.016665703886981964\n",
      "test r2 : -0.7583363437351314\n"
     ]
    }
   ],
   "source": [
    "y_train_predicted = LR.predict(X_train)\n",
    "y_test_predicted = LR.predict(X_test)\n",
    "from sklearn.metrics import r2_score\n",
    "train_r2 = r2_score(y_train, y_train_predicted)\n",
    "test_r2 = r2_score(y_test, y_test_predicted)\n",
    "print('train r2 :',train_r2)\n",
    "print('test r2 :', test_r2)"
   ]
  },
  {
   "cell_type": "markdown",
   "metadata": {},
   "source": [
    "### Visualize the predictions"
   ]
  },
  {
   "cell_type": "code",
   "execution_count": 22,
   "metadata": {},
   "outputs": [],
   "source": [
    "#generate new data\n",
    "X_range = np.linspace(40,90,100).reshape(-1,1)\n",
    "y_range = LR.predict(X_range)"
   ]
  },
  {
   "cell_type": "code",
   "execution_count": 23,
   "metadata": {},
   "outputs": [
    {
     "data": {
      "image/png": "[encoded data removed]",
      "text/plain": [
       "<Figure size 576x360 with 1 Axes>"
      ]
     },
     "metadata": {
      "needs_background": "light"
     },
     "output_type": "display_data"
    }
   ],
   "source": [
    "fig2 = plt.figure(figsize=(8,5))\n",
    "plt.scatter(X_train,y_train)\n",
    "plt.plot(X_range, y_range)\n",
    "\n",
    "plt.title('prediction data')\n",
    "plt.xlabel('temperature')\n",
    "plt.ylabel('rate')\n",
    "plt.show()"
   ]
  },
  {
   "cell_type": "markdown",
   "metadata": {},
   "source": [
    "## Polynomial features"
   ]
  },
  {
   "cell_type": "markdown",
   "metadata": {},
   "source": [
    "### Generate new features"
   ]
  },
  {
   "cell_type": "code",
   "execution_count": 25,
   "metadata": {},
   "outputs": [
    {
     "data": {
      "text/plain": [
       "(18, 3)"
      ]
     },
     "execution_count": 25,
     "metadata": {},
     "output_type": "execute_result"
    }
   ],
   "source": [
    "from sklearn.preprocessing import PolynomialFeatures\n",
    "poly = PolynomialFeatures(degree=2)\n",
    "X2_train = poly.fit_transform(X_train)\n",
    "X2_test = poly.transform(X_test) # for the test data, just transform\n",
    "X2_train.shape"
   ]
  },
  {
   "cell_type": "code",
   "execution_count": 28,
   "metadata": {},
   "outputs": [
    {
     "name": "stdout",
     "output_type": "stream",
     "text": [
      "train r2 : 0.970051540068943\n",
      "test r2 : 0.996395455646867\n"
     ]
    }
   ],
   "source": [
    "LR2 = LinearRegression()\n",
    "LR2.fit(X2_train,y_train)\n",
    "\n",
    "y2_train_predicted = LR2.predict(X2_train)\n",
    "y2_test_predicted = LR2.predict(X2_test)\n",
    "\n",
    "train2_r2 = r2_score(y_train, y2_train_predicted)\n",
    "test2_r2 = r2_score(y_test, y2_test_predicted)\n",
    "print('train r2 :',train2_r2)\n",
    "print('test r2 :', test2_r2)\n",
    "\n",
    "\n",
    "\n"
   ]
  },
  {
   "cell_type": "markdown",
   "metadata": {},
   "source": [
    "### Visualize the predictions"
   ]
  },
  {
   "cell_type": "code",
   "execution_count": 29,
   "metadata": {},
   "outputs": [],
   "source": [
    "X2_range = np.linspace(40,90,100).reshape(-1,1)\n",
    "X2_range = poly.transform(X2_range)\n",
    "y2_range = LR2.predict(X2_range)"
   ]
  },
  {
   "cell_type": "code",
   "execution_count": 34,
   "metadata": {},
   "outputs": [
    {
     "data": {
      "image/png": "[encoded data removed]",
      "text/plain": [
       "<Figure size 576x360 with 1 Axes>"
      ]
     },
     "metadata": {
      "needs_background": "light"
     },
     "output_type": "display_data"
    }
   ],
   "source": [
    "fig3 = plt.figure(figsize=(8,5))\n",
    "plt.scatter(X_train,y_train)\n",
    "plt.plot(X_range,y2_range)\n",
    "plt.scatter(X_test,y_test)\n",
    "\n",
    "plt.title('polynomial prediction result (2)')\n",
    "plt.xlabel('temperature')\n",
    "plt.ylabel('rate')\n",
    "plt.show()"
   ]
  },
  {
   "cell_type": "markdown",
   "metadata": {},
   "source": [
    "### Add polynomia terms degree =5"
   ]
  },
  {
   "cell_type": "code",
   "execution_count": 36,
   "metadata": {},
   "outputs": [],
   "source": [
    "poly5=PolynomialFeatures(degree=5)\n",
    "X5_train = poly5.fit_transform(X_train)\n",
    "X5_test = poly5.transform(X_test)"
   ]
  },
  {
   "cell_type": "code",
   "execution_count": 37,
   "metadata": {
    "scrolled": true
   },
   "outputs": [
    {
     "name": "stdout",
     "output_type": "stream",
     "text": [
      "train r2 : 0.9978527267142803\n",
      "test r2 : 0.5437845982167842\n"
     ]
    }
   ],
   "source": [
    "LR5 = LinearRegression()\n",
    "LR5.fit(X5_train,y_train)\n",
    "\n",
    "y5_train_predicted = LR5.predict(X5_train)\n",
    "y5_test_predicted = LR5.predict(X5_test)\n",
    "\n",
    "train5_r2 = r2_score(y_train, y5_train_predicted)\n",
    "test5_r2 = r2_score(y_test, y5_test_predicted)\n",
    "print('train r2 :',train5_r2)\n",
    "print('test r2 :', test5_r2)"
   ]
  },
  {
   "cell_type": "markdown",
   "metadata": {},
   "source": [
    "Model works great on training set but poorly on test data set"
   ]
  },
  {
   "cell_type": "code",
   "execution_count": 38,
   "metadata": {},
   "outputs": [],
   "source": [
    "X5_range = poly5.transform(X_range)\n",
    "y5_range = LR5.predict(X5_range)"
   ]
  },
  {
   "cell_type": "code",
   "execution_count": 40,
   "metadata": {
    "scrolled": true
   },
   "outputs": [
    {
     "data": {
      "image/png": "[encoded data removed]",
      "text/plain": [
       "<Figure size 576x360 with 1 Axes>"
      ]
     },
     "metadata": {
      "needs_background": "light"
     },
     "output_type": "display_data"
    }
   ],
   "source": [
    "fig4 = plt.figure(figsize=(8,5))\n",
    "plt.scatter(X_train, y_train)\n",
    "plt.plot(X_range,y5_range)\n",
    "plt.scatter(X_test, y_test)\n",
    "plt.title('polynomial prediction result (5)')\n",
    "plt.xlabel('temperature')\n",
    "plt.ylabel('rate')\n",
    "plt.show()"
   ]
  },
  {
   "cell_type": "raw",
   "metadata": {},
   "source": [
    "酶活性预测实战summary：\n",
    "1、通过建立二阶多项式回归模型，对酶活性实现了一个较好的预测，无论针对训练或测试数据都得到一个高的r2分数；\n",
    "2、通过建立线性回归、五阶多项式回归模型，发现存在过拟合或欠拟合情况。过拟合情况下，对于训练数据r2分数高（预测准确），但对于预测数据r2分数低（预测不准确）;\n",
    "3、无论时通过r2分数，或是可视化模型结果，都可以发现二阶多项式回归模型效果最好\n",
    "4、核心算法参考链接：https://scikit-learn.org/stable/modules/generated/sklearn.linear_model.LinearRegression.html#sklearn.linear_model.LinearRegression"
   ]
  }
 ],
 "metadata": {
  "kernelspec": {
   "display_name": "Python 3",
   "language": "python",
   "name": "python3"
  },
  "language_info": {
   "codemirror_mode": {
    "name": "ipython",
    "version": 3
   },
   "file_extension": ".py",
   "mimetype": "text/x-python",
   "name": "python",
   "nbconvert_exporter": "python",
   "pygments_lexer": "ipython3",
   "version": "3.7.4"
  },
  "toc": {
   "base_numbering": 1,
   "nav_menu": {},
   "number_sections": true,
   "sideBar": true,
   "skip_h1_title": true,
   "title_cell": "Table of Contents",
   "title_sidebar": "Contents",
   "toc_cell": true,
   "toc_position": {},
   "toc_section_display": true,
   "toc_window_display": false
  }
 },
 "nbformat": 4,
 "nbformat_minor": 2
}
