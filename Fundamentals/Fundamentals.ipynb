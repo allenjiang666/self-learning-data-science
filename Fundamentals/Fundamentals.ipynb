{
 "cells": [
  {
   "cell_type": "markdown",
   "metadata": {
    "toc": true
   },
   "source": [
    "<h1>Table of Contents<span class=\"tocSkip\"></span></h1>\n",
    "<div class=\"toc\"><ul class=\"toc-item\"><li><span><a href=\"#Numpy\" data-toc-modified-id=\"Numpy-1\"><span class=\"toc-item-num\">1&nbsp;&nbsp;</span>Numpy</a></span><ul class=\"toc-item\"><li><span><a href=\"#ndarray\" data-toc-modified-id=\"ndarray-1.1\"><span class=\"toc-item-num\">1.1&nbsp;&nbsp;</span>ndarray</a></span><ul class=\"toc-item\"><li><span><a href=\"#Create-a-list\" data-toc-modified-id=\"Create-a-list-1.1.1\"><span class=\"toc-item-num\">1.1.1&nbsp;&nbsp;</span>Create a list</a></span></li><li><span><a href=\"#Create-a-numpy-array\" data-toc-modified-id=\"Create-a-numpy-array-1.1.2\"><span class=\"toc-item-num\">1.1.2&nbsp;&nbsp;</span>Create a numpy array</a></span></li><li><span><a href=\"#Define-dtype\" data-toc-modified-id=\"Define-dtype-1.1.3\"><span class=\"toc-item-num\">1.1.3&nbsp;&nbsp;</span>Define dtype</a></span></li><li><span><a href=\"#Shape\" data-toc-modified-id=\"Shape-1.1.4\"><span class=\"toc-item-num\">1.1.4&nbsp;&nbsp;</span>Shape</a></span></li><li><span><a href=\"#Dimension\" data-toc-modified-id=\"Dimension-1.1.5\"><span class=\"toc-item-num\">1.1.5&nbsp;&nbsp;</span>Dimension</a></span></li><li><span><a href=\"#Item-size\" data-toc-modified-id=\"Item-size-1.1.6\"><span class=\"toc-item-num\">1.1.6&nbsp;&nbsp;</span>Item size</a></span></li><li><span><a href=\"#Size\" data-toc-modified-id=\"Size-1.1.7\"><span class=\"toc-item-num\">1.1.7&nbsp;&nbsp;</span>Size</a></span></li></ul></li><li><span><a href=\"#Common-numpy-arrays\" data-toc-modified-id=\"Common-numpy-arrays-1.2\"><span class=\"toc-item-num\">1.2&nbsp;&nbsp;</span>Common numpy arrays</a></span><ul class=\"toc-item\"><li><span><a href=\"#Zeros-and-Ones\" data-toc-modified-id=\"Zeros-and-Ones-1.2.1\"><span class=\"toc-item-num\">1.2.1&nbsp;&nbsp;</span>Zeros and Ones</a></span></li><li><span><a href=\"#Same-distance-points\" data-toc-modified-id=\"Same-distance-points-1.2.2\"><span class=\"toc-item-num\">1.2.2&nbsp;&nbsp;</span>Same distance points</a></span></li></ul></li><li><span><a href=\"#Random-numbers\" data-toc-modified-id=\"Random-numbers-1.3\"><span class=\"toc-item-num\">1.3&nbsp;&nbsp;</span>Random numbers</a></span><ul class=\"toc-item\"><li><span><a href=\"#A-random-number\" data-toc-modified-id=\"A-random-number-1.3.1\"><span class=\"toc-item-num\">1.3.1&nbsp;&nbsp;</span>A random number</a></span></li><li><span><a href=\"#Random-numbers-in-a-shaped-array\" data-toc-modified-id=\"Random-numbers-in-a-shaped-array-1.3.2\"><span class=\"toc-item-num\">1.3.2&nbsp;&nbsp;</span>Random numbers in a shaped array</a></span></li><li><span><a href=\"#Random-int-number\" data-toc-modified-id=\"Random-int-number-1.3.3\"><span class=\"toc-item-num\">1.3.3&nbsp;&nbsp;</span>Random int number</a></span></li><li><span><a href=\"#Standard-normal-distributed-random-number\" data-toc-modified-id=\"Standard-normal-distributed-random-number-1.3.4\"><span class=\"toc-item-num\">1.3.4&nbsp;&nbsp;</span>Standard normal distributed random number</a></span></li><li><span><a href=\"#Normal-distributed-random-number\" data-toc-modified-id=\"Normal-distributed-random-number-1.3.5\"><span class=\"toc-item-num\">1.3.5&nbsp;&nbsp;</span>Normal distributed random number</a></span></li><li><span><a href=\"#Random-choice-within-a-list\" data-toc-modified-id=\"Random-choice-within-a-list-1.3.6\"><span class=\"toc-item-num\">1.3.6&nbsp;&nbsp;</span>Random choice within a list</a></span></li><li><span><a href=\"#Random-numbers-between-a-given-lower-and-upper-bound\" data-toc-modified-id=\"Random-numbers-between-a-given-lower-and-upper-bound-1.3.7\"><span class=\"toc-item-num\">1.3.7&nbsp;&nbsp;</span>Random numbers between a given lower and upper bound</a></span></li><li><span><a href=\"#Beta-distributed-random-numbers\" data-toc-modified-id=\"Beta-distributed-random-numbers-1.3.8\"><span class=\"toc-item-num\">1.3.8&nbsp;&nbsp;</span>Beta distributed random numbers</a></span></li></ul></li><li><span><a href=\"#Numpy-operations\" data-toc-modified-id=\"Numpy-operations-1.4\"><span class=\"toc-item-num\">1.4&nbsp;&nbsp;</span>Numpy operations</a></span><ul class=\"toc-item\"><li><span><a href=\"#Reshpe\" data-toc-modified-id=\"Reshpe-1.4.1\"><span class=\"toc-item-num\">1.4.1&nbsp;&nbsp;</span>Reshpe</a></span></li><li><span><a href=\"#Vectorized-operation\" data-toc-modified-id=\"Vectorized-operation-1.4.2\"><span class=\"toc-item-num\">1.4.2&nbsp;&nbsp;</span>Vectorized operation</a></span></li><li><span><a href=\"#Sum\" data-toc-modified-id=\"Sum-1.4.3\"><span class=\"toc-item-num\">1.4.3&nbsp;&nbsp;</span>Sum</a></span></li><li><span><a href=\"#Mean\" data-toc-modified-id=\"Mean-1.4.4\"><span class=\"toc-item-num\">1.4.4&nbsp;&nbsp;</span>Mean</a></span></li><li><span><a href=\"#Min-and-Max\" data-toc-modified-id=\"Min-and-Max-1.4.5\"><span class=\"toc-item-num\">1.4.5&nbsp;&nbsp;</span>Min and Max</a></span></li><li><span><a href=\"#Arrays-Math-operation\" data-toc-modified-id=\"Arrays-Math-operation-1.4.6\"><span class=\"toc-item-num\">1.4.6&nbsp;&nbsp;</span>Arrays Math operation</a></span></li><li><span><a href=\"#Concatenation\" data-toc-modified-id=\"Concatenation-1.4.7\"><span class=\"toc-item-num\">1.4.7&nbsp;&nbsp;</span>Concatenation</a></span></li><li><span><a href=\"#Split\" data-toc-modified-id=\"Split-1.4.8\"><span class=\"toc-item-num\">1.4.8&nbsp;&nbsp;</span>Split</a></span></li><li><span><a href=\"#Copy\" data-toc-modified-id=\"Copy-1.4.9\"><span class=\"toc-item-num\">1.4.9&nbsp;&nbsp;</span>Copy</a></span></li></ul></li></ul></li><li><span><a href=\"#Matplotlib\" data-toc-modified-id=\"Matplotlib-2\"><span class=\"toc-item-num\">2&nbsp;&nbsp;</span>Matplotlib</a></span><ul class=\"toc-item\"><li><span><a href=\"#Line-plot\" data-toc-modified-id=\"Line-plot-2.1\"><span class=\"toc-item-num\">2.1&nbsp;&nbsp;</span>Line plot</a></span><ul class=\"toc-item\"><li><span><a href=\"#defin-x-and-y\" data-toc-modified-id=\"defin-x-and-y-2.1.1\"><span class=\"toc-item-num\">2.1.1&nbsp;&nbsp;</span>defin x and y</a></span></li><li><span><a href=\"#Create-a-figure-and-plot-on-that-figure\" data-toc-modified-id=\"Create-a-figure-and-plot-on-that-figure-2.1.2\"><span class=\"toc-item-num\">2.1.2&nbsp;&nbsp;</span>Create a figure and plot on that figure</a></span></li><li><span><a href=\"#Add-title-and-adjust-axises\" data-toc-modified-id=\"Add-title-and-adjust-axises-2.1.3\"><span class=\"toc-item-num\">2.1.3&nbsp;&nbsp;</span>Add title and adjust axises</a></span></li><li><span><a href=\"#Adjust-ticks\" data-toc-modified-id=\"Adjust-ticks-2.1.4\"><span class=\"toc-item-num\">2.1.4&nbsp;&nbsp;</span>Adjust ticks</a></span></li><li><span><a href=\"#Set-legend-and-show-grid\" data-toc-modified-id=\"Set-legend-and-show-grid-2.1.5\"><span class=\"toc-item-num\">2.1.5&nbsp;&nbsp;</span>Set legend and show grid</a></span></li><li><span><a href=\"#Fill-whitespace-and-add-annotation\" data-toc-modified-id=\"Fill-whitespace-and-add-annotation-2.1.6\"><span class=\"toc-item-num\">2.1.6&nbsp;&nbsp;</span>Fill whitespace and add annotation</a></span></li></ul></li><li><span><a href=\"#Sccater-plot\" data-toc-modified-id=\"Sccater-plot-2.2\"><span class=\"toc-item-num\">2.2&nbsp;&nbsp;</span>Sccater plot</a></span><ul class=\"toc-item\"><li><span><a href=\"#Create-a-scatter-plot\" data-toc-modified-id=\"Create-a-scatter-plot-2.2.1\"><span class=\"toc-item-num\">2.2.1&nbsp;&nbsp;</span>Create a scatter plot</a></span></li><li><span><a href=\"#Set-range-of-x,-y-axises\" data-toc-modified-id=\"Set-range-of-x,-y-axises-2.2.2\"><span class=\"toc-item-num\">2.2.2&nbsp;&nbsp;</span>Set range of x, y axises</a></span></li></ul></li><li><span><a href=\"#Bar-plot\" data-toc-modified-id=\"Bar-plot-2.3\"><span class=\"toc-item-num\">2.3&nbsp;&nbsp;</span>Bar plot</a></span><ul class=\"toc-item\"><li><span><a href=\"#Create--a-barplot\" data-toc-modified-id=\"Create--a-barplot-2.3.1\"><span class=\"toc-item-num\">2.3.1&nbsp;&nbsp;</span>Create  a barplot</a></span></li><li><span><a href=\"#Add-text-to-each-bar\" data-toc-modified-id=\"Add-text-to-each-bar-2.3.2\"><span class=\"toc-item-num\">2.3.2&nbsp;&nbsp;</span>Add text to each bar</a></span></li></ul></li><li><span><a href=\"#Histogram\" data-toc-modified-id=\"Histogram-2.4\"><span class=\"toc-item-num\">2.4&nbsp;&nbsp;</span>Histogram</a></span><ul class=\"toc-item\"><li><span><a href=\"#Create-a-histogram-over-one-feature\" data-toc-modified-id=\"Create-a-histogram-over-one-feature-2.4.1\"><span class=\"toc-item-num\">2.4.1&nbsp;&nbsp;</span>Create a histogram over one feature</a></span></li><li><span><a href=\"#Reset-bins-to-show-the-plot\" data-toc-modified-id=\"Reset-bins-to-show-the-plot-2.4.2\"><span class=\"toc-item-num\">2.4.2&nbsp;&nbsp;</span>Reset bins to show the plot</a></span></li></ul></li><li><span><a href=\"#Subplot\" data-toc-modified-id=\"Subplot-2.5\"><span class=\"toc-item-num\">2.5&nbsp;&nbsp;</span>Subplot</a></span></li></ul></li><li><span><a href=\"#Pandas\" data-toc-modified-id=\"Pandas-3\"><span class=\"toc-item-num\">3&nbsp;&nbsp;</span>Pandas</a></span><ul class=\"toc-item\"><li><span><a href=\"#Series-and-DataFrame\" data-toc-modified-id=\"Series-and-DataFrame-3.1\"><span class=\"toc-item-num\">3.1&nbsp;&nbsp;</span>Series and DataFrame</a></span><ul class=\"toc-item\"><li><span><a href=\"#Create-a-series\" data-toc-modified-id=\"Create-a-series-3.1.1\"><span class=\"toc-item-num\">3.1.1&nbsp;&nbsp;</span>Create a series</a></span></li><li><span><a href=\"#Create-a-DataFrame-with-a-numpy-array-and-set-its-index-as-date\" data-toc-modified-id=\"Create-a-DataFrame-with-a-numpy-array-and-set-its-index-as-date-3.1.2\"><span class=\"toc-item-num\">3.1.2&nbsp;&nbsp;</span>Create a DataFrame with a numpy array and set its index as date</a></span></li><li><span><a href=\"#Create-a-DataFrame-with-a-dictionary\" data-toc-modified-id=\"Create-a-DataFrame-with-a-dictionary-3.1.3\"><span class=\"toc-item-num\">3.1.3&nbsp;&nbsp;</span>Create a DataFrame with a dictionary</a></span></li></ul></li><li><span><a href=\"#Basic-&amp;-Select-&amp;Set\" data-toc-modified-id=\"Basic-&amp;-Select-&amp;Set-3.2\"><span class=\"toc-item-num\">3.2&nbsp;&nbsp;</span>Basic &amp; Select &amp;Set</a></span><ul class=\"toc-item\"><li><span><a href=\"#Basic\" data-toc-modified-id=\"Basic-3.2.1\"><span class=\"toc-item-num\">3.2.1&nbsp;&nbsp;</span>Basic</a></span><ul class=\"toc-item\"><li><span><a href=\"#First-a-few-observation\" data-toc-modified-id=\"First-a-few-observation-3.2.1.1\"><span class=\"toc-item-num\">3.2.1.1&nbsp;&nbsp;</span>First a few observation</a></span></li><li><span><a href=\"#Last-a-few-observation\" data-toc-modified-id=\"Last-a-few-observation-3.2.1.2\"><span class=\"toc-item-num\">3.2.1.2&nbsp;&nbsp;</span>Last a few observation</a></span></li><li><span><a href=\"#Index\" data-toc-modified-id=\"Index-3.2.1.3\"><span class=\"toc-item-num\">3.2.1.3&nbsp;&nbsp;</span>Index</a></span></li><li><span><a href=\"#All-Values\" data-toc-modified-id=\"All-Values-3.2.1.4\"><span class=\"toc-item-num\">3.2.1.4&nbsp;&nbsp;</span>All Values</a></span></li><li><span><a href=\"#Transpose\" data-toc-modified-id=\"Transpose-3.2.1.5\"><span class=\"toc-item-num\">3.2.1.5&nbsp;&nbsp;</span>Transpose</a></span></li><li><span><a href=\"#Sort-values-by-a-column\" data-toc-modified-id=\"Sort-values-by-a-column-3.2.1.6\"><span class=\"toc-item-num\">3.2.1.6&nbsp;&nbsp;</span>Sort values by a column</a></span></li><li><span><a href=\"#Sort-values-by-index\" data-toc-modified-id=\"Sort-values-by-index-3.2.1.7\"><span class=\"toc-item-num\">3.2.1.7&nbsp;&nbsp;</span>Sort values by index</a></span></li><li><span><a href=\"#Describe-a-dataframe\" data-toc-modified-id=\"Describe-a-dataframe-3.2.1.8\"><span class=\"toc-item-num\">3.2.1.8&nbsp;&nbsp;</span>Describe a dataframe</a></span></li></ul></li><li><span><a href=\"#Select\" data-toc-modified-id=\"Select-3.2.2\"><span class=\"toc-item-num\">3.2.2&nbsp;&nbsp;</span>Select</a></span><ul class=\"toc-item\"><li><span><a href=\"#Select-a-column-by-name\" data-toc-modified-id=\"Select-a-column-by-name-3.2.2.1\"><span class=\"toc-item-num\">3.2.2.1&nbsp;&nbsp;</span>Select a column by name</a></span></li><li><span><a href=\"#Select-rows-by-line-number\" data-toc-modified-id=\"Select-rows-by-line-number-3.2.2.2\"><span class=\"toc-item-num\">3.2.2.2&nbsp;&nbsp;</span>Select rows by line number</a></span></li><li><span><a href=\"#Select-rows-by-index-value\" data-toc-modified-id=\"Select-rows-by-index-value-3.2.2.3\"><span class=\"toc-item-num\">3.2.2.3&nbsp;&nbsp;</span>Select rows by index value</a></span></li><li><span><a href=\"#Select-a-row-by-Loc-Function\" data-toc-modified-id=\"Select-a-row-by-Loc-Function-3.2.2.4\"><span class=\"toc-item-num\">3.2.2.4&nbsp;&nbsp;</span>Select a row by Loc Function</a></span></li><li><span><a href=\"#Select-multi_rows-and-columns\" data-toc-modified-id=\"Select-multi_rows-and-columns-3.2.2.5\"><span class=\"toc-item-num\">3.2.2.5&nbsp;&nbsp;</span>Select multi_rows and columns</a></span></li><li><span><a href=\"#select-a-certain-value-by-loc-function\" data-toc-modified-id=\"select-a-certain-value-by-loc-function-3.2.2.6\"><span class=\"toc-item-num\">3.2.2.6&nbsp;&nbsp;</span>select a certain value by loc function</a></span></li><li><span><a href=\"#Select-rows-and-columns-by-interger-location\" data-toc-modified-id=\"Select-rows-and-columns-by-interger-location-3.2.2.7\"><span class=\"toc-item-num\">3.2.2.7&nbsp;&nbsp;</span>Select rows and columns by interger location</a></span></li><li><span><a href=\"#Select-a-certain-value-by-interger-location\" data-toc-modified-id=\"Select-a-certain-value-by-interger-location-3.2.2.8\"><span class=\"toc-item-num\">3.2.2.8&nbsp;&nbsp;</span>Select a certain value by interger location</a></span></li><li><span><a href=\"#Conditonal-Selection\" data-toc-modified-id=\"Conditonal-Selection-3.2.2.9\"><span class=\"toc-item-num\">3.2.2.9&nbsp;&nbsp;</span>Conditonal Selection</a></span></li></ul></li><li><span><a href=\"#Set-dataframe\" data-toc-modified-id=\"Set-dataframe-3.2.3\"><span class=\"toc-item-num\">3.2.3&nbsp;&nbsp;</span>Set dataframe</a></span><ul class=\"toc-item\"><li><span><a href=\"#Add-a-new-column\" data-toc-modified-id=\"Add-a-new-column-3.2.3.1\"><span class=\"toc-item-num\">3.2.3.1&nbsp;&nbsp;</span>Add a new column</a></span></li><li><span><a href=\"#reset-a-value\" data-toc-modified-id=\"reset-a-value-3.2.3.2\"><span class=\"toc-item-num\">3.2.3.2&nbsp;&nbsp;</span>reset a value</a></span></li><li><span><a href=\"#reset-values-of-a-colum\" data-toc-modified-id=\"reset-values-of-a-colum-3.2.3.3\"><span class=\"toc-item-num\">3.2.3.3&nbsp;&nbsp;</span>reset values of a colum</a></span></li><li><span><a href=\"#Copy-a-data-frame\" data-toc-modified-id=\"Copy-a-data-frame-3.2.3.4\"><span class=\"toc-item-num\">3.2.3.4&nbsp;&nbsp;</span>Copy a data frame</a></span></li></ul></li></ul></li><li><span><a href=\"#Missing-Data-Processing\" data-toc-modified-id=\"Missing-Data-Processing-3.3\"><span class=\"toc-item-num\">3.3&nbsp;&nbsp;</span>Missing Data Processing</a></span><ul class=\"toc-item\"><li><span><a href=\"#Drop-nulls\" data-toc-modified-id=\"Drop-nulls-3.3.1\"><span class=\"toc-item-num\">3.3.1&nbsp;&nbsp;</span>Drop nulls</a></span></li><li><span><a href=\"#fill-null-values\" data-toc-modified-id=\"fill-null-values-3.3.2\"><span class=\"toc-item-num\">3.3.2&nbsp;&nbsp;</span>fill null values</a></span></li></ul></li><li><span><a href=\"#Statistic-&amp;-Merge-&amp;-Reshape\" data-toc-modified-id=\"Statistic-&amp;-Merge-&amp;-Reshape-3.4\"><span class=\"toc-item-num\">3.4&nbsp;&nbsp;</span>Statistic &amp; Merge &amp; Reshape</a></span><ul class=\"toc-item\"><li><span><a href=\"#Statistic\" data-toc-modified-id=\"Statistic-3.4.1\"><span class=\"toc-item-num\">3.4.1&nbsp;&nbsp;</span>Statistic</a></span><ul class=\"toc-item\"><li><span><a href=\"#Mean-of-each-column\" data-toc-modified-id=\"Mean-of-each-column-3.4.1.1\"><span class=\"toc-item-num\">3.4.1.1&nbsp;&nbsp;</span>Mean of each column</a></span></li><li><span><a href=\"#Variance(mean-squared-error)\" data-toc-modified-id=\"Variance(mean-squared-error)-3.4.1.2\"><span class=\"toc-item-num\">3.4.1.2&nbsp;&nbsp;</span>Variance(mean squared error)</a></span></li><li><span><a href=\"#Shift-all-values-down\" data-toc-modified-id=\"Shift-all-values-down-3.4.1.3\"><span class=\"toc-item-num\">3.4.1.3&nbsp;&nbsp;</span>Shift all values down</a></span></li><li><span><a href=\"#Difference-of-two-rows\" data-toc-modified-id=\"Difference-of-two-rows-3.4.1.4\"><span class=\"toc-item-num\">3.4.1.4&nbsp;&nbsp;</span>Difference of two rows</a></span></li><li><span><a href=\"#Value-counts\" data-toc-modified-id=\"Value-counts-3.4.1.5\"><span class=\"toc-item-num\">3.4.1.5&nbsp;&nbsp;</span>Value counts</a></span></li><li><span><a href=\"#apply-a-function-to-the-series\" data-toc-modified-id=\"apply-a-function-to-the-series-3.4.1.6\"><span class=\"toc-item-num\">3.4.1.6&nbsp;&nbsp;</span>apply a function to the series</a></span></li><li><span><a href=\"#Lambda-function\" data-toc-modified-id=\"Lambda-function-3.4.1.7\"><span class=\"toc-item-num\">3.4.1.7&nbsp;&nbsp;</span>Lambda function</a></span></li></ul></li><li><span><a href=\"#Concatenate-&amp;-Merge\" data-toc-modified-id=\"Concatenate-&amp;-Merge-3.4.2\"><span class=\"toc-item-num\">3.4.2&nbsp;&nbsp;</span>Concatenate &amp; Merge</a></span><ul class=\"toc-item\"><li><span><a href=\"#Concatenation\" data-toc-modified-id=\"Concatenation-3.4.2.1\"><span class=\"toc-item-num\">3.4.2.1&nbsp;&nbsp;</span>Concatenation</a></span></li><li><span><a href=\"#Merge\" data-toc-modified-id=\"Merge-3.4.2.2\"><span class=\"toc-item-num\">3.4.2.2&nbsp;&nbsp;</span>Merge</a></span></li><li><span><a href=\"#Groupby\" data-toc-modified-id=\"Groupby-3.4.2.3\"><span class=\"toc-item-num\">3.4.2.3&nbsp;&nbsp;</span>Groupby</a></span></li><li><span><a href=\"#Drop-duplicates\" data-toc-modified-id=\"Drop-duplicates-3.4.2.4\"><span class=\"toc-item-num\">3.4.2.4&nbsp;&nbsp;</span>Drop duplicates</a></span></li></ul></li><li><span><a href=\"#Reshape\" data-toc-modified-id=\"Reshape-3.4.3\"><span class=\"toc-item-num\">3.4.3&nbsp;&nbsp;</span>Reshape</a></span><ul class=\"toc-item\"><li><span><a href=\"#Pivot-table\" data-toc-modified-id=\"Pivot-table-3.4.3.1\"><span class=\"toc-item-num\">3.4.3.1&nbsp;&nbsp;</span>Pivot table</a></span></li></ul></li></ul></li><li><span><a href=\"#Time-Series-&amp;-Graph-&amp;Files\" data-toc-modified-id=\"Time-Series-&amp;-Graph-&amp;Files-3.5\"><span class=\"toc-item-num\">3.5&nbsp;&nbsp;</span>Time Series &amp; Graph &amp;Files</a></span><ul class=\"toc-item\"><li><span><a href=\"#Time-Series\" data-toc-modified-id=\"Time-Series-3.5.1\"><span class=\"toc-item-num\">3.5.1&nbsp;&nbsp;</span>Time Series</a></span></li><li><span><a href=\"#Graph\" data-toc-modified-id=\"Graph-3.5.2\"><span class=\"toc-item-num\">3.5.2&nbsp;&nbsp;</span>Graph</a></span><ul class=\"toc-item\"><li><span><a href=\"#Line-plot\" data-toc-modified-id=\"Line-plot-3.5.2.1\"><span class=\"toc-item-num\">3.5.2.1&nbsp;&nbsp;</span>Line plot</a></span></li><li><span><a href=\"#Histogram\" data-toc-modified-id=\"Histogram-3.5.2.2\"><span class=\"toc-item-num\">3.5.2.2&nbsp;&nbsp;</span>Histogram</a></span></li></ul></li><li><span><a href=\"#Files\" data-toc-modified-id=\"Files-3.5.3\"><span class=\"toc-item-num\">3.5.3&nbsp;&nbsp;</span>Files</a></span><ul class=\"toc-item\"><li><span><a href=\"#Read-files\" data-toc-modified-id=\"Read-files-3.5.3.1\"><span class=\"toc-item-num\">3.5.3.1&nbsp;&nbsp;</span>Read files</a></span></li><li><span><a href=\"#Save-files\" data-toc-modified-id=\"Save-files-3.5.3.2\"><span class=\"toc-item-num\">3.5.3.2&nbsp;&nbsp;</span>Save files</a></span></li></ul></li></ul></li></ul></li></ul></div>"
   ]
  },
  {
   "cell_type": "markdown",
   "metadata": {},
   "source": [
    "# Numpy "
   ]
  },
  {
   "cell_type": "code",
   "execution_count": 1,
   "metadata": {},
   "outputs": [],
   "source": [
    "import numpy as np"
   ]
  },
  {
   "cell_type": "markdown",
   "metadata": {},
   "source": [
    "## ndarray"
   ]
  },
  {
   "cell_type": "markdown",
   "metadata": {},
   "source": [
    "### Create a list"
   ]
  },
  {
   "cell_type": "code",
   "execution_count": 2,
   "metadata": {},
   "outputs": [
    {
     "name": "stdout",
     "output_type": "stream",
     "text": [
      "<class 'list'>\n"
     ]
    }
   ],
   "source": [
    "lst=[[1,3,4],[2,4,6]]\n",
    "print(type(lst))"
   ]
  },
  {
   "cell_type": "markdown",
   "metadata": {},
   "source": [
    "### Create a numpy array"
   ]
  },
  {
   "cell_type": "code",
   "execution_count": 3,
   "metadata": {},
   "outputs": [
    {
     "name": "stdout",
     "output_type": "stream",
     "text": [
      "<class 'numpy.ndarray'>\n"
     ]
    }
   ],
   "source": [
    "np_lst=np.array(lst)\n",
    "print(type(np_lst))"
   ]
  },
  {
   "cell_type": "markdown",
   "metadata": {},
   "source": [
    "`list` vs `numpy array`\n",
    "1. pro: more **data types** in side a list\n",
    "2. cons: because it exam the dtype every time execute a list, it is much **slower** than numpy arry"
   ]
  },
  {
   "cell_type": "markdown",
   "metadata": {},
   "source": [
    "### Define dtype"
   ]
  },
  {
   "cell_type": "code",
   "execution_count": 4,
   "metadata": {},
   "outputs": [
    {
     "data": {
      "text/plain": [
       "dtype('float64')"
      ]
     },
     "execution_count": 4,
     "metadata": {},
     "output_type": "execute_result"
    }
   ],
   "source": [
    "np_lst=np.array(lst,dtype=np.float)\n",
    "np_lst.dtype"
   ]
  },
  {
   "cell_type": "markdown",
   "metadata": {},
   "source": [
    "### Shape"
   ]
  },
  {
   "cell_type": "code",
   "execution_count": 5,
   "metadata": {},
   "outputs": [
    {
     "data": {
      "text/plain": [
       "(2, 3)"
      ]
     },
     "execution_count": 5,
     "metadata": {},
     "output_type": "execute_result"
    }
   ],
   "source": [
    "np_lst.shape"
   ]
  },
  {
   "cell_type": "markdown",
   "metadata": {},
   "source": [
    "### Dimension"
   ]
  },
  {
   "cell_type": "code",
   "execution_count": 6,
   "metadata": {},
   "outputs": [
    {
     "data": {
      "text/plain": [
       "2"
      ]
     },
     "execution_count": 6,
     "metadata": {},
     "output_type": "execute_result"
    }
   ],
   "source": [
    "np_lst.ndim"
   ]
  },
  {
   "cell_type": "markdown",
   "metadata": {},
   "source": [
    "### Item size\n",
    "- Size of each element in bits"
   ]
  },
  {
   "cell_type": "markdown",
   "metadata": {},
   "source": [
    "### Size \n",
    "- Number of items"
   ]
  },
  {
   "cell_type": "code",
   "execution_count": 7,
   "metadata": {},
   "outputs": [
    {
     "data": {
      "text/plain": [
       "6"
      ]
     },
     "execution_count": 7,
     "metadata": {},
     "output_type": "execute_result"
    }
   ],
   "source": [
    "np_lst.size"
   ]
  },
  {
   "cell_type": "markdown",
   "metadata": {},
   "source": [
    "## Common numpy arrays"
   ]
  },
  {
   "cell_type": "markdown",
   "metadata": {},
   "source": [
    "### Zeros and Ones\n",
    "- Initialize some array\n",
    "- Hyper parameters are the shape of initial array"
   ]
  },
  {
   "cell_type": "code",
   "execution_count": 8,
   "metadata": {},
   "outputs": [
    {
     "data": {
      "text/plain": [
       "array([[0., 0., 0., 0.],\n",
       "       [0., 0., 0., 0.]])"
      ]
     },
     "execution_count": 8,
     "metadata": {},
     "output_type": "execute_result"
    }
   ],
   "source": [
    "np.zeros([2,4])"
   ]
  },
  {
   "cell_type": "code",
   "execution_count": 9,
   "metadata": {},
   "outputs": [
    {
     "data": {
      "text/plain": [
       "array([[1., 1., 1., 1., 1.],\n",
       "       [1., 1., 1., 1., 1.],\n",
       "       [1., 1., 1., 1., 1.]])"
      ]
     },
     "execution_count": 9,
     "metadata": {},
     "output_type": "execute_result"
    }
   ],
   "source": [
    "np.ones([3,5])"
   ]
  },
  {
   "cell_type": "markdown",
   "metadata": {},
   "source": [
    "### Same distance points"
   ]
  },
  {
   "cell_type": "code",
   "execution_count": 10,
   "metadata": {},
   "outputs": [
    {
     "data": {
      "text/plain": [
       "array([ 0., 10., 20., 30., 40., 50., 60., 70., 80., 90.])"
      ]
     },
     "execution_count": 10,
     "metadata": {},
     "output_type": "execute_result"
    }
   ],
   "source": [
    "#Hyper parameter: start, end, numbers, emdpoints\n",
    "np.linspace(0, 100,10,endpoint=False)"
   ]
  },
  {
   "cell_type": "markdown",
   "metadata": {},
   "source": [
    "## Random numbers"
   ]
  },
  {
   "cell_type": "markdown",
   "metadata": {},
   "source": [
    "### A random number"
   ]
  },
  {
   "cell_type": "code",
   "execution_count": 115,
   "metadata": {},
   "outputs": [
    {
     "data": {
      "text/plain": [
       "0.6887343401021183"
      ]
     },
     "execution_count": 115,
     "metadata": {},
     "output_type": "execute_result"
    }
   ],
   "source": [
    "np.random.rand()"
   ]
  },
  {
   "cell_type": "markdown",
   "metadata": {},
   "source": [
    "### Random numbers in a shaped array"
   ]
  },
  {
   "cell_type": "code",
   "execution_count": 12,
   "metadata": {},
   "outputs": [
    {
     "data": {
      "text/plain": [
       "array([[0.68619775, 0.87930593, 0.35006161, 0.93338868],\n",
       "       [0.5987815 , 0.72243269, 0.0656384 , 0.89198857]])"
      ]
     },
     "execution_count": 12,
     "metadata": {},
     "output_type": "execute_result"
    }
   ],
   "source": [
    "#Hyper parameters are the shape of the array\n",
    "np.random.rand(2,4)"
   ]
  },
  {
   "cell_type": "markdown",
   "metadata": {},
   "source": [
    "### Random int number"
   ]
  },
  {
   "cell_type": "code",
   "execution_count": 13,
   "metadata": {},
   "outputs": [
    {
     "data": {
      "text/plain": [
       "array([3, 4, 9])"
      ]
     },
     "execution_count": 13,
     "metadata": {},
     "output_type": "execute_result"
    }
   ],
   "source": [
    "# Hyper paramenters are range  and numbers\n",
    "np.random.randint(1,10, 3)"
   ]
  },
  {
   "cell_type": "markdown",
   "metadata": {},
   "source": [
    "### Standard normal distributed random number"
   ]
  },
  {
   "cell_type": "code",
   "execution_count": 14,
   "metadata": {},
   "outputs": [
    {
     "data": {
      "text/plain": [
       "array([[-0.19961735, -0.24714806,  1.38998217,  0.52733215],\n",
       "       [ 0.38464141, -0.34177024, -0.49163932,  1.92055006]])"
      ]
     },
     "execution_count": 14,
     "metadata": {},
     "output_type": "execute_result"
    }
   ],
   "source": [
    "#Hyper parameter is the shape\n",
    "np.random.randn(2,4)"
   ]
  },
  {
   "cell_type": "markdown",
   "metadata": {},
   "source": [
    "### Normal distributed random number"
   ]
  },
  {
   "cell_type": "code",
   "execution_count": 116,
   "metadata": {},
   "outputs": [
    {
     "data": {
      "text/plain": [
       "array([-0.50782533, -0.60752134, -0.39566955,  1.78769803, -0.19010352,\n",
       "       -0.30246571,  1.31443494,  0.4122286 , -1.47652844, -0.6136671 ])"
      ]
     },
     "execution_count": 116,
     "metadata": {},
     "output_type": "execute_result"
    }
   ],
   "source": [
    "#mu, sigma = 0,,1\n",
    "np.random.normal(0,1,10)"
   ]
  },
  {
   "cell_type": "markdown",
   "metadata": {},
   "source": [
    "### Random choice within a list"
   ]
  },
  {
   "cell_type": "code",
   "execution_count": 15,
   "metadata": {},
   "outputs": [
    {
     "data": {
      "text/plain": [
       "array([30, 10])"
      ]
     },
     "execution_count": 15,
     "metadata": {},
     "output_type": "execute_result"
    }
   ],
   "source": [
    "#Hyper parameters: list, numbers, probability\n",
    "np.random.choice([10,20,30],2,p =[.25,.25,.5])"
   ]
  },
  {
   "cell_type": "markdown",
   "metadata": {},
   "source": [
    "### Random numbers between a given lower and upper bound"
   ]
  },
  {
   "cell_type": "code",
   "execution_count": 112,
   "metadata": {},
   "outputs": [
    {
     "data": {
      "text/plain": [
       "array([-0.58150178, -0.32943408, -0.63786108, -0.71816717, -0.41031544,\n",
       "       -0.69049343, -0.89524925, -0.2304891 , -0.46379544, -0.17958386])"
      ]
     },
     "execution_count": 112,
     "metadata": {},
     "output_type": "execute_result"
    }
   ],
   "source": [
    "np.random.uniform(-1,0,10)"
   ]
  },
  {
   "cell_type": "markdown",
   "metadata": {},
   "source": [
    "### Beta distributed random numbers"
   ]
  },
  {
   "cell_type": "code",
   "execution_count": 16,
   "metadata": {},
   "outputs": [
    {
     "data": {
      "text/plain": [
       "array([0.14665133, 0.02510886, 0.0024457 , 0.27794618, 0.19418473,\n",
       "       0.16879678, 0.02714448, 0.11176485, 0.02323298, 0.11344454])"
      ]
     },
     "execution_count": 16,
     "metadata": {},
     "output_type": "execute_result"
    }
   ],
   "source": [
    "# Hyper parameters: range, numbers\n",
    "np.random.beta(1,10,10)"
   ]
  },
  {
   "cell_type": "markdown",
   "metadata": {},
   "source": [
    "## Numpy operations"
   ]
  },
  {
   "cell_type": "markdown",
   "metadata": {},
   "source": [
    "### Reshpe"
   ]
  },
  {
   "cell_type": "code",
   "execution_count": 17,
   "metadata": {},
   "outputs": [
    {
     "data": {
      "text/plain": [
       "array([ 1,  2,  3,  4,  5,  6,  7,  8,  9, 10])"
      ]
     },
     "execution_count": 17,
     "metadata": {},
     "output_type": "execute_result"
    }
   ],
   "source": [
    "array = np.arange(1,11)\n",
    "array "
   ]
  },
  {
   "cell_type": "code",
   "execution_count": 18,
   "metadata": {},
   "outputs": [
    {
     "data": {
      "text/plain": [
       "array([[ 1,  2,  3,  4,  5],\n",
       "       [ 6,  7,  8,  9, 10]])"
      ]
     },
     "execution_count": 18,
     "metadata": {},
     "output_type": "execute_result"
    }
   ],
   "source": [
    "#hyper parameter: shape\n",
    "array.reshape(2,5)"
   ]
  },
  {
   "cell_type": "code",
   "execution_count": 19,
   "metadata": {},
   "outputs": [
    {
     "data": {
      "text/plain": [
       "array([[[ 1,  2]],\n",
       "\n",
       "       [[ 3,  4]],\n",
       "\n",
       "       [[ 5,  6]],\n",
       "\n",
       "       [[ 7,  8]],\n",
       "\n",
       "       [[ 9, 10]]])"
      ]
     },
     "execution_count": 19,
     "metadata": {},
     "output_type": "execute_result"
    }
   ],
   "source": [
    "# reshape to a dimension array\n",
    "# from right to left = from inner to outer\n",
    "# inner = 2 elements, middle layer = 1 elements, outer layer = 5 elements\n",
    "array.reshape(5,1,2)"
   ]
  },
  {
   "cell_type": "code",
   "execution_count": 20,
   "metadata": {},
   "outputs": [
    {
     "data": {
      "text/plain": [
       "array([[ 1,  2,  3,  4,  5],\n",
       "       [ 6,  7,  8,  9, 10]])"
      ]
     },
     "execution_count": 20,
     "metadata": {},
     "output_type": "execute_result"
    }
   ],
   "source": [
    "# Same as above, -1 automatical ajust the columns\n",
    "array.reshape([2,-1])"
   ]
  },
  {
   "cell_type": "markdown",
   "metadata": {},
   "source": [
    "### Vectorized operation"
   ]
  },
  {
   "cell_type": "code",
   "execution_count": 21,
   "metadata": {},
   "outputs": [
    {
     "data": {
      "text/plain": [
       "array([ 2,  3,  4,  5,  6,  7,  8,  9, 10, 11])"
      ]
     },
     "execution_count": 21,
     "metadata": {},
     "output_type": "execute_result"
    }
   ],
   "source": [
    "array + 1"
   ]
  },
  {
   "cell_type": "code",
   "execution_count": 22,
   "metadata": {
    "scrolled": true
   },
   "outputs": [
    {
     "data": {
      "text/plain": [
       "array([2.71828183e+00, 7.38905610e+00, 2.00855369e+01, 5.45981500e+01,\n",
       "       1.48413159e+02, 4.03428793e+02, 1.09663316e+03, 2.98095799e+03,\n",
       "       8.10308393e+03, 2.20264658e+04])"
      ]
     },
     "execution_count": 22,
     "metadata": {},
     "output_type": "execute_result"
    }
   ],
   "source": [
    "np.exp(array)"
   ]
  },
  {
   "cell_type": "code",
   "execution_count": 23,
   "metadata": {},
   "outputs": [
    {
     "data": {
      "text/plain": [
       "array([1.        , 1.41421356, 1.73205081, 2.        , 2.23606798,\n",
       "       2.44948974, 2.64575131, 2.82842712, 3.        , 3.16227766])"
      ]
     },
     "execution_count": 23,
     "metadata": {},
     "output_type": "execute_result"
    }
   ],
   "source": [
    "np.sqrt(array)"
   ]
  },
  {
   "cell_type": "code",
   "execution_count": 24,
   "metadata": {},
   "outputs": [
    {
     "data": {
      "text/plain": [
       "array([0.        , 0.69314718, 1.09861229, 1.38629436, 1.60943791,\n",
       "       1.79175947, 1.94591015, 2.07944154, 2.19722458, 2.30258509])"
      ]
     },
     "execution_count": 24,
     "metadata": {},
     "output_type": "execute_result"
    }
   ],
   "source": [
    "# base is number e\n",
    "np.log(array)"
   ]
  },
  {
   "cell_type": "code",
   "execution_count": 25,
   "metadata": {},
   "outputs": [
    {
     "data": {
      "text/plain": [
       "array([0.        , 0.30103   , 0.47712125, 0.60205999, 0.69897   ,\n",
       "       0.77815125, 0.84509804, 0.90308999, 0.95424251, 1.        ])"
      ]
     },
     "execution_count": 25,
     "metadata": {},
     "output_type": "execute_result"
    }
   ],
   "source": [
    "# base is 10\n",
    "np.log10(array)"
   ]
  },
  {
   "cell_type": "markdown",
   "metadata": {},
   "source": [
    "### Sum "
   ]
  },
  {
   "cell_type": "code",
   "execution_count": 26,
   "metadata": {},
   "outputs": [
    {
     "data": {
      "text/plain": [
       "array([[[ 1,  2,  3,  4],\n",
       "        [ 5,  6,  7,  8]],\n",
       "\n",
       "       [[ 9, 10, 11, 12],\n",
       "        [13, 14, 15, 16]],\n",
       "\n",
       "       [[17, 18, 19, 20],\n",
       "        [21, 22, 23, 24]]])"
      ]
     },
     "execution_count": 26,
     "metadata": {},
     "output_type": "execute_result"
    }
   ],
   "source": [
    "lst = np.arange(1,25).reshape(3,2,4)\n",
    "lst"
   ]
  },
  {
   "cell_type": "code",
   "execution_count": 27,
   "metadata": {},
   "outputs": [
    {
     "data": {
      "text/plain": [
       "300"
      ]
     },
     "execution_count": 27,
     "metadata": {},
     "output_type": "execute_result"
    }
   ],
   "source": [
    "# sum all the elements\n",
    "lst.sum()"
   ]
  },
  {
   "cell_type": "code",
   "execution_count": 28,
   "metadata": {},
   "outputs": [
    {
     "data": {
      "text/plain": [
       "array([[27, 30, 33, 36],\n",
       "       [39, 42, 45, 48]])"
      ]
     },
     "execution_count": 28,
     "metadata": {},
     "output_type": "execute_result"
    }
   ],
   "source": [
    "# sum by outer dimension 3\n",
    "lst.sum(axis=0)"
   ]
  },
  {
   "cell_type": "code",
   "execution_count": 29,
   "metadata": {},
   "outputs": [
    {
     "data": {
      "text/plain": [
       "array([[ 6,  8, 10, 12],\n",
       "       [22, 24, 26, 28],\n",
       "       [38, 40, 42, 44]])"
      ]
     },
     "execution_count": 29,
     "metadata": {},
     "output_type": "execute_result"
    }
   ],
   "source": [
    "# sum middle dimension 2\n",
    "lst.sum(axis=1)"
   ]
  },
  {
   "cell_type": "code",
   "execution_count": 30,
   "metadata": {
    "scrolled": true
   },
   "outputs": [
    {
     "data": {
      "text/plain": [
       "array([[10, 26],\n",
       "       [42, 58],\n",
       "       [74, 90]])"
      ]
     },
     "execution_count": 30,
     "metadata": {},
     "output_type": "execute_result"
    }
   ],
   "source": [
    "# sum inner dimentsion 4\n",
    "lst.sum(axis =2)"
   ]
  },
  {
   "cell_type": "markdown",
   "metadata": {},
   "source": [
    "### Mean "
   ]
  },
  {
   "cell_type": "code",
   "execution_count": 31,
   "metadata": {},
   "outputs": [
    {
     "data": {
      "text/plain": [
       "12.5"
      ]
     },
     "execution_count": 31,
     "metadata": {},
     "output_type": "execute_result"
    }
   ],
   "source": [
    "lst.mean()"
   ]
  },
  {
   "cell_type": "code",
   "execution_count": 32,
   "metadata": {},
   "outputs": [
    {
     "data": {
      "text/plain": [
       "array([[ 9., 10., 11., 12.],\n",
       "       [13., 14., 15., 16.]])"
      ]
     },
     "execution_count": 32,
     "metadata": {},
     "output_type": "execute_result"
    }
   ],
   "source": [
    "lst.mean(axis = 0)"
   ]
  },
  {
   "cell_type": "markdown",
   "metadata": {},
   "source": [
    "### Min and Max"
   ]
  },
  {
   "cell_type": "code",
   "execution_count": 33,
   "metadata": {},
   "outputs": [
    {
     "data": {
      "text/plain": [
       "24"
      ]
     },
     "execution_count": 33,
     "metadata": {},
     "output_type": "execute_result"
    }
   ],
   "source": [
    "lst.max()"
   ]
  },
  {
   "cell_type": "code",
   "execution_count": 34,
   "metadata": {},
   "outputs": [
    {
     "data": {
      "text/plain": [
       "1"
      ]
     },
     "execution_count": 34,
     "metadata": {},
     "output_type": "execute_result"
    }
   ],
   "source": [
    "lst.min()"
   ]
  },
  {
   "cell_type": "markdown",
   "metadata": {},
   "source": [
    "### Arrays Math operation"
   ]
  },
  {
   "cell_type": "code",
   "execution_count": 35,
   "metadata": {},
   "outputs": [],
   "source": [
    "lst1 = np.array([10,20,30,40])\n",
    "lst2 = np.array([4,3,2,1])"
   ]
  },
  {
   "cell_type": "code",
   "execution_count": 36,
   "metadata": {},
   "outputs": [
    {
     "data": {
      "text/plain": [
       "array([14, 23, 32, 41])"
      ]
     },
     "execution_count": 36,
     "metadata": {},
     "output_type": "execute_result"
    }
   ],
   "source": [
    "lst1+lst2"
   ]
  },
  {
   "cell_type": "markdown",
   "metadata": {},
   "source": [
    "### Concatenation"
   ]
  },
  {
   "cell_type": "code",
   "execution_count": 37,
   "metadata": {},
   "outputs": [
    {
     "data": {
      "text/plain": [
       "array([10, 20, 30, 40,  4,  3,  2,  1])"
      ]
     },
     "execution_count": 37,
     "metadata": {},
     "output_type": "execute_result"
    }
   ],
   "source": [
    "np.concatenate((lst1,lst2), axis =0)"
   ]
  },
  {
   "cell_type": "markdown",
   "metadata": {},
   "source": [
    "### Split"
   ]
  },
  {
   "cell_type": "code",
   "execution_count": 38,
   "metadata": {},
   "outputs": [
    {
     "data": {
      "text/plain": [
       "[array([10, 20]), array([30, 40])]"
      ]
     },
     "execution_count": 38,
     "metadata": {},
     "output_type": "execute_result"
    }
   ],
   "source": [
    "np.split(lst1, 2)"
   ]
  },
  {
   "cell_type": "markdown",
   "metadata": {},
   "source": [
    "### Copy"
   ]
  },
  {
   "cell_type": "code",
   "execution_count": 39,
   "metadata": {},
   "outputs": [
    {
     "data": {
      "text/plain": [
       "array([10, 20, 30, 40])"
      ]
     },
     "execution_count": 39,
     "metadata": {},
     "output_type": "execute_result"
    }
   ],
   "source": [
    "np.copy(lst1)"
   ]
  },
  {
   "cell_type": "markdown",
   "metadata": {},
   "source": [
    "# Matplotlib"
   ]
  },
  {
   "cell_type": "code",
   "execution_count": 40,
   "metadata": {},
   "outputs": [],
   "source": [
    "import matplotlib.pyplot as plt"
   ]
  },
  {
   "cell_type": "markdown",
   "metadata": {},
   "source": [
    "## Line plot"
   ]
  },
  {
   "cell_type": "markdown",
   "metadata": {},
   "source": [
    "1. defin x and y\n",
    "- create a figure and plot on that figure\n",
    "- plot x and y and set line style\n",
    "- add title\n",
    "- adjust axis\n",
    "- adjust ticks\n",
    "- Set legend and its position\n",
    "- show grid\n",
    "- show plot in a range\n",
    "- fill white space with a color\n",
    "- plot a dash line \n",
    "- add annotation"
   ]
  },
  {
   "cell_type": "markdown",
   "metadata": {},
   "source": [
    "### defin x and y"
   ]
  },
  {
   "cell_type": "code",
   "execution_count": 41,
   "metadata": {},
   "outputs": [],
   "source": [
    "#defin x and y\n",
    "x = np.linspace(-np.pi, np.pi, 256, endpoint=True)\n",
    "c,s= np.cos(x),np.sin(x)"
   ]
  },
  {
   "cell_type": "markdown",
   "metadata": {},
   "source": [
    "### Create a figure and plot on that figure"
   ]
  },
  {
   "cell_type": "code",
   "execution_count": 42,
   "metadata": {},
   "outputs": [
    {
     "data": {
      "text/plain": [
       "[<matplotlib.lines.Line2D at 0x118f53e50>]"
      ]
     },
     "execution_count": 42,
     "metadata": {},
     "output_type": "execute_result"
    },
    {
     "data": {
      "image/png": "[encoded data removed]",
      "text/plain": [
       "<Figure size 1008x432 with 1 Axes>"
      ]
     },
     "metadata": {
      "needs_background": "light"
     },
     "output_type": "display_data"
    }
   ],
   "source": [
    "#create a figure and plot on that figure\n",
    "figure1 = plt.figure(figsize = (14,6))\n",
    "\n",
    "#plot x and y and set line style\n",
    "plt.plot(x,c,color='blue',linewidth=1.0, linestyle='-', label='COS', alpha=.5)\n",
    "# r*: color = red, linestyle = '*' \n",
    "plt.plot(x,s,'r*',label='SIN')"
   ]
  },
  {
   "cell_type": "markdown",
   "metadata": {},
   "source": [
    "### Add title and adjust axises"
   ]
  },
  {
   "cell_type": "code",
   "execution_count": 43,
   "metadata": {},
   "outputs": [
    {
     "data": {
      "image/png": "[encoded data removed]",
      "text/plain": [
       "<Figure size 1008x432 with 1 Axes>"
      ]
     },
     "metadata": {
      "needs_background": "light"
     },
     "output_type": "display_data"
    }
   ],
   "source": [
    "#create a figure and plot on that figure\n",
    "figure2 = plt.figure(figsize = (14,6))\n",
    "#plot x and y and set line style\n",
    "plt.plot(x,c,color='blue',linewidth=1.0, linestyle='-', label='COS', alpha=.5)\n",
    "# r*: color = red, linestyle = '*' \n",
    "plt.plot(x,s,'r*',label='SIN')\n",
    "\n",
    "#add title\n",
    "plt.title(\"SIN & COS Plot\")\n",
    "\n",
    "#adjust axis\n",
    "ax=plt.gca()\n",
    "\n",
    "# remove the right and top border\n",
    "ax.spines['right'].set_color('none')\n",
    "ax.spines['top'].set_color('none')\n",
    "\n",
    "#reposition axises\n",
    "ax.spines['left'].set_position(('data',0))\n",
    "ax.spines['bottom'].set_position(('data',0))"
   ]
  },
  {
   "cell_type": "markdown",
   "metadata": {},
   "source": [
    "### Adjust ticks"
   ]
  },
  {
   "cell_type": "code",
   "execution_count": 44,
   "metadata": {},
   "outputs": [
    {
     "data": {
      "image/png": "[encoded data removed]",
      "text/plain": [
       "<Figure size 1008x432 with 1 Axes>"
      ]
     },
     "metadata": {
      "needs_background": "light"
     },
     "output_type": "display_data"
    }
   ],
   "source": [
    "#create a figure and plot on that figure\n",
    "figure3 = plt.figure(figsize = (14,6))\n",
    "#plot x and y and set line style\n",
    "plt.plot(x,c,color='blue',linewidth=1.0, linestyle='-', label='COS', alpha=.5)\n",
    "# r*: color = red, linestyle = '*' \n",
    "plt.plot(x,s,'r*',label='SIN')\n",
    "#add title\n",
    "plt.title(\"SIN & COS Plot\")\n",
    "#adjust axis\n",
    "ax=plt.gca()\n",
    "# remove the right and top border\n",
    "ax.spines['right'].set_color('none')\n",
    "ax.spines['top'].set_color('none')\n",
    "\n",
    "#reposition axises\n",
    "ax.spines['left'].set_position(('data',0))\n",
    "ax.spines['bottom'].set_position(('data',0))\n",
    "#repostion xticks and yticks\n",
    "ax.xaxis.set_ticks_position(\"bottom\")\n",
    "ax.yaxis.set_ticks_position(\"left\")\n",
    "\n",
    "#set xticks value and change them to latex, set yticks\n",
    "plt.xticks([-np.pi, -np.pi/2,0,np.pi/2,np.pi],\n",
    "          [r'$-\\pi$',r'$-\\pi/2$',r'$0$',r'$\\pi/2$',r'$\\pi$', ])\n",
    "plt.yticks(np.linspace(-1,1,5,endpoint=True))\n",
    "\n",
    "#Set fontize and bbox \n",
    "for label in ax.get_xticklabels()+ax.get_yticklabels():\n",
    "    label.set_fontsize(15)\n",
    "    label.set_bbox(dict(facecolor='grey',edgecolor='None',alpha = .2))\n",
    "    "
   ]
  },
  {
   "cell_type": "markdown",
   "metadata": {},
   "source": [
    "### Set legend and show grid"
   ]
  },
  {
   "cell_type": "code",
   "execution_count": 45,
   "metadata": {},
   "outputs": [
    {
     "data": {
      "image/png": "[encoded data removed]",
      "text/plain": [
       "<Figure size 1008x432 with 1 Axes>"
      ]
     },
     "metadata": {
      "needs_background": "light"
     },
     "output_type": "display_data"
    }
   ],
   "source": [
    "#create a figure and plot on that figure\n",
    "figure4 = plt.figure(figsize = (14,6))\n",
    "#plot x and y and set line style\n",
    "plt.plot(x,c,color='blue',linewidth=1.0, linestyle='-', label='COS', alpha=.5)\n",
    "# r*: color = red, linestyle = '*' \n",
    "plt.plot(x,s,'r*',label='SIN')\n",
    "#add title\n",
    "plt.title(\"SIN & COS Plot\")\n",
    "#adjust axis\n",
    "ax=plt.gca()\n",
    "# remove the right and top border\n",
    "ax.spines['right'].set_color('none')\n",
    "ax.spines['top'].set_color('none')\n",
    "#reposition axises\n",
    "ax.spines['left'].set_position(('data',0))\n",
    "ax.spines['bottom'].set_position(('data',0))\n",
    "#repostion xticks and yticks\n",
    "ax.xaxis.set_ticks_position(\"bottom\")\n",
    "ax.yaxis.set_ticks_position(\"left\")\n",
    "#set xticks value and change them to latex, set yticks\n",
    "plt.xticks([-np.pi, -np.pi/2,0,np.pi/2,np.pi],\n",
    "          [r'$-\\pi$',r'$-\\pi/2$',r'$0$',r'$\\pi/2$',r'$\\pi$', ])\n",
    "plt.yticks(np.linspace(-1,1,5,endpoint=True))\n",
    "#Set fontize and bbox \n",
    "for label in ax.get_xticklabels()+ax.get_yticklabels():\n",
    "    label.set_fontsize(15)\n",
    "    label.set_bbox(dict(facecolor='grey',edgecolor='None',alpha = .2))\n",
    "\n",
    "    \n",
    "#Set legend and its position\n",
    "plt.legend(loc='upper left')\n",
    "\n",
    "# show grid\n",
    "plt.grid()\n",
    "\n",
    "# show plot in a range\n",
    "#plt.axis([-np.pi/2,np.pi/2,-1,1])"
   ]
  },
  {
   "cell_type": "markdown",
   "metadata": {},
   "source": [
    "### Fill whitespace and add annotation"
   ]
  },
  {
   "cell_type": "code",
   "execution_count": 46,
   "metadata": {
    "scrolled": false
   },
   "outputs": [
    {
     "data": {
      "image/png": "[encoded data removed]",
      "text/plain": [
       "<Figure size 1008x432 with 1 Axes>"
      ]
     },
     "metadata": {
      "needs_background": "light"
     },
     "output_type": "display_data"
    }
   ],
   "source": [
    "\n",
    "#create a figure and plot on that figure\n",
    "figure5 = plt.figure(figsize = (14,6))\n",
    "#plot x and y and set line style\n",
    "plt.plot(x,c,color='blue',linewidth=1.0, linestyle='-', label='COS', alpha=.5)\n",
    "# r*: color = red, linestyle = '*' \n",
    "plt.plot(x,s,'r*',label='SIN')\n",
    "#add title\n",
    "plt.title(\"SIN & COS Plot\")\n",
    "#adjust axis\n",
    "ax=plt.gca()\n",
    "# remove the right and top border\n",
    "ax.spines['right'].set_color('none')\n",
    "ax.spines['top'].set_color('none')\n",
    "#reposition axises\n",
    "ax.spines['left'].set_position(('data',0))\n",
    "ax.spines['bottom'].set_position(('data',0))\n",
    "#repostion xticks and yticks\n",
    "ax.xaxis.set_ticks_position(\"bottom\")\n",
    "ax.yaxis.set_ticks_position(\"left\")\n",
    "#set xticks value and change them to latex, set yticks\n",
    "plt.xticks([-np.pi, -np.pi/2,0,np.pi/2,np.pi],\n",
    "          [r'$-\\pi$',r'$-\\pi/2$',r'$0$',r'$\\pi/2$',r'$\\pi$', ])\n",
    "plt.yticks(np.linspace(-1,1,5,endpoint=True))\n",
    "#Set fontize and bbox \n",
    "for label in ax.get_xticklabels()+ax.get_yticklabels():\n",
    "    label.set_fontsize(15)\n",
    "    label.set_bbox(dict(facecolor='grey',edgecolor='None',alpha = .2))\n",
    "\n",
    "    \n",
    "#Set legend and its position\n",
    "plt.legend(loc='upper left')\n",
    "\n",
    "# show grid\n",
    "plt.grid()\n",
    "# fill white space with green color, exclude -pi/2<x< 2/pi, y>.5\n",
    "plt.fill_between(x,np.abs(x)<np.pi/4,c,c<0.5,color='green',alpha=0.25)\n",
    "\n",
    "#plot a straight line at x range = [1,1] , y range=[0,np.cos(1)] \n",
    "plt.plot([1,1], [0,np.cos(1)],color = 'y',linewidth=2,linestyle='--')\n",
    "\n",
    "#add annotation\n",
    "plt.annotate(\"cos(1)\",xy=(1,np.cos(1)), xycoords='data',xytext=(10,30),\n",
    "            textcoords='offset points',\n",
    "            arrowprops=dict(arrowstyle='->', connectionstyle='arc3,rad=.2'))\n",
    "plt.show()"
   ]
  },
  {
   "cell_type": "markdown",
   "metadata": {},
   "source": [
    "## Sccater plot"
   ]
  },
  {
   "cell_type": "markdown",
   "metadata": {},
   "source": [
    "### Create a scatter plot"
   ]
  },
  {
   "cell_type": "code",
   "execution_count": 47,
   "metadata": {},
   "outputs": [
    {
     "data": {
      "text/plain": [
       "<matplotlib.collections.PathCollection at 0x11a3e4190>"
      ]
     },
     "execution_count": 47,
     "metadata": {},
     "output_type": "execute_result"
    },
    {
     "data": {
      "image/png": "[encoded data removed]",
      "text/plain": [
       "<Figure size 864x432 with 1 Axes>"
      ]
     },
     "metadata": {
      "needs_background": "light"
     },
     "output_type": "display_data"
    }
   ],
   "source": [
    "figure6 = plt.figure(figsize=(12,6))\n",
    "n=128\n",
    "X=np.random.normal(0,1,n)\n",
    "y=np.random.normal(0,1,n)\n",
    "T=np.arctan2(y,X)\n",
    "#plt.axes([.025,.025,.95, .95])\n",
    "plt.scatter(X,y,s=75,c=T,alpha=.5)"
   ]
  },
  {
   "cell_type": "markdown",
   "metadata": {},
   "source": [
    "### Set range of x, y axises "
   ]
  },
  {
   "cell_type": "code",
   "execution_count": 48,
   "metadata": {},
   "outputs": [
    {
     "data": {
      "text/plain": [
       "Text(0.5, 1.0, 'Scatter')"
      ]
     },
     "execution_count": 48,
     "metadata": {},
     "output_type": "execute_result"
    },
    {
     "data": {
      "image/png": "[encoded data removed]",
      "text/plain": [
       "<Figure size 864x432 with 1 Axes>"
      ]
     },
     "metadata": {
      "needs_background": "light"
     },
     "output_type": "display_data"
    }
   ],
   "source": [
    "figure7 = plt.figure(figsize=(12,6))\n",
    "n=128\n",
    "X=np.random.normal(0,1,n)\n",
    "y=np.random.normal(0,1,n)\n",
    "T=np.arctan2(y,X)\n",
    "#plt.axes([.025,.025,.95, .95])\n",
    "plt.scatter(X,y,s=75,c=T,alpha=.5)\n",
    "plt.xlim(-5,5)\n",
    "plt.ylim(-5,5)\n",
    "plt.axis()\n",
    "plt.xlabel('x')\n",
    "plt.ylabel('y')\n",
    "plt.title('Scatter')"
   ]
  },
  {
   "cell_type": "markdown",
   "metadata": {},
   "source": [
    "## Bar plot"
   ]
  },
  {
   "cell_type": "markdown",
   "metadata": {},
   "source": [
    "### Create  a barplot"
   ]
  },
  {
   "cell_type": "code",
   "execution_count": 49,
   "metadata": {},
   "outputs": [
    {
     "data": {
      "text/plain": [
       "<BarContainer object of 10 artists>"
      ]
     },
     "execution_count": 49,
     "metadata": {},
     "output_type": "execute_result"
    },
    {
     "data": {
      "image/png": "[encoded data removed]",
      "text/plain": [
       "<Figure size 864x432 with 1 Axes>"
      ]
     },
     "metadata": {
      "needs_background": "light"
     },
     "output_type": "display_data"
    }
   ],
   "source": [
    "figure8 = plt.figure(figsize=(12,6))\n",
    "n=10\n",
    "X=np.arange(n)\n",
    "Y1=(1-X/float(n))*np.random.uniform(0.5,1.0,n)\n",
    "Y2=(1-X/float(n))*np.random.uniform(0.5,1.0,n)\n",
    "plt.bar(X,Y1, facecolor='#999fff',edgecolor='white')\n",
    "plt.bar(X,-Y2, facecolor='#ff9999',edgecolor='white')"
   ]
  },
  {
   "cell_type": "markdown",
   "metadata": {},
   "source": [
    "### Add text to each bar"
   ]
  },
  {
   "cell_type": "code",
   "execution_count": 50,
   "metadata": {},
   "outputs": [
    {
     "data": {
      "image/png": "[encoded data removed]",
      "text/plain": [
       "<Figure size 864x432 with 1 Axes>"
      ]
     },
     "metadata": {
      "needs_background": "light"
     },
     "output_type": "display_data"
    }
   ],
   "source": [
    "figure8 = plt.figure(figsize=(12,6))\n",
    "n=10\n",
    "X=np.arange(n)\n",
    "Y1=(1-X/float(n))*np.random.uniform(0.5,1.0,n)\n",
    "Y2=(1-X/float(n))*np.random.uniform(0.5,1.0,n)\n",
    "plt.bar(X,Y1, facecolor='#999fff',edgecolor='white')\n",
    "plt.bar(X,-Y2, facecolor='#ff9999',edgecolor='white')\n",
    "\n",
    "\n",
    "for x,y in zip(X,Y1):\n",
    "    plt.text(x+.01,y+.05,'%.2f'%y, ha='center',va='bottom')\n",
    "for x,y in zip(X,Y2):\n",
    "    plt.text(x+.01,-y-.05,'%.2f'%y, ha='center',va='top')"
   ]
  },
  {
   "cell_type": "markdown",
   "metadata": {},
   "source": [
    "## Histogram"
   ]
  },
  {
   "cell_type": "markdown",
   "metadata": {},
   "source": [
    "### Create a histogram over one feature"
   ]
  },
  {
   "cell_type": "code",
   "execution_count": 51,
   "metadata": {
    "scrolled": false
   },
   "outputs": [
    {
     "data": {
      "text/plain": [
       "Text(0.5, 1.0, 'Normal distribution')"
      ]
     },
     "execution_count": 51,
     "metadata": {},
     "output_type": "execute_result"
    },
    {
     "data": {
      "image/png": "[encoded data removed]",
      "text/plain": [
       "<Figure size 1008x432 with 1 Axes>"
      ]
     },
     "metadata": {
      "needs_background": "light"
     },
     "output_type": "display_data"
    }
   ],
   "source": [
    "figure9  = plt.figure(figsize = (14,6))\n",
    "x=np.random.randn(200)\n",
    "plt.hist(x)\n",
    "plt.title(\"Normal distribution\")"
   ]
  },
  {
   "cell_type": "markdown",
   "metadata": {},
   "source": [
    "### Reset bins to show the plot"
   ]
  },
  {
   "cell_type": "code",
   "execution_count": 52,
   "metadata": {},
   "outputs": [
    {
     "data": {
      "text/plain": [
       "Text(0.5, 1.0, 'Normal distribution')"
      ]
     },
     "execution_count": 52,
     "metadata": {},
     "output_type": "execute_result"
    },
    {
     "data": {
      "image/png": "[encoded data removed]",
      "text/plain": [
       "<Figure size 1008x432 with 1 Axes>"
      ]
     },
     "metadata": {
      "needs_background": "light"
     },
     "output_type": "display_data"
    }
   ],
   "source": [
    "figure10  = plt.figure(figsize = (14,6))\n",
    "x=np.random.randn(200)\n",
    "plt.hist(x, bins=20)\n",
    "plt.title(\"Normal distribution\")"
   ]
  },
  {
   "cell_type": "markdown",
   "metadata": {},
   "source": [
    "## Subplot"
   ]
  },
  {
   "cell_type": "code",
   "execution_count": 53,
   "metadata": {},
   "outputs": [
    {
     "data": {
      "text/plain": [
       "<matplotlib.axes._subplots.AxesSubplot at 0x11acdad10>"
      ]
     },
     "execution_count": 53,
     "metadata": {},
     "output_type": "execute_result"
    },
    {
     "data": {
      "image/png": "[encoded data removed]",
      "text/plain": [
       "<Figure size 1008x432 with 4 Axes>"
      ]
     },
     "metadata": {
      "needs_background": "light"
     },
     "output_type": "display_data"
    }
   ],
   "source": [
    "figure4  = plt.figure(figsize = (14,6))\n",
    "#create first subplot\n",
    "ax1=plt.subplot(221)\n",
    "\n",
    "# add a subplot with no frame\n",
    "ax2=plt.subplot(222, frameon=False)\n",
    "\n",
    "# add a polar subplot\n",
    "plt.subplot(223, projection='polar')\n",
    "\n",
    "# add a red subplot that shares the x-axis with ax1\n",
    "plt.subplot(224, sharex=ax1)\n",
    "\n",
    "# delete ax2 from the figure\n",
    "plt.delaxes(ax2)\n",
    "\n",
    "# add ax2 to the figure again\n",
    "plt.subplot(ax2)"
   ]
  },
  {
   "cell_type": "markdown",
   "metadata": {},
   "source": [
    "# Pandas"
   ]
  },
  {
   "cell_type": "code",
   "execution_count": 54,
   "metadata": {},
   "outputs": [],
   "source": [
    "import pandas as pd"
   ]
  },
  {
   "cell_type": "markdown",
   "metadata": {},
   "source": [
    "## Series and DataFrame"
   ]
  },
  {
   "cell_type": "markdown",
   "metadata": {},
   "source": [
    "### Create a series"
   ]
  },
  {
   "cell_type": "code",
   "execution_count": 55,
   "metadata": {},
   "outputs": [
    {
     "name": "stdout",
     "output_type": "stream",
     "text": [
      "<class 'pandas.core.series.Series'>\n"
     ]
    },
    {
     "data": {
      "text/plain": [
       "0     2\n",
       "1     4\n",
       "2     6\n",
       "3     8\n",
       "4    10\n",
       "5    12\n",
       "6    14\n",
       "7    16\n",
       "8    18\n",
       "9    20\n",
       "dtype: int64"
      ]
     },
     "execution_count": 55,
     "metadata": {},
     "output_type": "execute_result"
    }
   ],
   "source": [
    "s = pd.Series([i*2 for i in range(1,11)])\n",
    "print(type(s))\n",
    "s"
   ]
  },
  {
   "cell_type": "markdown",
   "metadata": {},
   "source": [
    "### Create a DataFrame with a numpy array and set its index as date "
   ]
  },
  {
   "cell_type": "code",
   "execution_count": 56,
   "metadata": {
    "scrolled": true
   },
   "outputs": [
    {
     "data": {
      "text/html": [
       "<div>\n",
       "<style scoped>\n",
       "    .dataframe tbody tr th:only-of-type {\n",
       "        vertical-align: middle;\n",
       "    }\n",
       "\n",
       "    .dataframe tbody tr th {\n",
       "        vertical-align: top;\n",
       "    }\n",
       "\n",
       "    .dataframe thead th {\n",
       "        text-align: right;\n",
       "    }\n",
       "</style>\n",
       "<table border=\"1\" class=\"dataframe\">\n",
       "  <thead>\n",
       "    <tr style=\"text-align: right;\">\n",
       "      <th></th>\n",
       "      <th>A</th>\n",
       "      <th>B</th>\n",
       "      <th>C</th>\n",
       "      <th>D</th>\n",
       "      <th>E</th>\n",
       "    </tr>\n",
       "  </thead>\n",
       "  <tbody>\n",
       "    <tr>\n",
       "      <td>2017-03-01</td>\n",
       "      <td>1.136188</td>\n",
       "      <td>-0.700101</td>\n",
       "      <td>-2.753206</td>\n",
       "      <td>-1.739592</td>\n",
       "      <td>0.165208</td>\n",
       "    </tr>\n",
       "    <tr>\n",
       "      <td>2017-03-02</td>\n",
       "      <td>-3.161515</td>\n",
       "      <td>1.167066</td>\n",
       "      <td>0.267987</td>\n",
       "      <td>0.518428</td>\n",
       "      <td>0.562063</td>\n",
       "    </tr>\n",
       "    <tr>\n",
       "      <td>2017-03-03</td>\n",
       "      <td>0.971818</td>\n",
       "      <td>0.800013</td>\n",
       "      <td>0.511845</td>\n",
       "      <td>-1.142495</td>\n",
       "      <td>-0.904380</td>\n",
       "    </tr>\n",
       "    <tr>\n",
       "      <td>2017-03-04</td>\n",
       "      <td>0.860833</td>\n",
       "      <td>0.434777</td>\n",
       "      <td>-1.356655</td>\n",
       "      <td>-0.259874</td>\n",
       "      <td>-1.588853</td>\n",
       "    </tr>\n",
       "    <tr>\n",
       "      <td>2017-03-05</td>\n",
       "      <td>0.438992</td>\n",
       "      <td>-0.884697</td>\n",
       "      <td>-0.064548</td>\n",
       "      <td>0.700341</td>\n",
       "      <td>0.623097</td>\n",
       "    </tr>\n",
       "    <tr>\n",
       "      <td>2017-03-06</td>\n",
       "      <td>1.392559</td>\n",
       "      <td>-0.461703</td>\n",
       "      <td>0.077633</td>\n",
       "      <td>0.261282</td>\n",
       "      <td>-1.060811</td>\n",
       "    </tr>\n",
       "    <tr>\n",
       "      <td>2017-03-07</td>\n",
       "      <td>0.669316</td>\n",
       "      <td>0.866234</td>\n",
       "      <td>1.026628</td>\n",
       "      <td>-0.498589</td>\n",
       "      <td>0.543584</td>\n",
       "    </tr>\n",
       "    <tr>\n",
       "      <td>2017-03-08</td>\n",
       "      <td>-0.227305</td>\n",
       "      <td>0.203376</td>\n",
       "      <td>-0.276017</td>\n",
       "      <td>0.123075</td>\n",
       "      <td>-0.123745</td>\n",
       "    </tr>\n",
       "  </tbody>\n",
       "</table>\n",
       "</div>"
      ],
      "text/plain": [
       "                   A         B         C         D         E\n",
       "2017-03-01  1.136188 -0.700101 -2.753206 -1.739592  0.165208\n",
       "2017-03-02 -3.161515  1.167066  0.267987  0.518428  0.562063\n",
       "2017-03-03  0.971818  0.800013  0.511845 -1.142495 -0.904380\n",
       "2017-03-04  0.860833  0.434777 -1.356655 -0.259874 -1.588853\n",
       "2017-03-05  0.438992 -0.884697 -0.064548  0.700341  0.623097\n",
       "2017-03-06  1.392559 -0.461703  0.077633  0.261282 -1.060811\n",
       "2017-03-07  0.669316  0.866234  1.026628 -0.498589  0.543584\n",
       "2017-03-08 -0.227305  0.203376 -0.276017  0.123075 -0.123745"
      ]
     },
     "execution_count": 56,
     "metadata": {},
     "output_type": "execute_result"
    }
   ],
   "source": [
    "dates = pd.date_range('20170301',periods=8)\n",
    "df=pd.DataFrame(np.random.randn(8,5), index=dates,columns=list('ABCDE'))\n",
    "df"
   ]
  },
  {
   "cell_type": "markdown",
   "metadata": {},
   "source": [
    "### Create a DataFrame with a dictionary"
   ]
  },
  {
   "cell_type": "code",
   "execution_count": 57,
   "metadata": {},
   "outputs": [
    {
     "data": {
      "text/html": [
       "<div>\n",
       "<style scoped>\n",
       "    .dataframe tbody tr th:only-of-type {\n",
       "        vertical-align: middle;\n",
       "    }\n",
       "\n",
       "    .dataframe tbody tr th {\n",
       "        vertical-align: top;\n",
       "    }\n",
       "\n",
       "    .dataframe thead th {\n",
       "        text-align: right;\n",
       "    }\n",
       "</style>\n",
       "<table border=\"1\" class=\"dataframe\">\n",
       "  <thead>\n",
       "    <tr style=\"text-align: right;\">\n",
       "      <th></th>\n",
       "      <th>A</th>\n",
       "      <th>B</th>\n",
       "      <th>C</th>\n",
       "      <th>D</th>\n",
       "      <th>E</th>\n",
       "    </tr>\n",
       "  </thead>\n",
       "  <tbody>\n",
       "    <tr>\n",
       "      <td>0</td>\n",
       "      <td>1</td>\n",
       "      <td>2017-03-01</td>\n",
       "      <td>1.0</td>\n",
       "      <td>3.0</td>\n",
       "      <td>police</td>\n",
       "    </tr>\n",
       "    <tr>\n",
       "      <td>1</td>\n",
       "      <td>1</td>\n",
       "      <td>2017-03-01</td>\n",
       "      <td>1.0</td>\n",
       "      <td>3.0</td>\n",
       "      <td>student</td>\n",
       "    </tr>\n",
       "    <tr>\n",
       "      <td>2</td>\n",
       "      <td>1</td>\n",
       "      <td>2017-03-01</td>\n",
       "      <td>1.0</td>\n",
       "      <td>3.0</td>\n",
       "      <td>teacher</td>\n",
       "    </tr>\n",
       "    <tr>\n",
       "      <td>3</td>\n",
       "      <td>1</td>\n",
       "      <td>2017-03-01</td>\n",
       "      <td>1.0</td>\n",
       "      <td>3.0</td>\n",
       "      <td>doctor</td>\n",
       "    </tr>\n",
       "  </tbody>\n",
       "</table>\n",
       "</div>"
      ],
      "text/plain": [
       "   A          B    C    D        E\n",
       "0  1 2017-03-01  1.0  3.0   police\n",
       "1  1 2017-03-01  1.0  3.0  student\n",
       "2  1 2017-03-01  1.0  3.0  teacher\n",
       "3  1 2017-03-01  1.0  3.0   doctor"
      ]
     },
     "execution_count": 57,
     "metadata": {},
     "output_type": "execute_result"
    }
   ],
   "source": [
    "# Each element in the dictionary represents a column in the table\n",
    "dic={\n",
    "    'A':1,\n",
    "    'B':pd.Timestamp(\"20170301\"),\n",
    "    'C':pd.Series(1,index = list(range(4)),dtype='float'),\n",
    "    'D':np.array([3]*4,dtype='float'),\n",
    "    'E':pd.Categorical(['police','student','teacher','doctor'])\n",
    "    }\n",
    "df2=pd.DataFrame(dic)\n",
    "df2"
   ]
  },
  {
   "cell_type": "markdown",
   "metadata": {},
   "source": [
    "## Basic & Select &Set"
   ]
  },
  {
   "cell_type": "markdown",
   "metadata": {},
   "source": [
    "### Basic"
   ]
  },
  {
   "cell_type": "markdown",
   "metadata": {},
   "source": [
    "#### First a few observation"
   ]
  },
  {
   "cell_type": "code",
   "execution_count": 58,
   "metadata": {
    "scrolled": true
   },
   "outputs": [
    {
     "data": {
      "text/html": [
       "<div>\n",
       "<style scoped>\n",
       "    .dataframe tbody tr th:only-of-type {\n",
       "        vertical-align: middle;\n",
       "    }\n",
       "\n",
       "    .dataframe tbody tr th {\n",
       "        vertical-align: top;\n",
       "    }\n",
       "\n",
       "    .dataframe thead th {\n",
       "        text-align: right;\n",
       "    }\n",
       "</style>\n",
       "<table border=\"1\" class=\"dataframe\">\n",
       "  <thead>\n",
       "    <tr style=\"text-align: right;\">\n",
       "      <th></th>\n",
       "      <th>A</th>\n",
       "      <th>B</th>\n",
       "      <th>C</th>\n",
       "      <th>D</th>\n",
       "      <th>E</th>\n",
       "    </tr>\n",
       "  </thead>\n",
       "  <tbody>\n",
       "    <tr>\n",
       "      <td>0</td>\n",
       "      <td>1</td>\n",
       "      <td>2017-03-01</td>\n",
       "      <td>1.0</td>\n",
       "      <td>3.0</td>\n",
       "      <td>police</td>\n",
       "    </tr>\n",
       "    <tr>\n",
       "      <td>1</td>\n",
       "      <td>1</td>\n",
       "      <td>2017-03-01</td>\n",
       "      <td>1.0</td>\n",
       "      <td>3.0</td>\n",
       "      <td>student</td>\n",
       "    </tr>\n",
       "    <tr>\n",
       "      <td>2</td>\n",
       "      <td>1</td>\n",
       "      <td>2017-03-01</td>\n",
       "      <td>1.0</td>\n",
       "      <td>3.0</td>\n",
       "      <td>teacher</td>\n",
       "    </tr>\n",
       "  </tbody>\n",
       "</table>\n",
       "</div>"
      ],
      "text/plain": [
       "   A          B    C    D        E\n",
       "0  1 2017-03-01  1.0  3.0   police\n",
       "1  1 2017-03-01  1.0  3.0  student\n",
       "2  1 2017-03-01  1.0  3.0  teacher"
      ]
     },
     "execution_count": 58,
     "metadata": {},
     "output_type": "execute_result"
    }
   ],
   "source": [
    "# first 3 observation\n",
    "df2.head(3)"
   ]
  },
  {
   "cell_type": "markdown",
   "metadata": {},
   "source": [
    "#### Last a few observation"
   ]
  },
  {
   "cell_type": "code",
   "execution_count": 59,
   "metadata": {
    "scrolled": false
   },
   "outputs": [
    {
     "data": {
      "text/html": [
       "<div>\n",
       "<style scoped>\n",
       "    .dataframe tbody tr th:only-of-type {\n",
       "        vertical-align: middle;\n",
       "    }\n",
       "\n",
       "    .dataframe tbody tr th {\n",
       "        vertical-align: top;\n",
       "    }\n",
       "\n",
       "    .dataframe thead th {\n",
       "        text-align: right;\n",
       "    }\n",
       "</style>\n",
       "<table border=\"1\" class=\"dataframe\">\n",
       "  <thead>\n",
       "    <tr style=\"text-align: right;\">\n",
       "      <th></th>\n",
       "      <th>A</th>\n",
       "      <th>B</th>\n",
       "      <th>C</th>\n",
       "      <th>D</th>\n",
       "      <th>E</th>\n",
       "    </tr>\n",
       "  </thead>\n",
       "  <tbody>\n",
       "    <tr>\n",
       "      <td>1</td>\n",
       "      <td>1</td>\n",
       "      <td>2017-03-01</td>\n",
       "      <td>1.0</td>\n",
       "      <td>3.0</td>\n",
       "      <td>student</td>\n",
       "    </tr>\n",
       "    <tr>\n",
       "      <td>2</td>\n",
       "      <td>1</td>\n",
       "      <td>2017-03-01</td>\n",
       "      <td>1.0</td>\n",
       "      <td>3.0</td>\n",
       "      <td>teacher</td>\n",
       "    </tr>\n",
       "    <tr>\n",
       "      <td>3</td>\n",
       "      <td>1</td>\n",
       "      <td>2017-03-01</td>\n",
       "      <td>1.0</td>\n",
       "      <td>3.0</td>\n",
       "      <td>doctor</td>\n",
       "    </tr>\n",
       "  </tbody>\n",
       "</table>\n",
       "</div>"
      ],
      "text/plain": [
       "   A          B    C    D        E\n",
       "1  1 2017-03-01  1.0  3.0  student\n",
       "2  1 2017-03-01  1.0  3.0  teacher\n",
       "3  1 2017-03-01  1.0  3.0   doctor"
      ]
     },
     "execution_count": 59,
     "metadata": {},
     "output_type": "execute_result"
    }
   ],
   "source": [
    "# last 3 observation\n",
    "df2.tail(3)"
   ]
  },
  {
   "cell_type": "markdown",
   "metadata": {},
   "source": [
    "#### Index"
   ]
  },
  {
   "cell_type": "code",
   "execution_count": 60,
   "metadata": {
    "scrolled": true
   },
   "outputs": [
    {
     "data": {
      "text/plain": [
       "Int64Index([0, 1, 2, 3], dtype='int64')"
      ]
     },
     "execution_count": 60,
     "metadata": {},
     "output_type": "execute_result"
    }
   ],
   "source": [
    "# Show index\n",
    "df2.index"
   ]
  },
  {
   "cell_type": "markdown",
   "metadata": {},
   "source": [
    "#### All Values"
   ]
  },
  {
   "cell_type": "code",
   "execution_count": 61,
   "metadata": {
    "scrolled": true
   },
   "outputs": [
    {
     "data": {
      "text/plain": [
       "array([[1, Timestamp('2017-03-01 00:00:00'), 1.0, 3.0, 'police'],\n",
       "       [1, Timestamp('2017-03-01 00:00:00'), 1.0, 3.0, 'student'],\n",
       "       [1, Timestamp('2017-03-01 00:00:00'), 1.0, 3.0, 'teacher'],\n",
       "       [1, Timestamp('2017-03-01 00:00:00'), 1.0, 3.0, 'doctor']],\n",
       "      dtype=object)"
      ]
     },
     "execution_count": 61,
     "metadata": {},
     "output_type": "execute_result"
    }
   ],
   "source": [
    "# show all the values\n",
    "df2.values"
   ]
  },
  {
   "cell_type": "markdown",
   "metadata": {},
   "source": [
    "#### Transpose"
   ]
  },
  {
   "cell_type": "code",
   "execution_count": 62,
   "metadata": {
    "scrolled": false
   },
   "outputs": [
    {
     "data": {
      "text/html": [
       "<div>\n",
       "<style scoped>\n",
       "    .dataframe tbody tr th:only-of-type {\n",
       "        vertical-align: middle;\n",
       "    }\n",
       "\n",
       "    .dataframe tbody tr th {\n",
       "        vertical-align: top;\n",
       "    }\n",
       "\n",
       "    .dataframe thead th {\n",
       "        text-align: right;\n",
       "    }\n",
       "</style>\n",
       "<table border=\"1\" class=\"dataframe\">\n",
       "  <thead>\n",
       "    <tr style=\"text-align: right;\">\n",
       "      <th></th>\n",
       "      <th>0</th>\n",
       "      <th>1</th>\n",
       "      <th>2</th>\n",
       "      <th>3</th>\n",
       "    </tr>\n",
       "  </thead>\n",
       "  <tbody>\n",
       "    <tr>\n",
       "      <td>A</td>\n",
       "      <td>1</td>\n",
       "      <td>1</td>\n",
       "      <td>1</td>\n",
       "      <td>1</td>\n",
       "    </tr>\n",
       "    <tr>\n",
       "      <td>B</td>\n",
       "      <td>2017-03-01 00:00:00</td>\n",
       "      <td>2017-03-01 00:00:00</td>\n",
       "      <td>2017-03-01 00:00:00</td>\n",
       "      <td>2017-03-01 00:00:00</td>\n",
       "    </tr>\n",
       "    <tr>\n",
       "      <td>C</td>\n",
       "      <td>1</td>\n",
       "      <td>1</td>\n",
       "      <td>1</td>\n",
       "      <td>1</td>\n",
       "    </tr>\n",
       "    <tr>\n",
       "      <td>D</td>\n",
       "      <td>3</td>\n",
       "      <td>3</td>\n",
       "      <td>3</td>\n",
       "      <td>3</td>\n",
       "    </tr>\n",
       "    <tr>\n",
       "      <td>E</td>\n",
       "      <td>police</td>\n",
       "      <td>student</td>\n",
       "      <td>teacher</td>\n",
       "      <td>doctor</td>\n",
       "    </tr>\n",
       "  </tbody>\n",
       "</table>\n",
       "</div>"
      ],
      "text/plain": [
       "                     0                    1                    2  \\\n",
       "A                    1                    1                    1   \n",
       "B  2017-03-01 00:00:00  2017-03-01 00:00:00  2017-03-01 00:00:00   \n",
       "C                    1                    1                    1   \n",
       "D                    3                    3                    3   \n",
       "E               police              student              teacher   \n",
       "\n",
       "                     3  \n",
       "A                    1  \n",
       "B  2017-03-01 00:00:00  \n",
       "C                    1  \n",
       "D                    3  \n",
       "E               doctor  "
      ]
     },
     "execution_count": 62,
     "metadata": {},
     "output_type": "execute_result"
    }
   ],
   "source": [
    "# Transpose Data Frame\n",
    "df2.T"
   ]
  },
  {
   "cell_type": "markdown",
   "metadata": {},
   "source": [
    "#### Sort values by a column"
   ]
  },
  {
   "cell_type": "code",
   "execution_count": 63,
   "metadata": {
    "scrolled": true
   },
   "outputs": [
    {
     "data": {
      "text/html": [
       "<div>\n",
       "<style scoped>\n",
       "    .dataframe tbody tr th:only-of-type {\n",
       "        vertical-align: middle;\n",
       "    }\n",
       "\n",
       "    .dataframe tbody tr th {\n",
       "        vertical-align: top;\n",
       "    }\n",
       "\n",
       "    .dataframe thead th {\n",
       "        text-align: right;\n",
       "    }\n",
       "</style>\n",
       "<table border=\"1\" class=\"dataframe\">\n",
       "  <thead>\n",
       "    <tr style=\"text-align: right;\">\n",
       "      <th></th>\n",
       "      <th>A</th>\n",
       "      <th>B</th>\n",
       "      <th>C</th>\n",
       "      <th>D</th>\n",
       "      <th>E</th>\n",
       "    </tr>\n",
       "  </thead>\n",
       "  <tbody>\n",
       "    <tr>\n",
       "      <td>0</td>\n",
       "      <td>1</td>\n",
       "      <td>2017-03-01</td>\n",
       "      <td>1.0</td>\n",
       "      <td>3.0</td>\n",
       "      <td>police</td>\n",
       "    </tr>\n",
       "    <tr>\n",
       "      <td>1</td>\n",
       "      <td>1</td>\n",
       "      <td>2017-03-01</td>\n",
       "      <td>1.0</td>\n",
       "      <td>3.0</td>\n",
       "      <td>student</td>\n",
       "    </tr>\n",
       "    <tr>\n",
       "      <td>2</td>\n",
       "      <td>1</td>\n",
       "      <td>2017-03-01</td>\n",
       "      <td>1.0</td>\n",
       "      <td>3.0</td>\n",
       "      <td>teacher</td>\n",
       "    </tr>\n",
       "    <tr>\n",
       "      <td>3</td>\n",
       "      <td>1</td>\n",
       "      <td>2017-03-01</td>\n",
       "      <td>1.0</td>\n",
       "      <td>3.0</td>\n",
       "      <td>doctor</td>\n",
       "    </tr>\n",
       "  </tbody>\n",
       "</table>\n",
       "</div>"
      ],
      "text/plain": [
       "   A          B    C    D        E\n",
       "0  1 2017-03-01  1.0  3.0   police\n",
       "1  1 2017-03-01  1.0  3.0  student\n",
       "2  1 2017-03-01  1.0  3.0  teacher\n",
       "3  1 2017-03-01  1.0  3.0   doctor"
      ]
     },
     "execution_count": 63,
     "metadata": {},
     "output_type": "execute_result"
    }
   ],
   "source": [
    "# sort values by column 'C'\n",
    "df2.sort_values(by='C')"
   ]
  },
  {
   "cell_type": "markdown",
   "metadata": {},
   "source": [
    "#### Sort values by index"
   ]
  },
  {
   "cell_type": "code",
   "execution_count": 64,
   "metadata": {
    "scrolled": true
   },
   "outputs": [
    {
     "data": {
      "text/html": [
       "<div>\n",
       "<style scoped>\n",
       "    .dataframe tbody tr th:only-of-type {\n",
       "        vertical-align: middle;\n",
       "    }\n",
       "\n",
       "    .dataframe tbody tr th {\n",
       "        vertical-align: top;\n",
       "    }\n",
       "\n",
       "    .dataframe thead th {\n",
       "        text-align: right;\n",
       "    }\n",
       "</style>\n",
       "<table border=\"1\" class=\"dataframe\">\n",
       "  <thead>\n",
       "    <tr style=\"text-align: right;\">\n",
       "      <th></th>\n",
       "      <th>E</th>\n",
       "      <th>D</th>\n",
       "      <th>C</th>\n",
       "      <th>B</th>\n",
       "      <th>A</th>\n",
       "    </tr>\n",
       "  </thead>\n",
       "  <tbody>\n",
       "    <tr>\n",
       "      <td>0</td>\n",
       "      <td>police</td>\n",
       "      <td>3.0</td>\n",
       "      <td>1.0</td>\n",
       "      <td>2017-03-01</td>\n",
       "      <td>1</td>\n",
       "    </tr>\n",
       "    <tr>\n",
       "      <td>1</td>\n",
       "      <td>student</td>\n",
       "      <td>3.0</td>\n",
       "      <td>1.0</td>\n",
       "      <td>2017-03-01</td>\n",
       "      <td>1</td>\n",
       "    </tr>\n",
       "    <tr>\n",
       "      <td>2</td>\n",
       "      <td>teacher</td>\n",
       "      <td>3.0</td>\n",
       "      <td>1.0</td>\n",
       "      <td>2017-03-01</td>\n",
       "      <td>1</td>\n",
       "    </tr>\n",
       "    <tr>\n",
       "      <td>3</td>\n",
       "      <td>doctor</td>\n",
       "      <td>3.0</td>\n",
       "      <td>1.0</td>\n",
       "      <td>2017-03-01</td>\n",
       "      <td>1</td>\n",
       "    </tr>\n",
       "  </tbody>\n",
       "</table>\n",
       "</div>"
      ],
      "text/plain": [
       "         E    D    C          B  A\n",
       "0   police  3.0  1.0 2017-03-01  1\n",
       "1  student  3.0  1.0 2017-03-01  1\n",
       "2  teacher  3.0  1.0 2017-03-01  1\n",
       "3   doctor  3.0  1.0 2017-03-01  1"
      ]
     },
     "execution_count": 64,
     "metadata": {},
     "output_type": "execute_result"
    }
   ],
   "source": [
    "# sort columns in a descending order\n",
    "df2.sort_index(axis=1, ascending =False)"
   ]
  },
  {
   "cell_type": "markdown",
   "metadata": {},
   "source": [
    "#### Describe a dataframe"
   ]
  },
  {
   "cell_type": "code",
   "execution_count": 65,
   "metadata": {
    "scrolled": true
   },
   "outputs": [
    {
     "data": {
      "text/html": [
       "<div>\n",
       "<style scoped>\n",
       "    .dataframe tbody tr th:only-of-type {\n",
       "        vertical-align: middle;\n",
       "    }\n",
       "\n",
       "    .dataframe tbody tr th {\n",
       "        vertical-align: top;\n",
       "    }\n",
       "\n",
       "    .dataframe thead th {\n",
       "        text-align: right;\n",
       "    }\n",
       "</style>\n",
       "<table border=\"1\" class=\"dataframe\">\n",
       "  <thead>\n",
       "    <tr style=\"text-align: right;\">\n",
       "      <th></th>\n",
       "      <th>A</th>\n",
       "      <th>C</th>\n",
       "      <th>D</th>\n",
       "    </tr>\n",
       "  </thead>\n",
       "  <tbody>\n",
       "    <tr>\n",
       "      <td>count</td>\n",
       "      <td>4.0</td>\n",
       "      <td>4.0</td>\n",
       "      <td>4.0</td>\n",
       "    </tr>\n",
       "    <tr>\n",
       "      <td>mean</td>\n",
       "      <td>1.0</td>\n",
       "      <td>1.0</td>\n",
       "      <td>3.0</td>\n",
       "    </tr>\n",
       "    <tr>\n",
       "      <td>std</td>\n",
       "      <td>0.0</td>\n",
       "      <td>0.0</td>\n",
       "      <td>0.0</td>\n",
       "    </tr>\n",
       "    <tr>\n",
       "      <td>min</td>\n",
       "      <td>1.0</td>\n",
       "      <td>1.0</td>\n",
       "      <td>3.0</td>\n",
       "    </tr>\n",
       "    <tr>\n",
       "      <td>25%</td>\n",
       "      <td>1.0</td>\n",
       "      <td>1.0</td>\n",
       "      <td>3.0</td>\n",
       "    </tr>\n",
       "    <tr>\n",
       "      <td>50%</td>\n",
       "      <td>1.0</td>\n",
       "      <td>1.0</td>\n",
       "      <td>3.0</td>\n",
       "    </tr>\n",
       "    <tr>\n",
       "      <td>75%</td>\n",
       "      <td>1.0</td>\n",
       "      <td>1.0</td>\n",
       "      <td>3.0</td>\n",
       "    </tr>\n",
       "    <tr>\n",
       "      <td>max</td>\n",
       "      <td>1.0</td>\n",
       "      <td>1.0</td>\n",
       "      <td>3.0</td>\n",
       "    </tr>\n",
       "  </tbody>\n",
       "</table>\n",
       "</div>"
      ],
      "text/plain": [
       "         A    C    D\n",
       "count  4.0  4.0  4.0\n",
       "mean   1.0  1.0  3.0\n",
       "std    0.0  0.0  0.0\n",
       "min    1.0  1.0  3.0\n",
       "25%    1.0  1.0  3.0\n",
       "50%    1.0  1.0  3.0\n",
       "75%    1.0  1.0  3.0\n",
       "max    1.0  1.0  3.0"
      ]
     },
     "execution_count": 65,
     "metadata": {},
     "output_type": "execute_result"
    }
   ],
   "source": [
    "df2.describe()"
   ]
  },
  {
   "cell_type": "markdown",
   "metadata": {},
   "source": [
    "### Select"
   ]
  },
  {
   "cell_type": "markdown",
   "metadata": {},
   "source": [
    "#### Select a column by name"
   ]
  },
  {
   "cell_type": "code",
   "execution_count": 66,
   "metadata": {},
   "outputs": [
    {
     "name": "stdout",
     "output_type": "stream",
     "text": [
      "2017-03-01    1.136188\n",
      "2017-03-02   -3.161515\n",
      "2017-03-03    0.971818\n",
      "2017-03-04    0.860833\n",
      "2017-03-05    0.438992\n",
      "2017-03-06    1.392559\n",
      "2017-03-07    0.669316\n",
      "2017-03-08   -0.227305\n",
      "Freq: D, Name: A, dtype: float64\n",
      "<class 'pandas.core.series.Series'>\n"
     ]
    }
   ],
   "source": [
    "print(df['A'])\n",
    "print(type(df['A']))"
   ]
  },
  {
   "cell_type": "markdown",
   "metadata": {},
   "source": [
    "#### Select rows by line number"
   ]
  },
  {
   "cell_type": "code",
   "execution_count": 67,
   "metadata": {
    "scrolled": true
   },
   "outputs": [
    {
     "data": {
      "text/html": [
       "<div>\n",
       "<style scoped>\n",
       "    .dataframe tbody tr th:only-of-type {\n",
       "        vertical-align: middle;\n",
       "    }\n",
       "\n",
       "    .dataframe tbody tr th {\n",
       "        vertical-align: top;\n",
       "    }\n",
       "\n",
       "    .dataframe thead th {\n",
       "        text-align: right;\n",
       "    }\n",
       "</style>\n",
       "<table border=\"1\" class=\"dataframe\">\n",
       "  <thead>\n",
       "    <tr style=\"text-align: right;\">\n",
       "      <th></th>\n",
       "      <th>A</th>\n",
       "      <th>B</th>\n",
       "      <th>C</th>\n",
       "      <th>D</th>\n",
       "      <th>E</th>\n",
       "    </tr>\n",
       "  </thead>\n",
       "  <tbody>\n",
       "    <tr>\n",
       "      <td>2017-03-01</td>\n",
       "      <td>1.136188</td>\n",
       "      <td>-0.700101</td>\n",
       "      <td>-2.753206</td>\n",
       "      <td>-1.739592</td>\n",
       "      <td>0.165208</td>\n",
       "    </tr>\n",
       "    <tr>\n",
       "      <td>2017-03-02</td>\n",
       "      <td>-3.161515</td>\n",
       "      <td>1.167066</td>\n",
       "      <td>0.267987</td>\n",
       "      <td>0.518428</td>\n",
       "      <td>0.562063</td>\n",
       "    </tr>\n",
       "    <tr>\n",
       "      <td>2017-03-03</td>\n",
       "      <td>0.971818</td>\n",
       "      <td>0.800013</td>\n",
       "      <td>0.511845</td>\n",
       "      <td>-1.142495</td>\n",
       "      <td>-0.904380</td>\n",
       "    </tr>\n",
       "  </tbody>\n",
       "</table>\n",
       "</div>"
      ],
      "text/plain": [
       "                   A         B         C         D         E\n",
       "2017-03-01  1.136188 -0.700101 -2.753206 -1.739592  0.165208\n",
       "2017-03-02 -3.161515  1.167066  0.267987  0.518428  0.562063\n",
       "2017-03-03  0.971818  0.800013  0.511845 -1.142495 -0.904380"
      ]
     },
     "execution_count": 67,
     "metadata": {},
     "output_type": "execute_result"
    }
   ],
   "source": [
    "#Select first 3 lines\n",
    "df[:3]"
   ]
  },
  {
   "cell_type": "markdown",
   "metadata": {},
   "source": [
    "#### Select rows by index value"
   ]
  },
  {
   "cell_type": "code",
   "execution_count": 68,
   "metadata": {
    "scrolled": false
   },
   "outputs": [
    {
     "data": {
      "text/html": [
       "<div>\n",
       "<style scoped>\n",
       "    .dataframe tbody tr th:only-of-type {\n",
       "        vertical-align: middle;\n",
       "    }\n",
       "\n",
       "    .dataframe tbody tr th {\n",
       "        vertical-align: top;\n",
       "    }\n",
       "\n",
       "    .dataframe thead th {\n",
       "        text-align: right;\n",
       "    }\n",
       "</style>\n",
       "<table border=\"1\" class=\"dataframe\">\n",
       "  <thead>\n",
       "    <tr style=\"text-align: right;\">\n",
       "      <th></th>\n",
       "      <th>A</th>\n",
       "      <th>B</th>\n",
       "      <th>C</th>\n",
       "      <th>D</th>\n",
       "      <th>E</th>\n",
       "    </tr>\n",
       "  </thead>\n",
       "  <tbody>\n",
       "    <tr>\n",
       "      <td>2017-03-01</td>\n",
       "      <td>1.136188</td>\n",
       "      <td>-0.700101</td>\n",
       "      <td>-2.753206</td>\n",
       "      <td>-1.739592</td>\n",
       "      <td>0.165208</td>\n",
       "    </tr>\n",
       "    <tr>\n",
       "      <td>2017-03-02</td>\n",
       "      <td>-3.161515</td>\n",
       "      <td>1.167066</td>\n",
       "      <td>0.267987</td>\n",
       "      <td>0.518428</td>\n",
       "      <td>0.562063</td>\n",
       "    </tr>\n",
       "    <tr>\n",
       "      <td>2017-03-03</td>\n",
       "      <td>0.971818</td>\n",
       "      <td>0.800013</td>\n",
       "      <td>0.511845</td>\n",
       "      <td>-1.142495</td>\n",
       "      <td>-0.904380</td>\n",
       "    </tr>\n",
       "    <tr>\n",
       "      <td>2017-03-04</td>\n",
       "      <td>0.860833</td>\n",
       "      <td>0.434777</td>\n",
       "      <td>-1.356655</td>\n",
       "      <td>-0.259874</td>\n",
       "      <td>-1.588853</td>\n",
       "    </tr>\n",
       "  </tbody>\n",
       "</table>\n",
       "</div>"
      ],
      "text/plain": [
       "                   A         B         C         D         E\n",
       "2017-03-01  1.136188 -0.700101 -2.753206 -1.739592  0.165208\n",
       "2017-03-02 -3.161515  1.167066  0.267987  0.518428  0.562063\n",
       "2017-03-03  0.971818  0.800013  0.511845 -1.142495 -0.904380\n",
       "2017-03-04  0.860833  0.434777 -1.356655 -0.259874 -1.588853"
      ]
     },
     "execution_count": 68,
     "metadata": {},
     "output_type": "execute_result"
    }
   ],
   "source": [
    "df['20170301':'20170304']"
   ]
  },
  {
   "cell_type": "markdown",
   "metadata": {},
   "source": [
    "#### Select a row by Loc Function"
   ]
  },
  {
   "cell_type": "code",
   "execution_count": 69,
   "metadata": {
    "scrolled": true
   },
   "outputs": [
    {
     "data": {
      "text/plain": [
       "A    1.136188\n",
       "B   -0.700101\n",
       "C   -2.753206\n",
       "D   -1.739592\n",
       "E    0.165208\n",
       "Name: 2017-03-01 00:00:00, dtype: float64"
      ]
     },
     "execution_count": 69,
     "metadata": {},
     "output_type": "execute_result"
    }
   ],
   "source": [
    "df.loc['20170301']"
   ]
  },
  {
   "cell_type": "markdown",
   "metadata": {},
   "source": [
    "#### Select multi_rows and columns"
   ]
  },
  {
   "cell_type": "code",
   "execution_count": 70,
   "metadata": {},
   "outputs": [
    {
     "data": {
      "text/html": [
       "<div>\n",
       "<style scoped>\n",
       "    .dataframe tbody tr th:only-of-type {\n",
       "        vertical-align: middle;\n",
       "    }\n",
       "\n",
       "    .dataframe tbody tr th {\n",
       "        vertical-align: top;\n",
       "    }\n",
       "\n",
       "    .dataframe thead th {\n",
       "        text-align: right;\n",
       "    }\n",
       "</style>\n",
       "<table border=\"1\" class=\"dataframe\">\n",
       "  <thead>\n",
       "    <tr style=\"text-align: right;\">\n",
       "      <th></th>\n",
       "      <th>B</th>\n",
       "      <th>D</th>\n",
       "    </tr>\n",
       "  </thead>\n",
       "  <tbody>\n",
       "    <tr>\n",
       "      <td>2017-03-01</td>\n",
       "      <td>-0.700101</td>\n",
       "      <td>-1.739592</td>\n",
       "    </tr>\n",
       "    <tr>\n",
       "      <td>2017-03-02</td>\n",
       "      <td>1.167066</td>\n",
       "      <td>0.518428</td>\n",
       "    </tr>\n",
       "    <tr>\n",
       "      <td>2017-03-03</td>\n",
       "      <td>0.800013</td>\n",
       "      <td>-1.142495</td>\n",
       "    </tr>\n",
       "    <tr>\n",
       "      <td>2017-03-04</td>\n",
       "      <td>0.434777</td>\n",
       "      <td>-0.259874</td>\n",
       "    </tr>\n",
       "  </tbody>\n",
       "</table>\n",
       "</div>"
      ],
      "text/plain": [
       "                   B         D\n",
       "2017-03-01 -0.700101 -1.739592\n",
       "2017-03-02  1.167066  0.518428\n",
       "2017-03-03  0.800013 -1.142495\n",
       "2017-03-04  0.434777 -0.259874"
      ]
     },
     "execution_count": 70,
     "metadata": {},
     "output_type": "execute_result"
    }
   ],
   "source": [
    "df.loc['20170301':'20170304',['B','D']]"
   ]
  },
  {
   "cell_type": "markdown",
   "metadata": {},
   "source": [
    "#### select a certain value by loc function"
   ]
  },
  {
   "cell_type": "code",
   "execution_count": 71,
   "metadata": {
    "scrolled": true
   },
   "outputs": [
    {
     "data": {
      "text/plain": [
       "-2.7532061281407763"
      ]
     },
     "execution_count": 71,
     "metadata": {},
     "output_type": "execute_result"
    }
   ],
   "source": [
    "# can not use index value '20170301'\n",
    "df.at[dates[0],'C']"
   ]
  },
  {
   "cell_type": "markdown",
   "metadata": {},
   "source": [
    "#### Select rows and columns by interger location"
   ]
  },
  {
   "cell_type": "code",
   "execution_count": 72,
   "metadata": {
    "scrolled": true
   },
   "outputs": [
    {
     "data": {
      "text/html": [
       "<div>\n",
       "<style scoped>\n",
       "    .dataframe tbody tr th:only-of-type {\n",
       "        vertical-align: middle;\n",
       "    }\n",
       "\n",
       "    .dataframe tbody tr th {\n",
       "        vertical-align: top;\n",
       "    }\n",
       "\n",
       "    .dataframe thead th {\n",
       "        text-align: right;\n",
       "    }\n",
       "</style>\n",
       "<table border=\"1\" class=\"dataframe\">\n",
       "  <thead>\n",
       "    <tr style=\"text-align: right;\">\n",
       "      <th></th>\n",
       "      <th>C</th>\n",
       "      <th>D</th>\n",
       "    </tr>\n",
       "  </thead>\n",
       "  <tbody>\n",
       "    <tr>\n",
       "      <td>2017-03-02</td>\n",
       "      <td>0.267987</td>\n",
       "      <td>0.518428</td>\n",
       "    </tr>\n",
       "    <tr>\n",
       "      <td>2017-03-03</td>\n",
       "      <td>0.511845</td>\n",
       "      <td>-1.142495</td>\n",
       "    </tr>\n",
       "  </tbody>\n",
       "</table>\n",
       "</div>"
      ],
      "text/plain": [
       "                   C         D\n",
       "2017-03-02  0.267987  0.518428\n",
       "2017-03-03  0.511845 -1.142495"
      ]
     },
     "execution_count": 72,
     "metadata": {},
     "output_type": "execute_result"
    }
   ],
   "source": [
    "df.iloc[1:3,2:4]"
   ]
  },
  {
   "cell_type": "markdown",
   "metadata": {},
   "source": [
    "#### Select a certain value by interger location"
   ]
  },
  {
   "cell_type": "code",
   "execution_count": 73,
   "metadata": {},
   "outputs": [
    {
     "data": {
      "text/plain": [
       "0.5620625447426749"
      ]
     },
     "execution_count": 73,
     "metadata": {},
     "output_type": "execute_result"
    }
   ],
   "source": [
    "df.iloc[1,4]"
   ]
  },
  {
   "cell_type": "markdown",
   "metadata": {},
   "source": [
    "#### Conditonal Selection"
   ]
  },
  {
   "cell_type": "code",
   "execution_count": 74,
   "metadata": {
    "scrolled": false
   },
   "outputs": [
    {
     "data": {
      "text/html": [
       "<div>\n",
       "<style scoped>\n",
       "    .dataframe tbody tr th:only-of-type {\n",
       "        vertical-align: middle;\n",
       "    }\n",
       "\n",
       "    .dataframe tbody tr th {\n",
       "        vertical-align: top;\n",
       "    }\n",
       "\n",
       "    .dataframe thead th {\n",
       "        text-align: right;\n",
       "    }\n",
       "</style>\n",
       "<table border=\"1\" class=\"dataframe\">\n",
       "  <thead>\n",
       "    <tr style=\"text-align: right;\">\n",
       "      <th></th>\n",
       "      <th>A</th>\n",
       "      <th>B</th>\n",
       "      <th>C</th>\n",
       "      <th>D</th>\n",
       "      <th>E</th>\n",
       "    </tr>\n",
       "  </thead>\n",
       "  <tbody>\n",
       "    <tr>\n",
       "      <td>2017-03-02</td>\n",
       "      <td>-3.161515</td>\n",
       "      <td>1.167066</td>\n",
       "      <td>0.267987</td>\n",
       "      <td>0.518428</td>\n",
       "      <td>0.562063</td>\n",
       "    </tr>\n",
       "    <tr>\n",
       "      <td>2017-03-03</td>\n",
       "      <td>0.971818</td>\n",
       "      <td>0.800013</td>\n",
       "      <td>0.511845</td>\n",
       "      <td>-1.142495</td>\n",
       "      <td>-0.904380</td>\n",
       "    </tr>\n",
       "    <tr>\n",
       "      <td>2017-03-04</td>\n",
       "      <td>0.860833</td>\n",
       "      <td>0.434777</td>\n",
       "      <td>-1.356655</td>\n",
       "      <td>-0.259874</td>\n",
       "      <td>-1.588853</td>\n",
       "    </tr>\n",
       "    <tr>\n",
       "      <td>2017-03-07</td>\n",
       "      <td>0.669316</td>\n",
       "      <td>0.866234</td>\n",
       "      <td>1.026628</td>\n",
       "      <td>-0.498589</td>\n",
       "      <td>0.543584</td>\n",
       "    </tr>\n",
       "    <tr>\n",
       "      <td>2017-03-08</td>\n",
       "      <td>-0.227305</td>\n",
       "      <td>0.203376</td>\n",
       "      <td>-0.276017</td>\n",
       "      <td>0.123075</td>\n",
       "      <td>-0.123745</td>\n",
       "    </tr>\n",
       "  </tbody>\n",
       "</table>\n",
       "</div>"
      ],
      "text/plain": [
       "                   A         B         C         D         E\n",
       "2017-03-02 -3.161515  1.167066  0.267987  0.518428  0.562063\n",
       "2017-03-03  0.971818  0.800013  0.511845 -1.142495 -0.904380\n",
       "2017-03-04  0.860833  0.434777 -1.356655 -0.259874 -1.588853\n",
       "2017-03-07  0.669316  0.866234  1.026628 -0.498589  0.543584\n",
       "2017-03-08 -0.227305  0.203376 -0.276017  0.123075 -0.123745"
      ]
     },
     "execution_count": 74,
     "metadata": {},
     "output_type": "execute_result"
    }
   ],
   "source": [
    "df[df.B >0]"
   ]
  },
  {
   "cell_type": "code",
   "execution_count": 75,
   "metadata": {},
   "outputs": [
    {
     "data": {
      "text/html": [
       "<div>\n",
       "<style scoped>\n",
       "    .dataframe tbody tr th:only-of-type {\n",
       "        vertical-align: middle;\n",
       "    }\n",
       "\n",
       "    .dataframe tbody tr th {\n",
       "        vertical-align: top;\n",
       "    }\n",
       "\n",
       "    .dataframe thead th {\n",
       "        text-align: right;\n",
       "    }\n",
       "</style>\n",
       "<table border=\"1\" class=\"dataframe\">\n",
       "  <thead>\n",
       "    <tr style=\"text-align: right;\">\n",
       "      <th></th>\n",
       "      <th>A</th>\n",
       "      <th>B</th>\n",
       "      <th>C</th>\n",
       "      <th>D</th>\n",
       "      <th>E</th>\n",
       "    </tr>\n",
       "  </thead>\n",
       "  <tbody>\n",
       "  </tbody>\n",
       "</table>\n",
       "</div>"
      ],
      "text/plain": [
       "Empty DataFrame\n",
       "Columns: [A, B, C, D, E]\n",
       "Index: []"
      ]
     },
     "execution_count": 75,
     "metadata": {},
     "output_type": "execute_result"
    }
   ],
   "source": [
    "df[df.E.isin([1,2])]"
   ]
  },
  {
   "cell_type": "markdown",
   "metadata": {},
   "source": [
    "### Set dataframe"
   ]
  },
  {
   "cell_type": "markdown",
   "metadata": {},
   "source": [
    "#### Add a new column"
   ]
  },
  {
   "cell_type": "code",
   "execution_count": 76,
   "metadata": {
    "scrolled": true
   },
   "outputs": [
    {
     "data": {
      "text/html": [
       "<div>\n",
       "<style scoped>\n",
       "    .dataframe tbody tr th:only-of-type {\n",
       "        vertical-align: middle;\n",
       "    }\n",
       "\n",
       "    .dataframe tbody tr th {\n",
       "        vertical-align: top;\n",
       "    }\n",
       "\n",
       "    .dataframe thead th {\n",
       "        text-align: right;\n",
       "    }\n",
       "</style>\n",
       "<table border=\"1\" class=\"dataframe\">\n",
       "  <thead>\n",
       "    <tr style=\"text-align: right;\">\n",
       "      <th></th>\n",
       "      <th>A</th>\n",
       "      <th>B</th>\n",
       "      <th>C</th>\n",
       "      <th>D</th>\n",
       "      <th>E</th>\n",
       "      <th>F</th>\n",
       "    </tr>\n",
       "  </thead>\n",
       "  <tbody>\n",
       "    <tr>\n",
       "      <td>2017-03-01</td>\n",
       "      <td>1.136188</td>\n",
       "      <td>-0.700101</td>\n",
       "      <td>-2.753206</td>\n",
       "      <td>-1.739592</td>\n",
       "      <td>0.165208</td>\n",
       "      <td>10</td>\n",
       "    </tr>\n",
       "    <tr>\n",
       "      <td>2017-03-02</td>\n",
       "      <td>-3.161515</td>\n",
       "      <td>1.167066</td>\n",
       "      <td>0.267987</td>\n",
       "      <td>0.518428</td>\n",
       "      <td>0.562063</td>\n",
       "      <td>11</td>\n",
       "    </tr>\n",
       "    <tr>\n",
       "      <td>2017-03-03</td>\n",
       "      <td>0.971818</td>\n",
       "      <td>0.800013</td>\n",
       "      <td>0.511845</td>\n",
       "      <td>-1.142495</td>\n",
       "      <td>-0.904380</td>\n",
       "      <td>12</td>\n",
       "    </tr>\n",
       "    <tr>\n",
       "      <td>2017-03-04</td>\n",
       "      <td>0.860833</td>\n",
       "      <td>0.434777</td>\n",
       "      <td>-1.356655</td>\n",
       "      <td>-0.259874</td>\n",
       "      <td>-1.588853</td>\n",
       "      <td>13</td>\n",
       "    </tr>\n",
       "    <tr>\n",
       "      <td>2017-03-05</td>\n",
       "      <td>0.438992</td>\n",
       "      <td>-0.884697</td>\n",
       "      <td>-0.064548</td>\n",
       "      <td>0.700341</td>\n",
       "      <td>0.623097</td>\n",
       "      <td>14</td>\n",
       "    </tr>\n",
       "    <tr>\n",
       "      <td>2017-03-06</td>\n",
       "      <td>1.392559</td>\n",
       "      <td>-0.461703</td>\n",
       "      <td>0.077633</td>\n",
       "      <td>0.261282</td>\n",
       "      <td>-1.060811</td>\n",
       "      <td>15</td>\n",
       "    </tr>\n",
       "    <tr>\n",
       "      <td>2017-03-07</td>\n",
       "      <td>0.669316</td>\n",
       "      <td>0.866234</td>\n",
       "      <td>1.026628</td>\n",
       "      <td>-0.498589</td>\n",
       "      <td>0.543584</td>\n",
       "      <td>16</td>\n",
       "    </tr>\n",
       "    <tr>\n",
       "      <td>2017-03-08</td>\n",
       "      <td>-0.227305</td>\n",
       "      <td>0.203376</td>\n",
       "      <td>-0.276017</td>\n",
       "      <td>0.123075</td>\n",
       "      <td>-0.123745</td>\n",
       "      <td>17</td>\n",
       "    </tr>\n",
       "  </tbody>\n",
       "</table>\n",
       "</div>"
      ],
      "text/plain": [
       "                   A         B         C         D         E   F\n",
       "2017-03-01  1.136188 -0.700101 -2.753206 -1.739592  0.165208  10\n",
       "2017-03-02 -3.161515  1.167066  0.267987  0.518428  0.562063  11\n",
       "2017-03-03  0.971818  0.800013  0.511845 -1.142495 -0.904380  12\n",
       "2017-03-04  0.860833  0.434777 -1.356655 -0.259874 -1.588853  13\n",
       "2017-03-05  0.438992 -0.884697 -0.064548  0.700341  0.623097  14\n",
       "2017-03-06  1.392559 -0.461703  0.077633  0.261282 -1.060811  15\n",
       "2017-03-07  0.669316  0.866234  1.026628 -0.498589  0.543584  16\n",
       "2017-03-08 -0.227305  0.203376 -0.276017  0.123075 -0.123745  17"
      ]
     },
     "execution_count": 76,
     "metadata": {},
     "output_type": "execute_result"
    }
   ],
   "source": [
    "s1 = pd.Series(list(range(10,18)),index=pd.date_range('20170301',periods=8))\n",
    "df['F']=s1\n",
    "df"
   ]
  },
  {
   "cell_type": "markdown",
   "metadata": {},
   "source": [
    "#### reset a value "
   ]
  },
  {
   "cell_type": "code",
   "execution_count": 77,
   "metadata": {
    "scrolled": true
   },
   "outputs": [
    {
     "data": {
      "text/html": [
       "<div>\n",
       "<style scoped>\n",
       "    .dataframe tbody tr th:only-of-type {\n",
       "        vertical-align: middle;\n",
       "    }\n",
       "\n",
       "    .dataframe tbody tr th {\n",
       "        vertical-align: top;\n",
       "    }\n",
       "\n",
       "    .dataframe thead th {\n",
       "        text-align: right;\n",
       "    }\n",
       "</style>\n",
       "<table border=\"1\" class=\"dataframe\">\n",
       "  <thead>\n",
       "    <tr style=\"text-align: right;\">\n",
       "      <th></th>\n",
       "      <th>A</th>\n",
       "      <th>B</th>\n",
       "      <th>C</th>\n",
       "      <th>D</th>\n",
       "      <th>E</th>\n",
       "      <th>F</th>\n",
       "    </tr>\n",
       "  </thead>\n",
       "  <tbody>\n",
       "    <tr>\n",
       "      <td>2017-03-01</td>\n",
       "      <td>0.000000</td>\n",
       "      <td>-0.700101</td>\n",
       "      <td>-2.753206</td>\n",
       "      <td>-1.739592</td>\n",
       "      <td>0.165208</td>\n",
       "      <td>10</td>\n",
       "    </tr>\n",
       "    <tr>\n",
       "      <td>2017-03-02</td>\n",
       "      <td>0.000000</td>\n",
       "      <td>1.167066</td>\n",
       "      <td>0.267987</td>\n",
       "      <td>0.518428</td>\n",
       "      <td>0.562063</td>\n",
       "      <td>11</td>\n",
       "    </tr>\n",
       "    <tr>\n",
       "      <td>2017-03-03</td>\n",
       "      <td>0.971818</td>\n",
       "      <td>0.800013</td>\n",
       "      <td>0.511845</td>\n",
       "      <td>-1.142495</td>\n",
       "      <td>-0.904380</td>\n",
       "      <td>12</td>\n",
       "    </tr>\n",
       "    <tr>\n",
       "      <td>2017-03-04</td>\n",
       "      <td>0.860833</td>\n",
       "      <td>0.434777</td>\n",
       "      <td>-1.356655</td>\n",
       "      <td>-0.259874</td>\n",
       "      <td>-1.588853</td>\n",
       "      <td>13</td>\n",
       "    </tr>\n",
       "    <tr>\n",
       "      <td>2017-03-05</td>\n",
       "      <td>0.438992</td>\n",
       "      <td>-0.884697</td>\n",
       "      <td>-0.064548</td>\n",
       "      <td>0.700341</td>\n",
       "      <td>0.623097</td>\n",
       "      <td>14</td>\n",
       "    </tr>\n",
       "    <tr>\n",
       "      <td>2017-03-06</td>\n",
       "      <td>1.392559</td>\n",
       "      <td>-0.461703</td>\n",
       "      <td>0.077633</td>\n",
       "      <td>0.261282</td>\n",
       "      <td>-1.060811</td>\n",
       "      <td>15</td>\n",
       "    </tr>\n",
       "    <tr>\n",
       "      <td>2017-03-07</td>\n",
       "      <td>0.669316</td>\n",
       "      <td>0.866234</td>\n",
       "      <td>1.026628</td>\n",
       "      <td>-0.498589</td>\n",
       "      <td>0.543584</td>\n",
       "      <td>16</td>\n",
       "    </tr>\n",
       "    <tr>\n",
       "      <td>2017-03-08</td>\n",
       "      <td>-0.227305</td>\n",
       "      <td>0.203376</td>\n",
       "      <td>-0.276017</td>\n",
       "      <td>0.123075</td>\n",
       "      <td>-0.123745</td>\n",
       "      <td>17</td>\n",
       "    </tr>\n",
       "  </tbody>\n",
       "</table>\n",
       "</div>"
      ],
      "text/plain": [
       "                   A         B         C         D         E   F\n",
       "2017-03-01  0.000000 -0.700101 -2.753206 -1.739592  0.165208  10\n",
       "2017-03-02  0.000000  1.167066  0.267987  0.518428  0.562063  11\n",
       "2017-03-03  0.971818  0.800013  0.511845 -1.142495 -0.904380  12\n",
       "2017-03-04  0.860833  0.434777 -1.356655 -0.259874 -1.588853  13\n",
       "2017-03-05  0.438992 -0.884697 -0.064548  0.700341  0.623097  14\n",
       "2017-03-06  1.392559 -0.461703  0.077633  0.261282 -1.060811  15\n",
       "2017-03-07  0.669316  0.866234  1.026628 -0.498589  0.543584  16\n",
       "2017-03-08 -0.227305  0.203376 -0.276017  0.123075 -0.123745  17"
      ]
     },
     "execution_count": 77,
     "metadata": {},
     "output_type": "execute_result"
    }
   ],
   "source": [
    "#set first value = 0\n",
    "df.at[dates[0],'A']=0\n",
    "#set second value in column A to 0\n",
    "df.iloc[1,0]=0\n",
    "df"
   ]
  },
  {
   "cell_type": "markdown",
   "metadata": {},
   "source": [
    "#### reset values of a colum"
   ]
  },
  {
   "cell_type": "code",
   "execution_count": 78,
   "metadata": {
    "scrolled": true
   },
   "outputs": [
    {
     "data": {
      "text/html": [
       "<div>\n",
       "<style scoped>\n",
       "    .dataframe tbody tr th:only-of-type {\n",
       "        vertical-align: middle;\n",
       "    }\n",
       "\n",
       "    .dataframe tbody tr th {\n",
       "        vertical-align: top;\n",
       "    }\n",
       "\n",
       "    .dataframe thead th {\n",
       "        text-align: right;\n",
       "    }\n",
       "</style>\n",
       "<table border=\"1\" class=\"dataframe\">\n",
       "  <thead>\n",
       "    <tr style=\"text-align: right;\">\n",
       "      <th></th>\n",
       "      <th>A</th>\n",
       "      <th>B</th>\n",
       "      <th>C</th>\n",
       "      <th>D</th>\n",
       "      <th>E</th>\n",
       "      <th>F</th>\n",
       "    </tr>\n",
       "  </thead>\n",
       "  <tbody>\n",
       "    <tr>\n",
       "      <td>2017-03-01</td>\n",
       "      <td>0.000000</td>\n",
       "      <td>-0.700101</td>\n",
       "      <td>-2.753206</td>\n",
       "      <td>4</td>\n",
       "      <td>0.165208</td>\n",
       "      <td>10</td>\n",
       "    </tr>\n",
       "    <tr>\n",
       "      <td>2017-03-02</td>\n",
       "      <td>0.000000</td>\n",
       "      <td>1.167066</td>\n",
       "      <td>0.267987</td>\n",
       "      <td>4</td>\n",
       "      <td>0.562063</td>\n",
       "      <td>11</td>\n",
       "    </tr>\n",
       "    <tr>\n",
       "      <td>2017-03-03</td>\n",
       "      <td>0.971818</td>\n",
       "      <td>0.800013</td>\n",
       "      <td>0.511845</td>\n",
       "      <td>4</td>\n",
       "      <td>-0.904380</td>\n",
       "      <td>12</td>\n",
       "    </tr>\n",
       "    <tr>\n",
       "      <td>2017-03-04</td>\n",
       "      <td>0.860833</td>\n",
       "      <td>0.434777</td>\n",
       "      <td>-1.356655</td>\n",
       "      <td>4</td>\n",
       "      <td>-1.588853</td>\n",
       "      <td>13</td>\n",
       "    </tr>\n",
       "    <tr>\n",
       "      <td>2017-03-05</td>\n",
       "      <td>0.438992</td>\n",
       "      <td>-0.884697</td>\n",
       "      <td>-0.064548</td>\n",
       "      <td>4</td>\n",
       "      <td>0.623097</td>\n",
       "      <td>14</td>\n",
       "    </tr>\n",
       "    <tr>\n",
       "      <td>2017-03-06</td>\n",
       "      <td>1.392559</td>\n",
       "      <td>-0.461703</td>\n",
       "      <td>0.077633</td>\n",
       "      <td>4</td>\n",
       "      <td>-1.060811</td>\n",
       "      <td>15</td>\n",
       "    </tr>\n",
       "    <tr>\n",
       "      <td>2017-03-07</td>\n",
       "      <td>0.669316</td>\n",
       "      <td>0.866234</td>\n",
       "      <td>1.026628</td>\n",
       "      <td>4</td>\n",
       "      <td>0.543584</td>\n",
       "      <td>16</td>\n",
       "    </tr>\n",
       "    <tr>\n",
       "      <td>2017-03-08</td>\n",
       "      <td>-0.227305</td>\n",
       "      <td>0.203376</td>\n",
       "      <td>-0.276017</td>\n",
       "      <td>4</td>\n",
       "      <td>-0.123745</td>\n",
       "      <td>17</td>\n",
       "    </tr>\n",
       "  </tbody>\n",
       "</table>\n",
       "</div>"
      ],
      "text/plain": [
       "                   A         B         C  D         E   F\n",
       "2017-03-01  0.000000 -0.700101 -2.753206  4  0.165208  10\n",
       "2017-03-02  0.000000  1.167066  0.267987  4  0.562063  11\n",
       "2017-03-03  0.971818  0.800013  0.511845  4 -0.904380  12\n",
       "2017-03-04  0.860833  0.434777 -1.356655  4 -1.588853  13\n",
       "2017-03-05  0.438992 -0.884697 -0.064548  4  0.623097  14\n",
       "2017-03-06  1.392559 -0.461703  0.077633  4 -1.060811  15\n",
       "2017-03-07  0.669316  0.866234  1.026628  4  0.543584  16\n",
       "2017-03-08 -0.227305  0.203376 -0.276017  4 -0.123745  17"
      ]
     },
     "execution_count": 78,
     "metadata": {},
     "output_type": "execute_result"
    }
   ],
   "source": [
    "df.loc[:,'D']=np.array([4]*len(df))\n",
    "df"
   ]
  },
  {
   "cell_type": "markdown",
   "metadata": {},
   "source": [
    "#### Copy a data frame "
   ]
  },
  {
   "cell_type": "code",
   "execution_count": 79,
   "metadata": {},
   "outputs": [
    {
     "data": {
      "text/html": [
       "<div>\n",
       "<style scoped>\n",
       "    .dataframe tbody tr th:only-of-type {\n",
       "        vertical-align: middle;\n",
       "    }\n",
       "\n",
       "    .dataframe tbody tr th {\n",
       "        vertical-align: top;\n",
       "    }\n",
       "\n",
       "    .dataframe thead th {\n",
       "        text-align: right;\n",
       "    }\n",
       "</style>\n",
       "<table border=\"1\" class=\"dataframe\">\n",
       "  <thead>\n",
       "    <tr style=\"text-align: right;\">\n",
       "      <th></th>\n",
       "      <th>A</th>\n",
       "      <th>B</th>\n",
       "      <th>C</th>\n",
       "      <th>D</th>\n",
       "      <th>E</th>\n",
       "      <th>F</th>\n",
       "    </tr>\n",
       "  </thead>\n",
       "  <tbody>\n",
       "    <tr>\n",
       "      <td>2017-03-01</td>\n",
       "      <td>0.000000</td>\n",
       "      <td>-0.700101</td>\n",
       "      <td>-2.753206</td>\n",
       "      <td>-4</td>\n",
       "      <td>-0.165208</td>\n",
       "      <td>-10</td>\n",
       "    </tr>\n",
       "    <tr>\n",
       "      <td>2017-03-02</td>\n",
       "      <td>0.000000</td>\n",
       "      <td>-1.167066</td>\n",
       "      <td>-0.267987</td>\n",
       "      <td>-4</td>\n",
       "      <td>-0.562063</td>\n",
       "      <td>-11</td>\n",
       "    </tr>\n",
       "    <tr>\n",
       "      <td>2017-03-03</td>\n",
       "      <td>-0.971818</td>\n",
       "      <td>-0.800013</td>\n",
       "      <td>-0.511845</td>\n",
       "      <td>-4</td>\n",
       "      <td>-0.904380</td>\n",
       "      <td>-12</td>\n",
       "    </tr>\n",
       "    <tr>\n",
       "      <td>2017-03-04</td>\n",
       "      <td>-0.860833</td>\n",
       "      <td>-0.434777</td>\n",
       "      <td>-1.356655</td>\n",
       "      <td>-4</td>\n",
       "      <td>-1.588853</td>\n",
       "      <td>-13</td>\n",
       "    </tr>\n",
       "    <tr>\n",
       "      <td>2017-03-05</td>\n",
       "      <td>-0.438992</td>\n",
       "      <td>-0.884697</td>\n",
       "      <td>-0.064548</td>\n",
       "      <td>-4</td>\n",
       "      <td>-0.623097</td>\n",
       "      <td>-14</td>\n",
       "    </tr>\n",
       "    <tr>\n",
       "      <td>2017-03-06</td>\n",
       "      <td>-1.392559</td>\n",
       "      <td>-0.461703</td>\n",
       "      <td>-0.077633</td>\n",
       "      <td>-4</td>\n",
       "      <td>-1.060811</td>\n",
       "      <td>-15</td>\n",
       "    </tr>\n",
       "    <tr>\n",
       "      <td>2017-03-07</td>\n",
       "      <td>-0.669316</td>\n",
       "      <td>-0.866234</td>\n",
       "      <td>-1.026628</td>\n",
       "      <td>-4</td>\n",
       "      <td>-0.543584</td>\n",
       "      <td>-16</td>\n",
       "    </tr>\n",
       "    <tr>\n",
       "      <td>2017-03-08</td>\n",
       "      <td>-0.227305</td>\n",
       "      <td>-0.203376</td>\n",
       "      <td>-0.276017</td>\n",
       "      <td>-4</td>\n",
       "      <td>-0.123745</td>\n",
       "      <td>-17</td>\n",
       "    </tr>\n",
       "  </tbody>\n",
       "</table>\n",
       "</div>"
      ],
      "text/plain": [
       "                   A         B         C  D         E   F\n",
       "2017-03-01  0.000000 -0.700101 -2.753206 -4 -0.165208 -10\n",
       "2017-03-02  0.000000 -1.167066 -0.267987 -4 -0.562063 -11\n",
       "2017-03-03 -0.971818 -0.800013 -0.511845 -4 -0.904380 -12\n",
       "2017-03-04 -0.860833 -0.434777 -1.356655 -4 -1.588853 -13\n",
       "2017-03-05 -0.438992 -0.884697 -0.064548 -4 -0.623097 -14\n",
       "2017-03-06 -1.392559 -0.461703 -0.077633 -4 -1.060811 -15\n",
       "2017-03-07 -0.669316 -0.866234 -1.026628 -4 -0.543584 -16\n",
       "2017-03-08 -0.227305 -0.203376 -0.276017 -4 -0.123745 -17"
      ]
     },
     "execution_count": 79,
     "metadata": {},
     "output_type": "execute_result"
    }
   ],
   "source": [
    "df2=df.copy()\n",
    "# Select all the positive values and change them to negative\n",
    "df2[df2>0]=-df2\n",
    "df2"
   ]
  },
  {
   "cell_type": "markdown",
   "metadata": {},
   "source": [
    "## Missing Data Processing"
   ]
  },
  {
   "cell_type": "code",
   "execution_count": 80,
   "metadata": {},
   "outputs": [
    {
     "data": {
      "text/html": [
       "<div>\n",
       "<style scoped>\n",
       "    .dataframe tbody tr th:only-of-type {\n",
       "        vertical-align: middle;\n",
       "    }\n",
       "\n",
       "    .dataframe tbody tr th {\n",
       "        vertical-align: top;\n",
       "    }\n",
       "\n",
       "    .dataframe thead th {\n",
       "        text-align: right;\n",
       "    }\n",
       "</style>\n",
       "<table border=\"1\" class=\"dataframe\">\n",
       "  <thead>\n",
       "    <tr style=\"text-align: right;\">\n",
       "      <th></th>\n",
       "      <th>A</th>\n",
       "      <th>B</th>\n",
       "      <th>C</th>\n",
       "      <th>D</th>\n",
       "      <th>G</th>\n",
       "    </tr>\n",
       "  </thead>\n",
       "  <tbody>\n",
       "    <tr>\n",
       "      <td>2017-03-01</td>\n",
       "      <td>0.000000</td>\n",
       "      <td>-0.700101</td>\n",
       "      <td>-2.753206</td>\n",
       "      <td>4</td>\n",
       "      <td>1.0</td>\n",
       "    </tr>\n",
       "    <tr>\n",
       "      <td>2017-03-02</td>\n",
       "      <td>0.000000</td>\n",
       "      <td>1.167066</td>\n",
       "      <td>0.267987</td>\n",
       "      <td>4</td>\n",
       "      <td>1.0</td>\n",
       "    </tr>\n",
       "    <tr>\n",
       "      <td>2017-03-03</td>\n",
       "      <td>0.971818</td>\n",
       "      <td>0.800013</td>\n",
       "      <td>0.511845</td>\n",
       "      <td>4</td>\n",
       "      <td>NaN</td>\n",
       "    </tr>\n",
       "    <tr>\n",
       "      <td>2017-03-04</td>\n",
       "      <td>0.860833</td>\n",
       "      <td>0.434777</td>\n",
       "      <td>-1.356655</td>\n",
       "      <td>4</td>\n",
       "      <td>NaN</td>\n",
       "    </tr>\n",
       "  </tbody>\n",
       "</table>\n",
       "</div>"
      ],
      "text/plain": [
       "                   A         B         C  D    G\n",
       "2017-03-01  0.000000 -0.700101 -2.753206  4  1.0\n",
       "2017-03-02  0.000000  1.167066  0.267987  4  1.0\n",
       "2017-03-03  0.971818  0.800013  0.511845  4  NaN\n",
       "2017-03-04  0.860833  0.434777 -1.356655  4  NaN"
      ]
     },
     "execution_count": 80,
     "metadata": {},
     "output_type": "execute_result"
    }
   ],
   "source": [
    "# Create a column G with nulls \n",
    "df1=df.reindex(index=dates[:4],columns=list('ABCD')+[\"G\"])\n",
    "# fill first two nulls with 1\n",
    "df1.loc[dates[0]:dates[1],'G']=1\n",
    "df1"
   ]
  },
  {
   "cell_type": "markdown",
   "metadata": {},
   "source": [
    "### Drop nulls"
   ]
  },
  {
   "cell_type": "code",
   "execution_count": 81,
   "metadata": {
    "scrolled": true
   },
   "outputs": [
    {
     "data": {
      "text/html": [
       "<div>\n",
       "<style scoped>\n",
       "    .dataframe tbody tr th:only-of-type {\n",
       "        vertical-align: middle;\n",
       "    }\n",
       "\n",
       "    .dataframe tbody tr th {\n",
       "        vertical-align: top;\n",
       "    }\n",
       "\n",
       "    .dataframe thead th {\n",
       "        text-align: right;\n",
       "    }\n",
       "</style>\n",
       "<table border=\"1\" class=\"dataframe\">\n",
       "  <thead>\n",
       "    <tr style=\"text-align: right;\">\n",
       "      <th></th>\n",
       "      <th>A</th>\n",
       "      <th>B</th>\n",
       "      <th>C</th>\n",
       "      <th>D</th>\n",
       "      <th>G</th>\n",
       "    </tr>\n",
       "  </thead>\n",
       "  <tbody>\n",
       "    <tr>\n",
       "      <td>2017-03-01</td>\n",
       "      <td>0.0</td>\n",
       "      <td>-0.700101</td>\n",
       "      <td>-2.753206</td>\n",
       "      <td>4</td>\n",
       "      <td>1.0</td>\n",
       "    </tr>\n",
       "    <tr>\n",
       "      <td>2017-03-02</td>\n",
       "      <td>0.0</td>\n",
       "      <td>1.167066</td>\n",
       "      <td>0.267987</td>\n",
       "      <td>4</td>\n",
       "      <td>1.0</td>\n",
       "    </tr>\n",
       "  </tbody>\n",
       "</table>\n",
       "</div>"
      ],
      "text/plain": [
       "              A         B         C  D    G\n",
       "2017-03-01  0.0 -0.700101 -2.753206  4  1.0\n",
       "2017-03-02  0.0  1.167066  0.267987  4  1.0"
      ]
     },
     "execution_count": 81,
     "metadata": {},
     "output_type": "execute_result"
    }
   ],
   "source": [
    "df1.dropna()"
   ]
  },
  {
   "cell_type": "markdown",
   "metadata": {},
   "source": [
    "### fill null values"
   ]
  },
  {
   "cell_type": "code",
   "execution_count": 82,
   "metadata": {},
   "outputs": [
    {
     "data": {
      "text/html": [
       "<div>\n",
       "<style scoped>\n",
       "    .dataframe tbody tr th:only-of-type {\n",
       "        vertical-align: middle;\n",
       "    }\n",
       "\n",
       "    .dataframe tbody tr th {\n",
       "        vertical-align: top;\n",
       "    }\n",
       "\n",
       "    .dataframe thead th {\n",
       "        text-align: right;\n",
       "    }\n",
       "</style>\n",
       "<table border=\"1\" class=\"dataframe\">\n",
       "  <thead>\n",
       "    <tr style=\"text-align: right;\">\n",
       "      <th></th>\n",
       "      <th>A</th>\n",
       "      <th>B</th>\n",
       "      <th>C</th>\n",
       "      <th>D</th>\n",
       "      <th>G</th>\n",
       "    </tr>\n",
       "  </thead>\n",
       "  <tbody>\n",
       "    <tr>\n",
       "      <td>2017-03-01</td>\n",
       "      <td>0.000000</td>\n",
       "      <td>-0.700101</td>\n",
       "      <td>-2.753206</td>\n",
       "      <td>4</td>\n",
       "      <td>1.0</td>\n",
       "    </tr>\n",
       "    <tr>\n",
       "      <td>2017-03-02</td>\n",
       "      <td>0.000000</td>\n",
       "      <td>1.167066</td>\n",
       "      <td>0.267987</td>\n",
       "      <td>4</td>\n",
       "      <td>1.0</td>\n",
       "    </tr>\n",
       "    <tr>\n",
       "      <td>2017-03-03</td>\n",
       "      <td>0.971818</td>\n",
       "      <td>0.800013</td>\n",
       "      <td>0.511845</td>\n",
       "      <td>4</td>\n",
       "      <td>2.0</td>\n",
       "    </tr>\n",
       "    <tr>\n",
       "      <td>2017-03-04</td>\n",
       "      <td>0.860833</td>\n",
       "      <td>0.434777</td>\n",
       "      <td>-1.356655</td>\n",
       "      <td>4</td>\n",
       "      <td>2.0</td>\n",
       "    </tr>\n",
       "  </tbody>\n",
       "</table>\n",
       "</div>"
      ],
      "text/plain": [
       "                   A         B         C  D    G\n",
       "2017-03-01  0.000000 -0.700101 -2.753206  4  1.0\n",
       "2017-03-02  0.000000  1.167066  0.267987  4  1.0\n",
       "2017-03-03  0.971818  0.800013  0.511845  4  2.0\n",
       "2017-03-04  0.860833  0.434777 -1.356655  4  2.0"
      ]
     },
     "execution_count": 82,
     "metadata": {},
     "output_type": "execute_result"
    }
   ],
   "source": [
    "df1.fillna(value=2)"
   ]
  },
  {
   "cell_type": "markdown",
   "metadata": {},
   "source": [
    "## Statistic & Merge & Reshape"
   ]
  },
  {
   "cell_type": "markdown",
   "metadata": {},
   "source": [
    "### Statistic"
   ]
  },
  {
   "cell_type": "markdown",
   "metadata": {},
   "source": [
    "#### Mean of each column"
   ]
  },
  {
   "cell_type": "code",
   "execution_count": 83,
   "metadata": {
    "scrolled": false
   },
   "outputs": [
    {
     "data": {
      "text/plain": [
       "A     0.513277\n",
       "B     0.178121\n",
       "C    -0.320792\n",
       "D     4.000000\n",
       "E    -0.222980\n",
       "F    13.500000\n",
       "dtype: float64"
      ]
     },
     "execution_count": 83,
     "metadata": {},
     "output_type": "execute_result"
    }
   ],
   "source": [
    "df.mean()"
   ]
  },
  {
   "cell_type": "markdown",
   "metadata": {},
   "source": [
    "#### Variance(mean squared error)"
   ]
  },
  {
   "cell_type": "code",
   "execution_count": 84,
   "metadata": {},
   "outputs": [
    {
     "data": {
      "text/plain": [
       "A    0.315632\n",
       "B    0.602143\n",
       "C    1.438792\n",
       "D    0.000000\n",
       "E    0.730310\n",
       "F    6.000000\n",
       "dtype: float64"
      ]
     },
     "execution_count": 84,
     "metadata": {},
     "output_type": "execute_result"
    }
   ],
   "source": [
    "df.var()"
   ]
  },
  {
   "cell_type": "markdown",
   "metadata": {},
   "source": [
    "#### Shift all values down "
   ]
  },
  {
   "cell_type": "code",
   "execution_count": 85,
   "metadata": {
    "scrolled": true
   },
   "outputs": [
    {
     "data": {
      "text/plain": [
       "2017-03-01     1.0\n",
       "2017-03-02     2.0\n",
       "2017-03-03     4.0\n",
       "2017-03-04     NaN\n",
       "2017-03-05     5.0\n",
       "2017-03-06     7.0\n",
       "2017-03-07     9.0\n",
       "2017-03-08    10.0\n",
       "Freq: D, dtype: float64"
      ]
     },
     "execution_count": 85,
     "metadata": {},
     "output_type": "execute_result"
    }
   ],
   "source": [
    "s=pd.Series([1,2,4,np.nan,5,7,9,10], index = dates)\n",
    "s"
   ]
  },
  {
   "cell_type": "code",
   "execution_count": 86,
   "metadata": {
    "scrolled": true
   },
   "outputs": [
    {
     "data": {
      "text/plain": [
       "2017-03-01    NaN\n",
       "2017-03-02    NaN\n",
       "2017-03-03    1.0\n",
       "2017-03-04    2.0\n",
       "2017-03-05    4.0\n",
       "2017-03-06    NaN\n",
       "2017-03-07    5.0\n",
       "2017-03-08    7.0\n",
       "Freq: D, dtype: float64"
      ]
     },
     "execution_count": 86,
     "metadata": {},
     "output_type": "execute_result"
    }
   ],
   "source": [
    "#shift down by 2 rows\n",
    "s.shift(2)"
   ]
  },
  {
   "cell_type": "markdown",
   "metadata": {},
   "source": [
    "#### Difference of two rows"
   ]
  },
  {
   "cell_type": "code",
   "execution_count": 87,
   "metadata": {
    "scrolled": true
   },
   "outputs": [
    {
     "data": {
      "text/plain": [
       "2017-03-01    NaN\n",
       "2017-03-02    NaN\n",
       "2017-03-03    3.0\n",
       "2017-03-04    NaN\n",
       "2017-03-05    1.0\n",
       "2017-03-06    NaN\n",
       "2017-03-07    4.0\n",
       "2017-03-08    3.0\n",
       "Freq: D, dtype: float64"
      ]
     },
     "execution_count": 87,
     "metadata": {},
     "output_type": "execute_result"
    }
   ],
   "source": [
    "#difference with next to next value\n",
    "s.diff(2)"
   ]
  },
  {
   "cell_type": "markdown",
   "metadata": {},
   "source": [
    "#### Value counts"
   ]
  },
  {
   "cell_type": "code",
   "execution_count": 88,
   "metadata": {
    "scrolled": true
   },
   "outputs": [
    {
     "data": {
      "text/plain": [
       "10.0    1\n",
       "9.0     1\n",
       "7.0     1\n",
       "5.0     1\n",
       "4.0     1\n",
       "2.0     1\n",
       "1.0     1\n",
       "dtype: int64"
      ]
     },
     "execution_count": 88,
     "metadata": {},
     "output_type": "execute_result"
    }
   ],
   "source": [
    "s.value_counts()"
   ]
  },
  {
   "cell_type": "markdown",
   "metadata": {},
   "source": [
    "#### apply a function to the series"
   ]
  },
  {
   "cell_type": "code",
   "execution_count": 89,
   "metadata": {
    "scrolled": true
   },
   "outputs": [
    {
     "data": {
      "text/html": [
       "<div>\n",
       "<style scoped>\n",
       "    .dataframe tbody tr th:only-of-type {\n",
       "        vertical-align: middle;\n",
       "    }\n",
       "\n",
       "    .dataframe tbody tr th {\n",
       "        vertical-align: top;\n",
       "    }\n",
       "\n",
       "    .dataframe thead th {\n",
       "        text-align: right;\n",
       "    }\n",
       "</style>\n",
       "<table border=\"1\" class=\"dataframe\">\n",
       "  <thead>\n",
       "    <tr style=\"text-align: right;\">\n",
       "      <th></th>\n",
       "      <th>A</th>\n",
       "      <th>B</th>\n",
       "      <th>C</th>\n",
       "      <th>D</th>\n",
       "      <th>E</th>\n",
       "      <th>F</th>\n",
       "    </tr>\n",
       "  </thead>\n",
       "  <tbody>\n",
       "    <tr>\n",
       "      <td>2017-03-01</td>\n",
       "      <td>0.000000</td>\n",
       "      <td>-0.700101</td>\n",
       "      <td>-2.753206</td>\n",
       "      <td>4</td>\n",
       "      <td>0.165208</td>\n",
       "      <td>10</td>\n",
       "    </tr>\n",
       "    <tr>\n",
       "      <td>2017-03-02</td>\n",
       "      <td>0.000000</td>\n",
       "      <td>0.466965</td>\n",
       "      <td>-2.485219</td>\n",
       "      <td>8</td>\n",
       "      <td>0.727271</td>\n",
       "      <td>21</td>\n",
       "    </tr>\n",
       "    <tr>\n",
       "      <td>2017-03-03</td>\n",
       "      <td>0.971818</td>\n",
       "      <td>1.266979</td>\n",
       "      <td>-1.973375</td>\n",
       "      <td>12</td>\n",
       "      <td>-0.177109</td>\n",
       "      <td>33</td>\n",
       "    </tr>\n",
       "    <tr>\n",
       "      <td>2017-03-04</td>\n",
       "      <td>1.832652</td>\n",
       "      <td>1.701755</td>\n",
       "      <td>-3.330029</td>\n",
       "      <td>16</td>\n",
       "      <td>-1.765962</td>\n",
       "      <td>46</td>\n",
       "    </tr>\n",
       "    <tr>\n",
       "      <td>2017-03-05</td>\n",
       "      <td>2.271644</td>\n",
       "      <td>0.817059</td>\n",
       "      <td>-3.394577</td>\n",
       "      <td>20</td>\n",
       "      <td>-1.142866</td>\n",
       "      <td>60</td>\n",
       "    </tr>\n",
       "    <tr>\n",
       "      <td>2017-03-06</td>\n",
       "      <td>3.664202</td>\n",
       "      <td>0.355356</td>\n",
       "      <td>-3.316944</td>\n",
       "      <td>24</td>\n",
       "      <td>-2.203677</td>\n",
       "      <td>75</td>\n",
       "    </tr>\n",
       "    <tr>\n",
       "      <td>2017-03-07</td>\n",
       "      <td>4.333518</td>\n",
       "      <td>1.221590</td>\n",
       "      <td>-2.290316</td>\n",
       "      <td>28</td>\n",
       "      <td>-1.660093</td>\n",
       "      <td>91</td>\n",
       "    </tr>\n",
       "    <tr>\n",
       "      <td>2017-03-08</td>\n",
       "      <td>4.106214</td>\n",
       "      <td>1.424967</td>\n",
       "      <td>-2.566333</td>\n",
       "      <td>32</td>\n",
       "      <td>-1.783838</td>\n",
       "      <td>108</td>\n",
       "    </tr>\n",
       "  </tbody>\n",
       "</table>\n",
       "</div>"
      ],
      "text/plain": [
       "                   A         B         C   D         E    F\n",
       "2017-03-01  0.000000 -0.700101 -2.753206   4  0.165208   10\n",
       "2017-03-02  0.000000  0.466965 -2.485219   8  0.727271   21\n",
       "2017-03-03  0.971818  1.266979 -1.973375  12 -0.177109   33\n",
       "2017-03-04  1.832652  1.701755 -3.330029  16 -1.765962   46\n",
       "2017-03-05  2.271644  0.817059 -3.394577  20 -1.142866   60\n",
       "2017-03-06  3.664202  0.355356 -3.316944  24 -2.203677   75\n",
       "2017-03-07  4.333518  1.221590 -2.290316  28 -1.660093   91\n",
       "2017-03-08  4.106214  1.424967 -2.566333  32 -1.783838  108"
      ]
     },
     "execution_count": 89,
     "metadata": {},
     "output_type": "execute_result"
    }
   ],
   "source": [
    "#apply function to each column axis =0, or each row axis =1\n",
    "df.apply(np.cumsum, axis =0)"
   ]
  },
  {
   "cell_type": "markdown",
   "metadata": {},
   "source": [
    "#### Lambda function"
   ]
  },
  {
   "cell_type": "code",
   "execution_count": 90,
   "metadata": {
    "scrolled": true
   },
   "outputs": [
    {
     "data": {
      "text/plain": [
       "A    1.619863\n",
       "B    2.051763\n",
       "C    3.779834\n",
       "D    0.000000\n",
       "E    2.211950\n",
       "F    7.000000\n",
       "dtype: float64"
      ]
     },
     "execution_count": 90,
     "metadata": {},
     "output_type": "execute_result"
    }
   ],
   "source": [
    "#calculate the difference between the max and min in each column\n",
    "df.apply(lambda x:x.max()-x.min())"
   ]
  },
  {
   "cell_type": "markdown",
   "metadata": {},
   "source": [
    "### Concatenate & Merge"
   ]
  },
  {
   "cell_type": "markdown",
   "metadata": {},
   "source": [
    "#### Concatenation"
   ]
  },
  {
   "cell_type": "code",
   "execution_count": 91,
   "metadata": {
    "scrolled": true
   },
   "outputs": [
    {
     "data": {
      "text/plain": [
       "[                   A         B         C  D         E   F\n",
       " 2017-03-01  0.000000 -0.700101 -2.753206  4  0.165208  10\n",
       " 2017-03-02  0.000000  1.167066  0.267987  4  0.562063  11\n",
       " 2017-03-03  0.971818  0.800013  0.511845  4 -0.904380  12,\n",
       "                    A         B         C  D         E   F\n",
       " 2017-03-06  1.392559 -0.461703  0.077633  4 -1.060811  15\n",
       " 2017-03-07  0.669316  0.866234  1.026628  4  0.543584  16\n",
       " 2017-03-08 -0.227305  0.203376 -0.276017  4 -0.123745  17]"
      ]
     },
     "execution_count": 91,
     "metadata": {},
     "output_type": "execute_result"
    }
   ],
   "source": [
    "pieces=[df[:3],df[-3:]]\n",
    "pieces"
   ]
  },
  {
   "cell_type": "code",
   "execution_count": 92,
   "metadata": {
    "scrolled": true
   },
   "outputs": [
    {
     "data": {
      "text/html": [
       "<div>\n",
       "<style scoped>\n",
       "    .dataframe tbody tr th:only-of-type {\n",
       "        vertical-align: middle;\n",
       "    }\n",
       "\n",
       "    .dataframe tbody tr th {\n",
       "        vertical-align: top;\n",
       "    }\n",
       "\n",
       "    .dataframe thead th {\n",
       "        text-align: right;\n",
       "    }\n",
       "</style>\n",
       "<table border=\"1\" class=\"dataframe\">\n",
       "  <thead>\n",
       "    <tr style=\"text-align: right;\">\n",
       "      <th></th>\n",
       "      <th>A</th>\n",
       "      <th>B</th>\n",
       "      <th>C</th>\n",
       "      <th>D</th>\n",
       "      <th>E</th>\n",
       "      <th>F</th>\n",
       "    </tr>\n",
       "  </thead>\n",
       "  <tbody>\n",
       "    <tr>\n",
       "      <td>2017-03-01</td>\n",
       "      <td>0.000000</td>\n",
       "      <td>-0.700101</td>\n",
       "      <td>-2.753206</td>\n",
       "      <td>4</td>\n",
       "      <td>0.165208</td>\n",
       "      <td>10</td>\n",
       "    </tr>\n",
       "    <tr>\n",
       "      <td>2017-03-02</td>\n",
       "      <td>0.000000</td>\n",
       "      <td>1.167066</td>\n",
       "      <td>0.267987</td>\n",
       "      <td>4</td>\n",
       "      <td>0.562063</td>\n",
       "      <td>11</td>\n",
       "    </tr>\n",
       "    <tr>\n",
       "      <td>2017-03-03</td>\n",
       "      <td>0.971818</td>\n",
       "      <td>0.800013</td>\n",
       "      <td>0.511845</td>\n",
       "      <td>4</td>\n",
       "      <td>-0.904380</td>\n",
       "      <td>12</td>\n",
       "    </tr>\n",
       "    <tr>\n",
       "      <td>2017-03-06</td>\n",
       "      <td>1.392559</td>\n",
       "      <td>-0.461703</td>\n",
       "      <td>0.077633</td>\n",
       "      <td>4</td>\n",
       "      <td>-1.060811</td>\n",
       "      <td>15</td>\n",
       "    </tr>\n",
       "    <tr>\n",
       "      <td>2017-03-07</td>\n",
       "      <td>0.669316</td>\n",
       "      <td>0.866234</td>\n",
       "      <td>1.026628</td>\n",
       "      <td>4</td>\n",
       "      <td>0.543584</td>\n",
       "      <td>16</td>\n",
       "    </tr>\n",
       "    <tr>\n",
       "      <td>2017-03-08</td>\n",
       "      <td>-0.227305</td>\n",
       "      <td>0.203376</td>\n",
       "      <td>-0.276017</td>\n",
       "      <td>4</td>\n",
       "      <td>-0.123745</td>\n",
       "      <td>17</td>\n",
       "    </tr>\n",
       "  </tbody>\n",
       "</table>\n",
       "</div>"
      ],
      "text/plain": [
       "                   A         B         C  D         E   F\n",
       "2017-03-01  0.000000 -0.700101 -2.753206  4  0.165208  10\n",
       "2017-03-02  0.000000  1.167066  0.267987  4  0.562063  11\n",
       "2017-03-03  0.971818  0.800013  0.511845  4 -0.904380  12\n",
       "2017-03-06  1.392559 -0.461703  0.077633  4 -1.060811  15\n",
       "2017-03-07  0.669316  0.866234  1.026628  4  0.543584  16\n",
       "2017-03-08 -0.227305  0.203376 -0.276017  4 -0.123745  17"
      ]
     },
     "execution_count": 92,
     "metadata": {},
     "output_type": "execute_result"
    }
   ],
   "source": [
    "# Concatenate first 3 and last 3 rows together\n",
    "pd.concat(pieces, axis =0)"
   ]
  },
  {
   "cell_type": "code",
   "execution_count": 93,
   "metadata": {},
   "outputs": [
    {
     "data": {
      "text/html": [
       "<div>\n",
       "<style scoped>\n",
       "    .dataframe tbody tr th:only-of-type {\n",
       "        vertical-align: middle;\n",
       "    }\n",
       "\n",
       "    .dataframe tbody tr th {\n",
       "        vertical-align: top;\n",
       "    }\n",
       "\n",
       "    .dataframe thead th {\n",
       "        text-align: right;\n",
       "    }\n",
       "</style>\n",
       "<table border=\"1\" class=\"dataframe\">\n",
       "  <thead>\n",
       "    <tr style=\"text-align: right;\">\n",
       "      <th></th>\n",
       "      <th>A</th>\n",
       "      <th>B</th>\n",
       "      <th>C</th>\n",
       "      <th>D</th>\n",
       "      <th>E</th>\n",
       "      <th>F</th>\n",
       "      <th>A</th>\n",
       "      <th>B</th>\n",
       "      <th>C</th>\n",
       "      <th>D</th>\n",
       "      <th>E</th>\n",
       "      <th>F</th>\n",
       "    </tr>\n",
       "  </thead>\n",
       "  <tbody>\n",
       "    <tr>\n",
       "      <td>2017-03-01</td>\n",
       "      <td>0.000000</td>\n",
       "      <td>-0.700101</td>\n",
       "      <td>-2.753206</td>\n",
       "      <td>4.0</td>\n",
       "      <td>0.165208</td>\n",
       "      <td>10.0</td>\n",
       "      <td>NaN</td>\n",
       "      <td>NaN</td>\n",
       "      <td>NaN</td>\n",
       "      <td>NaN</td>\n",
       "      <td>NaN</td>\n",
       "      <td>NaN</td>\n",
       "    </tr>\n",
       "    <tr>\n",
       "      <td>2017-03-02</td>\n",
       "      <td>0.000000</td>\n",
       "      <td>1.167066</td>\n",
       "      <td>0.267987</td>\n",
       "      <td>4.0</td>\n",
       "      <td>0.562063</td>\n",
       "      <td>11.0</td>\n",
       "      <td>NaN</td>\n",
       "      <td>NaN</td>\n",
       "      <td>NaN</td>\n",
       "      <td>NaN</td>\n",
       "      <td>NaN</td>\n",
       "      <td>NaN</td>\n",
       "    </tr>\n",
       "    <tr>\n",
       "      <td>2017-03-03</td>\n",
       "      <td>0.971818</td>\n",
       "      <td>0.800013</td>\n",
       "      <td>0.511845</td>\n",
       "      <td>4.0</td>\n",
       "      <td>-0.904380</td>\n",
       "      <td>12.0</td>\n",
       "      <td>NaN</td>\n",
       "      <td>NaN</td>\n",
       "      <td>NaN</td>\n",
       "      <td>NaN</td>\n",
       "      <td>NaN</td>\n",
       "      <td>NaN</td>\n",
       "    </tr>\n",
       "    <tr>\n",
       "      <td>2017-03-06</td>\n",
       "      <td>NaN</td>\n",
       "      <td>NaN</td>\n",
       "      <td>NaN</td>\n",
       "      <td>NaN</td>\n",
       "      <td>NaN</td>\n",
       "      <td>NaN</td>\n",
       "      <td>1.392559</td>\n",
       "      <td>-0.461703</td>\n",
       "      <td>0.077633</td>\n",
       "      <td>4.0</td>\n",
       "      <td>-1.060811</td>\n",
       "      <td>15.0</td>\n",
       "    </tr>\n",
       "    <tr>\n",
       "      <td>2017-03-07</td>\n",
       "      <td>NaN</td>\n",
       "      <td>NaN</td>\n",
       "      <td>NaN</td>\n",
       "      <td>NaN</td>\n",
       "      <td>NaN</td>\n",
       "      <td>NaN</td>\n",
       "      <td>0.669316</td>\n",
       "      <td>0.866234</td>\n",
       "      <td>1.026628</td>\n",
       "      <td>4.0</td>\n",
       "      <td>0.543584</td>\n",
       "      <td>16.0</td>\n",
       "    </tr>\n",
       "    <tr>\n",
       "      <td>2017-03-08</td>\n",
       "      <td>NaN</td>\n",
       "      <td>NaN</td>\n",
       "      <td>NaN</td>\n",
       "      <td>NaN</td>\n",
       "      <td>NaN</td>\n",
       "      <td>NaN</td>\n",
       "      <td>-0.227305</td>\n",
       "      <td>0.203376</td>\n",
       "      <td>-0.276017</td>\n",
       "      <td>4.0</td>\n",
       "      <td>-0.123745</td>\n",
       "      <td>17.0</td>\n",
       "    </tr>\n",
       "  </tbody>\n",
       "</table>\n",
       "</div>"
      ],
      "text/plain": [
       "                   A         B         C    D         E     F         A  \\\n",
       "2017-03-01  0.000000 -0.700101 -2.753206  4.0  0.165208  10.0       NaN   \n",
       "2017-03-02  0.000000  1.167066  0.267987  4.0  0.562063  11.0       NaN   \n",
       "2017-03-03  0.971818  0.800013  0.511845  4.0 -0.904380  12.0       NaN   \n",
       "2017-03-06       NaN       NaN       NaN  NaN       NaN   NaN  1.392559   \n",
       "2017-03-07       NaN       NaN       NaN  NaN       NaN   NaN  0.669316   \n",
       "2017-03-08       NaN       NaN       NaN  NaN       NaN   NaN -0.227305   \n",
       "\n",
       "                   B         C    D         E     F  \n",
       "2017-03-01       NaN       NaN  NaN       NaN   NaN  \n",
       "2017-03-02       NaN       NaN  NaN       NaN   NaN  \n",
       "2017-03-03       NaN       NaN  NaN       NaN   NaN  \n",
       "2017-03-06 -0.461703  0.077633  4.0 -1.060811  15.0  \n",
       "2017-03-07  0.866234  1.026628  4.0  0.543584  16.0  \n",
       "2017-03-08  0.203376 -0.276017  4.0 -0.123745  17.0  "
      ]
     },
     "execution_count": 93,
     "metadata": {},
     "output_type": "execute_result"
    }
   ],
   "source": [
    "# Concatenate first df at the end of second df, kept index in order\n",
    "pd.concat(pieces,axis=1)"
   ]
  },
  {
   "cell_type": "markdown",
   "metadata": {},
   "source": [
    "#### Merge"
   ]
  },
  {
   "cell_type": "code",
   "execution_count": 94,
   "metadata": {},
   "outputs": [
    {
     "data": {
      "text/html": [
       "<div>\n",
       "<style scoped>\n",
       "    .dataframe tbody tr th:only-of-type {\n",
       "        vertical-align: middle;\n",
       "    }\n",
       "\n",
       "    .dataframe tbody tr th {\n",
       "        vertical-align: top;\n",
       "    }\n",
       "\n",
       "    .dataframe thead th {\n",
       "        text-align: right;\n",
       "    }\n",
       "</style>\n",
       "<table border=\"1\" class=\"dataframe\">\n",
       "  <thead>\n",
       "    <tr style=\"text-align: right;\">\n",
       "      <th></th>\n",
       "      <th>keys</th>\n",
       "      <th>value</th>\n",
       "    </tr>\n",
       "  </thead>\n",
       "  <tbody>\n",
       "    <tr>\n",
       "      <td>0</td>\n",
       "      <td>x</td>\n",
       "      <td>1</td>\n",
       "    </tr>\n",
       "    <tr>\n",
       "      <td>1</td>\n",
       "      <td>y</td>\n",
       "      <td>2</td>\n",
       "    </tr>\n",
       "  </tbody>\n",
       "</table>\n",
       "</div>"
      ],
      "text/plain": [
       "  keys  value\n",
       "0    x      1\n",
       "1    y      2"
      ]
     },
     "execution_count": 94,
     "metadata": {},
     "output_type": "execute_result"
    }
   ],
   "source": [
    "left = pd.DataFrame({'keys':['x','y'],'value':[1,2]})\n",
    "left"
   ]
  },
  {
   "cell_type": "code",
   "execution_count": 95,
   "metadata": {},
   "outputs": [
    {
     "data": {
      "text/html": [
       "<div>\n",
       "<style scoped>\n",
       "    .dataframe tbody tr th:only-of-type {\n",
       "        vertical-align: middle;\n",
       "    }\n",
       "\n",
       "    .dataframe tbody tr th {\n",
       "        vertical-align: top;\n",
       "    }\n",
       "\n",
       "    .dataframe thead th {\n",
       "        text-align: right;\n",
       "    }\n",
       "</style>\n",
       "<table border=\"1\" class=\"dataframe\">\n",
       "  <thead>\n",
       "    <tr style=\"text-align: right;\">\n",
       "      <th></th>\n",
       "      <th>keys</th>\n",
       "      <th>value</th>\n",
       "    </tr>\n",
       "  </thead>\n",
       "  <tbody>\n",
       "    <tr>\n",
       "      <td>0</td>\n",
       "      <td>x</td>\n",
       "      <td>3</td>\n",
       "    </tr>\n",
       "    <tr>\n",
       "      <td>1</td>\n",
       "      <td>z</td>\n",
       "      <td>4</td>\n",
       "    </tr>\n",
       "  </tbody>\n",
       "</table>\n",
       "</div>"
      ],
      "text/plain": [
       "  keys  value\n",
       "0    x      3\n",
       "1    z      4"
      ]
     },
     "execution_count": 95,
     "metadata": {},
     "output_type": "execute_result"
    }
   ],
   "source": [
    "right = pd.DataFrame({'keys':['x','z'],'value':[3,4]})\n",
    "right"
   ]
  },
  {
   "cell_type": "code",
   "execution_count": 96,
   "metadata": {
    "scrolled": false
   },
   "outputs": [
    {
     "data": {
      "text/html": [
       "<div>\n",
       "<style scoped>\n",
       "    .dataframe tbody tr th:only-of-type {\n",
       "        vertical-align: middle;\n",
       "    }\n",
       "\n",
       "    .dataframe tbody tr th {\n",
       "        vertical-align: top;\n",
       "    }\n",
       "\n",
       "    .dataframe thead th {\n",
       "        text-align: right;\n",
       "    }\n",
       "</style>\n",
       "<table border=\"1\" class=\"dataframe\">\n",
       "  <thead>\n",
       "    <tr style=\"text-align: right;\">\n",
       "      <th></th>\n",
       "      <th>keys</th>\n",
       "      <th>value_x</th>\n",
       "      <th>value_y</th>\n",
       "    </tr>\n",
       "  </thead>\n",
       "  <tbody>\n",
       "    <tr>\n",
       "      <td>0</td>\n",
       "      <td>x</td>\n",
       "      <td>1</td>\n",
       "      <td>3.0</td>\n",
       "    </tr>\n",
       "    <tr>\n",
       "      <td>1</td>\n",
       "      <td>y</td>\n",
       "      <td>2</td>\n",
       "      <td>NaN</td>\n",
       "    </tr>\n",
       "  </tbody>\n",
       "</table>\n",
       "</div>"
      ],
      "text/plain": [
       "  keys  value_x  value_y\n",
       "0    x        1      3.0\n",
       "1    y        2      NaN"
      ]
     },
     "execution_count": 96,
     "metadata": {},
     "output_type": "execute_result"
    }
   ],
   "source": [
    "# left join, keep every thing on the left or right\n",
    "pd.merge(left,right, on='keys', how='left')"
   ]
  },
  {
   "cell_type": "code",
   "execution_count": 97,
   "metadata": {
    "scrolled": true
   },
   "outputs": [
    {
     "data": {
      "text/html": [
       "<div>\n",
       "<style scoped>\n",
       "    .dataframe tbody tr th:only-of-type {\n",
       "        vertical-align: middle;\n",
       "    }\n",
       "\n",
       "    .dataframe tbody tr th {\n",
       "        vertical-align: top;\n",
       "    }\n",
       "\n",
       "    .dataframe thead th {\n",
       "        text-align: right;\n",
       "    }\n",
       "</style>\n",
       "<table border=\"1\" class=\"dataframe\">\n",
       "  <thead>\n",
       "    <tr style=\"text-align: right;\">\n",
       "      <th></th>\n",
       "      <th>keys</th>\n",
       "      <th>value_x</th>\n",
       "      <th>value_y</th>\n",
       "    </tr>\n",
       "  </thead>\n",
       "  <tbody>\n",
       "    <tr>\n",
       "      <td>0</td>\n",
       "      <td>x</td>\n",
       "      <td>1</td>\n",
       "      <td>3</td>\n",
       "    </tr>\n",
       "  </tbody>\n",
       "</table>\n",
       "</div>"
      ],
      "text/plain": [
       "  keys  value_x  value_y\n",
       "0    x        1        3"
      ]
     },
     "execution_count": 97,
     "metadata": {},
     "output_type": "execute_result"
    }
   ],
   "source": [
    "# inner join, keep all non null values\n",
    "pd.merge(left,right, on='keys', how='inner')"
   ]
  },
  {
   "cell_type": "code",
   "execution_count": 98,
   "metadata": {
    "scrolled": true
   },
   "outputs": [
    {
     "data": {
      "text/html": [
       "<div>\n",
       "<style scoped>\n",
       "    .dataframe tbody tr th:only-of-type {\n",
       "        vertical-align: middle;\n",
       "    }\n",
       "\n",
       "    .dataframe tbody tr th {\n",
       "        vertical-align: top;\n",
       "    }\n",
       "\n",
       "    .dataframe thead th {\n",
       "        text-align: right;\n",
       "    }\n",
       "</style>\n",
       "<table border=\"1\" class=\"dataframe\">\n",
       "  <thead>\n",
       "    <tr style=\"text-align: right;\">\n",
       "      <th></th>\n",
       "      <th>keys</th>\n",
       "      <th>value_x</th>\n",
       "      <th>value_y</th>\n",
       "    </tr>\n",
       "  </thead>\n",
       "  <tbody>\n",
       "    <tr>\n",
       "      <td>0</td>\n",
       "      <td>x</td>\n",
       "      <td>1.0</td>\n",
       "      <td>3.0</td>\n",
       "    </tr>\n",
       "    <tr>\n",
       "      <td>1</td>\n",
       "      <td>y</td>\n",
       "      <td>2.0</td>\n",
       "      <td>NaN</td>\n",
       "    </tr>\n",
       "    <tr>\n",
       "      <td>2</td>\n",
       "      <td>z</td>\n",
       "      <td>NaN</td>\n",
       "      <td>4.0</td>\n",
       "    </tr>\n",
       "  </tbody>\n",
       "</table>\n",
       "</div>"
      ],
      "text/plain": [
       "  keys  value_x  value_y\n",
       "0    x      1.0      3.0\n",
       "1    y      2.0      NaN\n",
       "2    z      NaN      4.0"
      ]
     },
     "execution_count": 98,
     "metadata": {},
     "output_type": "execute_result"
    }
   ],
   "source": [
    "# inner join, keep all  null values\n",
    "pd.merge(left,right, on='keys', how='outer')"
   ]
  },
  {
   "cell_type": "markdown",
   "metadata": {},
   "source": [
    "#### Groupby"
   ]
  },
  {
   "cell_type": "code",
   "execution_count": 99,
   "metadata": {},
   "outputs": [
    {
     "data": {
      "text/html": [
       "<div>\n",
       "<style scoped>\n",
       "    .dataframe tbody tr th:only-of-type {\n",
       "        vertical-align: middle;\n",
       "    }\n",
       "\n",
       "    .dataframe tbody tr th {\n",
       "        vertical-align: top;\n",
       "    }\n",
       "\n",
       "    .dataframe thead th {\n",
       "        text-align: right;\n",
       "    }\n",
       "</style>\n",
       "<table border=\"1\" class=\"dataframe\">\n",
       "  <thead>\n",
       "    <tr style=\"text-align: right;\">\n",
       "      <th></th>\n",
       "      <th>A</th>\n",
       "      <th>B</th>\n",
       "    </tr>\n",
       "  </thead>\n",
       "  <tbody>\n",
       "    <tr>\n",
       "      <td>0</td>\n",
       "      <td>a</td>\n",
       "      <td>0</td>\n",
       "    </tr>\n",
       "    <tr>\n",
       "      <td>1</td>\n",
       "      <td>b</td>\n",
       "      <td>1</td>\n",
       "    </tr>\n",
       "    <tr>\n",
       "      <td>2</td>\n",
       "      <td>c</td>\n",
       "      <td>2</td>\n",
       "    </tr>\n",
       "    <tr>\n",
       "      <td>3</td>\n",
       "      <td>b</td>\n",
       "      <td>3</td>\n",
       "    </tr>\n",
       "  </tbody>\n",
       "</table>\n",
       "</div>"
      ],
      "text/plain": [
       "   A  B\n",
       "0  a  0\n",
       "1  b  1\n",
       "2  c  2\n",
       "3  b  3"
      ]
     },
     "execution_count": 99,
     "metadata": {},
     "output_type": "execute_result"
    }
   ],
   "source": [
    "df3=pd.DataFrame({\n",
    "    'A':['a','b','c','b'],\n",
    "    'B':list(range(4))              \n",
    "                  })\n",
    "df3"
   ]
  },
  {
   "cell_type": "code",
   "execution_count": 100,
   "metadata": {
    "scrolled": true
   },
   "outputs": [
    {
     "data": {
      "text/html": [
       "<div>\n",
       "<style scoped>\n",
       "    .dataframe tbody tr th:only-of-type {\n",
       "        vertical-align: middle;\n",
       "    }\n",
       "\n",
       "    .dataframe tbody tr th {\n",
       "        vertical-align: top;\n",
       "    }\n",
       "\n",
       "    .dataframe thead th {\n",
       "        text-align: right;\n",
       "    }\n",
       "</style>\n",
       "<table border=\"1\" class=\"dataframe\">\n",
       "  <thead>\n",
       "    <tr style=\"text-align: right;\">\n",
       "      <th></th>\n",
       "      <th>B</th>\n",
       "    </tr>\n",
       "    <tr>\n",
       "      <th>A</th>\n",
       "      <th></th>\n",
       "    </tr>\n",
       "  </thead>\n",
       "  <tbody>\n",
       "    <tr>\n",
       "      <td>a</td>\n",
       "      <td>0</td>\n",
       "    </tr>\n",
       "    <tr>\n",
       "      <td>b</td>\n",
       "      <td>4</td>\n",
       "    </tr>\n",
       "    <tr>\n",
       "      <td>c</td>\n",
       "      <td>2</td>\n",
       "    </tr>\n",
       "  </tbody>\n",
       "</table>\n",
       "</div>"
      ],
      "text/plain": [
       "   B\n",
       "A   \n",
       "a  0\n",
       "b  4\n",
       "c  2"
      ]
     },
     "execution_count": 100,
     "metadata": {},
     "output_type": "execute_result"
    }
   ],
   "source": [
    "df3.groupby('A').sum()"
   ]
  },
  {
   "cell_type": "markdown",
   "metadata": {},
   "source": [
    "#### Drop duplicates"
   ]
  },
  {
   "cell_type": "code",
   "execution_count": 101,
   "metadata": {
    "scrolled": true
   },
   "outputs": [
    {
     "data": {
      "text/html": [
       "<div>\n",
       "<style scoped>\n",
       "    .dataframe tbody tr th:only-of-type {\n",
       "        vertical-align: middle;\n",
       "    }\n",
       "\n",
       "    .dataframe tbody tr th {\n",
       "        vertical-align: top;\n",
       "    }\n",
       "\n",
       "    .dataframe thead th {\n",
       "        text-align: right;\n",
       "    }\n",
       "</style>\n",
       "<table border=\"1\" class=\"dataframe\">\n",
       "  <thead>\n",
       "    <tr style=\"text-align: right;\">\n",
       "      <th></th>\n",
       "      <th>A</th>\n",
       "      <th>B</th>\n",
       "    </tr>\n",
       "  </thead>\n",
       "  <tbody>\n",
       "    <tr>\n",
       "      <td>0</td>\n",
       "      <td>a</td>\n",
       "      <td>0</td>\n",
       "    </tr>\n",
       "    <tr>\n",
       "      <td>2</td>\n",
       "      <td>c</td>\n",
       "      <td>2</td>\n",
       "    </tr>\n",
       "    <tr>\n",
       "      <td>3</td>\n",
       "      <td>b</td>\n",
       "      <td>3</td>\n",
       "    </tr>\n",
       "  </tbody>\n",
       "</table>\n",
       "</div>"
      ],
      "text/plain": [
       "   A  B\n",
       "0  a  0\n",
       "2  c  2\n",
       "3  b  3"
      ]
     },
     "execution_count": 101,
     "metadata": {},
     "output_type": "execute_result"
    }
   ],
   "source": [
    "#drop duplicates form column A and keep the last duplicate\n",
    "df3.drop_duplicates(\"A\", keep='last')"
   ]
  },
  {
   "cell_type": "markdown",
   "metadata": {},
   "source": [
    "### Reshape"
   ]
  },
  {
   "cell_type": "markdown",
   "metadata": {},
   "source": [
    "#### Pivot table"
   ]
  },
  {
   "cell_type": "code",
   "execution_count": 102,
   "metadata": {
    "scrolled": true
   },
   "outputs": [
    {
     "data": {
      "text/html": [
       "<div>\n",
       "<style scoped>\n",
       "    .dataframe tbody tr th:only-of-type {\n",
       "        vertical-align: middle;\n",
       "    }\n",
       "\n",
       "    .dataframe tbody tr th {\n",
       "        vertical-align: top;\n",
       "    }\n",
       "\n",
       "    .dataframe thead th {\n",
       "        text-align: right;\n",
       "    }\n",
       "</style>\n",
       "<table border=\"1\" class=\"dataframe\">\n",
       "  <thead>\n",
       "    <tr style=\"text-align: right;\">\n",
       "      <th></th>\n",
       "      <th>A</th>\n",
       "      <th>B</th>\n",
       "      <th>C</th>\n",
       "      <th>D</th>\n",
       "      <th>E</th>\n",
       "      <th>F</th>\n",
       "    </tr>\n",
       "  </thead>\n",
       "  <tbody>\n",
       "    <tr>\n",
       "      <td>19</td>\n",
       "      <td>three</td>\n",
       "      <td>b</td>\n",
       "      <td>foo</td>\n",
       "      <td>1.098692</td>\n",
       "      <td>0.108120</td>\n",
       "      <td>2017-08-15</td>\n",
       "    </tr>\n",
       "    <tr>\n",
       "      <td>15</td>\n",
       "      <td>three</td>\n",
       "      <td>a</td>\n",
       "      <td>bar</td>\n",
       "      <td>1.279954</td>\n",
       "      <td>0.415535</td>\n",
       "      <td>2017-04-15</td>\n",
       "    </tr>\n",
       "    <tr>\n",
       "      <td>2</td>\n",
       "      <td>two</td>\n",
       "      <td>c</td>\n",
       "      <td>foo</td>\n",
       "      <td>-0.965782</td>\n",
       "      <td>-0.109168</td>\n",
       "      <td>2017-03-01</td>\n",
       "    </tr>\n",
       "    <tr>\n",
       "      <td>1</td>\n",
       "      <td>one</td>\n",
       "      <td>b</td>\n",
       "      <td>foo</td>\n",
       "      <td>-2.954480</td>\n",
       "      <td>-2.399872</td>\n",
       "      <td>2017-02-01</td>\n",
       "    </tr>\n",
       "    <tr>\n",
       "      <td>18</td>\n",
       "      <td>two</td>\n",
       "      <td>a</td>\n",
       "      <td>foo</td>\n",
       "      <td>0.177194</td>\n",
       "      <td>-0.801079</td>\n",
       "      <td>2017-07-15</td>\n",
       "    </tr>\n",
       "  </tbody>\n",
       "</table>\n",
       "</div>"
      ],
      "text/plain": [
       "        A  B    C         D         E          F\n",
       "19  three  b  foo  1.098692  0.108120 2017-08-15\n",
       "15  three  a  bar  1.279954  0.415535 2017-04-15\n",
       "2     two  c  foo -0.965782 -0.109168 2017-03-01\n",
       "1     one  b  foo -2.954480 -2.399872 2017-02-01\n",
       "18    two  a  foo  0.177194 -0.801079 2017-07-15"
      ]
     },
     "execution_count": 102,
     "metadata": {},
     "output_type": "execute_result"
    }
   ],
   "source": [
    "import datetime\n",
    "df4=pd.DataFrame({\n",
    "    'A':['one','one','two','three']*6,\n",
    "    'B':['a','b','c']*8,\n",
    "    'C':['foo','foo','foo','bar','bar','bar',]*4,\n",
    "    'D':np.random.randn(24),\n",
    "    'E':np.random.randn(24),\n",
    "    'F':[datetime.datetime(2017,i,1) for i in range(1,13)]+\n",
    "        [datetime.datetime(2017,i,15) for i in range(1,13)]\n",
    "})\n",
    "df4.sample(5)"
   ]
  },
  {
   "cell_type": "code",
   "execution_count": 103,
   "metadata": {
    "scrolled": true
   },
   "outputs": [
    {
     "data": {
      "text/html": [
       "<div>\n",
       "<style scoped>\n",
       "    .dataframe tbody tr th:only-of-type {\n",
       "        vertical-align: middle;\n",
       "    }\n",
       "\n",
       "    .dataframe tbody tr th {\n",
       "        vertical-align: top;\n",
       "    }\n",
       "\n",
       "    .dataframe thead th {\n",
       "        text-align: right;\n",
       "    }\n",
       "</style>\n",
       "<table border=\"1\" class=\"dataframe\">\n",
       "  <thead>\n",
       "    <tr style=\"text-align: right;\">\n",
       "      <th></th>\n",
       "      <th>C</th>\n",
       "      <th>bar</th>\n",
       "      <th>foo</th>\n",
       "    </tr>\n",
       "    <tr>\n",
       "      <th>A</th>\n",
       "      <th>B</th>\n",
       "      <th></th>\n",
       "      <th></th>\n",
       "    </tr>\n",
       "  </thead>\n",
       "  <tbody>\n",
       "    <tr>\n",
       "      <td rowspan=\"3\" valign=\"top\">one</td>\n",
       "      <td>a</td>\n",
       "      <td>0.157514</td>\n",
       "      <td>-0.160082</td>\n",
       "    </tr>\n",
       "    <tr>\n",
       "      <td>b</td>\n",
       "      <td>0.061679</td>\n",
       "      <td>-1.316047</td>\n",
       "    </tr>\n",
       "    <tr>\n",
       "      <td>c</td>\n",
       "      <td>2.005418</td>\n",
       "      <td>0.548771</td>\n",
       "    </tr>\n",
       "    <tr>\n",
       "      <td rowspan=\"3\" valign=\"top\">three</td>\n",
       "      <td>a</td>\n",
       "      <td>0.572223</td>\n",
       "      <td>NaN</td>\n",
       "    </tr>\n",
       "    <tr>\n",
       "      <td>b</td>\n",
       "      <td>NaN</td>\n",
       "      <td>0.380795</td>\n",
       "    </tr>\n",
       "    <tr>\n",
       "      <td>c</td>\n",
       "      <td>-0.033123</td>\n",
       "      <td>NaN</td>\n",
       "    </tr>\n",
       "    <tr>\n",
       "      <td rowspan=\"3\" valign=\"top\">two</td>\n",
       "      <td>a</td>\n",
       "      <td>NaN</td>\n",
       "      <td>-0.868629</td>\n",
       "    </tr>\n",
       "    <tr>\n",
       "      <td>b</td>\n",
       "      <td>0.368996</td>\n",
       "      <td>NaN</td>\n",
       "    </tr>\n",
       "    <tr>\n",
       "      <td>c</td>\n",
       "      <td>NaN</td>\n",
       "      <td>-0.292782</td>\n",
       "    </tr>\n",
       "  </tbody>\n",
       "</table>\n",
       "</div>"
      ],
      "text/plain": [
       "C             bar       foo\n",
       "A     B                    \n",
       "one   a  0.157514 -0.160082\n",
       "      b  0.061679 -1.316047\n",
       "      c  2.005418  0.548771\n",
       "three a  0.572223       NaN\n",
       "      b       NaN  0.380795\n",
       "      c -0.033123       NaN\n",
       "two   a       NaN -0.868629\n",
       "      b  0.368996       NaN\n",
       "      c       NaN -0.292782"
      ]
     },
     "execution_count": 103,
     "metadata": {},
     "output_type": "execute_result"
    }
   ],
   "source": [
    "pd.pivot_table(df4,values=\"D\",index=['A','B'], columns=['C'],  aggfunc='mean')"
   ]
  },
  {
   "cell_type": "code",
   "execution_count": 104,
   "metadata": {},
   "outputs": [
    {
     "data": {
      "text/plain": [
       "A      B  C  \n",
       "one    a  bar    0.157514\n",
       "          foo   -0.160082\n",
       "       b  bar    0.061679\n",
       "          foo   -1.316047\n",
       "       c  bar    2.005418\n",
       "          foo    0.548771\n",
       "three  a  bar    0.572223\n",
       "       b  foo    0.380795\n",
       "       c  bar   -0.033123\n",
       "two    a  foo   -0.868629\n",
       "       b  bar    0.368996\n",
       "       c  foo   -0.292782\n",
       "Name: D, dtype: float64"
      ]
     },
     "execution_count": 104,
     "metadata": {},
     "output_type": "execute_result"
    }
   ],
   "source": [
    "# equivalent to above\n",
    "df4.groupby(['A','B','C']).D.mean()"
   ]
  },
  {
   "cell_type": "markdown",
   "metadata": {},
   "source": [
    "## Time Series & Graph &Files"
   ]
  },
  {
   "cell_type": "markdown",
   "metadata": {},
   "source": [
    "### Time Series"
   ]
  },
  {
   "cell_type": "code",
   "execution_count": 105,
   "metadata": {},
   "outputs": [
    {
     "data": {
      "text/plain": [
       "DatetimeIndex(['2017-03-01 00:00:00', '2017-03-01 00:00:01',\n",
       "               '2017-03-01 00:00:02', '2017-03-01 00:00:03',\n",
       "               '2017-03-01 00:00:04', '2017-03-01 00:00:05',\n",
       "               '2017-03-01 00:00:06', '2017-03-01 00:00:07',\n",
       "               '2017-03-01 00:00:08', '2017-03-01 00:00:09'],\n",
       "              dtype='datetime64[ns]', freq='S')"
      ]
     },
     "execution_count": 105,
     "metadata": {},
     "output_type": "execute_result"
    }
   ],
   "source": [
    "#frequncy = 'Seconds'\n",
    "t_exam = pd.date_range('20170301', periods=10, freq='S')\n",
    "t_exam"
   ]
  },
  {
   "cell_type": "markdown",
   "metadata": {},
   "source": [
    "### Graph"
   ]
  },
  {
   "cell_type": "code",
   "execution_count": 106,
   "metadata": {},
   "outputs": [
    {
     "data": {
      "text/plain": [
       "2017-03-01   -0.032751\n",
       "2017-03-02    0.352722\n",
       "2017-03-03    0.234086\n",
       "2017-03-04    1.018234\n",
       "2017-03-05    0.197731\n",
       "                ...   \n",
       "2019-11-21    0.133196\n",
       "2019-11-22    0.955199\n",
       "2019-11-23    1.058106\n",
       "2019-11-24    1.122441\n",
       "2019-11-25   -1.624311\n",
       "Freq: D, Length: 1000, dtype: float64"
      ]
     },
     "execution_count": 106,
     "metadata": {},
     "output_type": "execute_result"
    }
   ],
   "source": [
    "ts=pd.Series(np.random.randn(1000),index=pd.date_range('20170301', periods=1000))\n",
    "ts"
   ]
  },
  {
   "cell_type": "code",
   "execution_count": 107,
   "metadata": {},
   "outputs": [
    {
     "data": {
      "text/plain": [
       "2017-03-01   -0.032751\n",
       "2017-03-02    0.319971\n",
       "2017-03-03    0.554057\n",
       "2017-03-04    1.572291\n",
       "2017-03-05    1.770021\n",
       "                ...   \n",
       "2019-11-21   -5.774216\n",
       "2019-11-22   -4.819018\n",
       "2019-11-23   -3.760912\n",
       "2019-11-24   -2.638471\n",
       "2019-11-25   -4.262782\n",
       "Freq: D, Length: 1000, dtype: float64"
      ]
     },
     "execution_count": 107,
     "metadata": {},
     "output_type": "execute_result"
    }
   ],
   "source": [
    "# Calculate accumalative sum\n",
    "ts =ts.cumsum()\n",
    "ts"
   ]
  },
  {
   "cell_type": "markdown",
   "metadata": {},
   "source": [
    "#### Line plot"
   ]
  },
  {
   "cell_type": "code",
   "execution_count": 108,
   "metadata": {},
   "outputs": [
    {
     "data": {
      "text/plain": [
       "<matplotlib.axes._subplots.AxesSubplot at 0x11ce70fd0>"
      ]
     },
     "execution_count": 108,
     "metadata": {},
     "output_type": "execute_result"
    },
    {
     "data": {
      "image/png": "[encoded data removed]",
      "text/plain": [
       "<Figure size 432x288 with 1 Axes>"
      ]
     },
     "metadata": {
      "needs_background": "light"
     },
     "output_type": "display_data"
    }
   ],
   "source": [
    "ts.plot()"
   ]
  },
  {
   "cell_type": "markdown",
   "metadata": {},
   "source": [
    "#### Histogram"
   ]
  },
  {
   "cell_type": "code",
   "execution_count": 109,
   "metadata": {
    "scrolled": false
   },
   "outputs": [
    {
     "data": {
      "text/plain": [
       "<matplotlib.axes._subplots.AxesSubplot at 0x11cfe27d0>"
      ]
     },
     "execution_count": 109,
     "metadata": {},
     "output_type": "execute_result"
    },
    {
     "data": {
      "image/png": "[encoded data removed]",
      "text/plain": [
       "<Figure size 432x288 with 1 Axes>"
      ]
     },
     "metadata": {
      "needs_background": "light"
     },
     "output_type": "display_data"
    }
   ],
   "source": [
    "ts.hist()"
   ]
  },
  {
   "cell_type": "markdown",
   "metadata": {},
   "source": [
    "### Files"
   ]
  },
  {
   "cell_type": "markdown",
   "metadata": {},
   "source": [
    "#### Read files"
   ]
  },
  {
   "cell_type": "markdown",
   "metadata": {},
   "source": [
    "pd.read_csv(\"file_name.csv\" or 'url')"
   ]
  },
  {
   "cell_type": "markdown",
   "metadata": {},
   "source": [
    "pd.read_excel('file_name.xlsx', \"Sheet_nameb\")"
   ]
  },
  {
   "cell_type": "markdown",
   "metadata": {},
   "source": [
    "#### Save files"
   ]
  },
  {
   "cell_type": "markdown",
   "metadata": {},
   "source": [
    "df.to_csv('file_name.csv')"
   ]
  },
  {
   "cell_type": "markdown",
   "metadata": {},
   "source": [
    "df.to_excel('file_name.xlsx')"
   ]
  }
 ],
 "metadata": {
  "kernelspec": {
   "display_name": "Python 3",
   "language": "python",
   "name": "python3"
  },
  "language_info": {
   "codemirror_mode": {
    "name": "ipython",
    "version": 3
   },
   "file_extension": ".py",
   "mimetype": "text/x-python",
   "name": "python",
   "nbconvert_exporter": "python",
   "pygments_lexer": "ipython3",
   "version": "3.7.4"
  },
  "toc": {
   "base_numbering": 1,
   "nav_menu": {
    "height": "12px",
    "width": "160px"
   },
   "number_sections": true,
   "sideBar": true,
   "skip_h1_title": false,
   "title_cell": "Table of Contents",
   "title_sidebar": "Contents",
   "toc_cell": true,
   "toc_position": {
    "height": "476.8px",
    "left": "21px",
    "top": "67.6px",
    "width": "354.4px"
   },
   "toc_section_display": true,
   "toc_window_display": false
  }
 },
 "nbformat": 4,
 "nbformat_minor": 2
}
